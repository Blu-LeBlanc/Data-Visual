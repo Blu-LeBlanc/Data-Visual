{
 "cells": [
  {
   "cell_type": "code",
   "execution_count": 1,
   "id": "adc9946d",
   "metadata": {
    "_cell_guid": "b1076dfc-b9ad-4769-8c92-a6c4dae69d19",
    "_kg_hide-input": true,
    "_kg_hide-output": true,
    "_uuid": "8f2839f25d086af736a60e9eeb907d3b93b6e0e5",
    "execution": {
     "iopub.execute_input": "2025-03-02T06:32:41.838898Z",
     "iopub.status.busy": "2025-03-02T06:32:41.838464Z",
     "iopub.status.idle": "2025-03-02T06:32:42.677059Z",
     "shell.execute_reply": "2025-03-02T06:32:42.676015Z"
    },
    "jupyter": {
     "source_hidden": true
    },
    "papermill": {
     "duration": 0.846743,
     "end_time": "2025-03-02T06:32:42.678890",
     "exception": false,
     "start_time": "2025-03-02T06:32:41.832147",
     "status": "completed"
    },
    "tags": []
   },
   "outputs": [],
   "source": [
    "%%capture output\n",
    "import numpy as np # linear algebra\n",
    "import pandas as pd # data processing, CSV file I/O (e.g. pd.read_csv)\n",
    "\n",
    "import os\n",
    "for dirname, _, filenames in os.walk('/kaggle/input'):\n",
    "    for filename in filenames:\n",
    "        print(os.path.join(dirname, filename))"
   ]
  },
  {
   "cell_type": "markdown",
   "id": "cd29d9ca",
   "metadata": {
    "papermill": {
     "duration": 0.00376,
     "end_time": "2025-03-02T06:32:42.687247",
     "exception": false,
     "start_time": "2025-03-02T06:32:42.683487",
     "status": "completed"
    },
    "tags": []
   },
   "source": [
    "# Recap of Project"
   ]
  },
  {
   "cell_type": "markdown",
   "id": "47ed409e",
   "metadata": {
    "papermill": {
     "duration": 0.003583,
     "end_time": "2025-03-02T06:32:42.694737",
     "exception": false,
     "start_time": "2025-03-02T06:32:42.691154",
     "status": "completed"
    },
    "tags": []
   },
   "source": [
    "1. I found a dataset on kaggle with information on the 100 most watched anime in the world. The data is public domain and consists of columns detailing the ratings, number of episodes, budget, release year, genre, and other categories. I want to visualize the most important information in this dataset. I am most interested in the ratings of the anime. Since there are so many anime, I decided to look at the average ratings for each designated genre. I am also curious which anime is the most watched in each country.\n",
    "\n",
    "2. Below I have created a dashboard summarizing the most important details gleaned from this dataset. The visual is a combination of bar chart, scatterplot, density plot, pie chart, and map of the world. I focused primarily on understanding if budget influenced the rating of a specific anime and giving a proportion of the genre of anime. Finally I provided a map showcasing the most watched anime in each part of the world. I decided on easy-to-understand graphics and gave users the option to filter out certain genres when viewing ratings. I made sure to use a variety of colors to distinguish the anime genres. I also included a legend so the user can filter out certain genres when viewing a genre's rating compared to it's budget. The dashboard is also interactive. The user can mouse over different points in the plots to get a clear picture of what is represented. This is very important if the user has trouble reading smaller details. I ended up creating the entire visualization in kaggle, which caused some issues down-the-line. Unfortunately my visual ended up being rather rushed due to time constraints and my final product has significant room for improvement.\n",
    "\n",
    "3. For my evaluation, I wasn't able to get any professional insight. Instead, I showed my final product to a fellow peer and two family members. I was able to talk directly to the person evaluating, which meant my evaluation approach was rather free-flowing. I made sure to ask certain questions to each person pertaining to how pleasing the visual was to look at, how confusing the visual was, and what insights did you get from looking at the visual. One of the biggest criticisms I recieved was how all over the place the visual was. It was hard for my participants to understand the purpose of the visualization. I think I was a bit too broad with my focus. I should have narrowed my goal down to only looking at one variable. I also recieved a lot of criticism on the map of the world and the legend. In regards to the map, I didn't have data on all countries so some countries were colorful and some were grey and empty. This contrast did not help the plot at all. The legend also had a lot of issues. It was hard for the participants to determine what the legend did and which plot the legend effected. Most of all, the visual was described as \"too barebones.\"\n",
    "\n",
    "4. Overall my visualization has many, many issues. The only positive I can say is that the color scheme isn't unpleasant. I recieved no complaints about the pie chart and the plots about ratings weren't terrible. I think creating this visualization entirely in kaggle was a huge problem. For future iterations, I would scrap the world map entirely and focus only on the anime ratings and genres. The bar chart of highest budget anime was very out of place and did not fit with the theme of the rest of the plots. I would also definitely need to spend more time and create a dashboard in tableau or another program that is specifically designed for dashboards. Creating a dashboard in kaggle just ended up feeling unfinished, messy, and unsatisfying. \n"
   ]
  },
  {
   "cell_type": "code",
   "execution_count": 2,
   "id": "8b654ce8",
   "metadata": {
    "execution": {
     "iopub.execute_input": "2025-03-02T06:32:42.703697Z",
     "iopub.status.busy": "2025-03-02T06:32:42.703229Z",
     "iopub.status.idle": "2025-03-02T06:32:42.707170Z",
     "shell.execute_reply": "2025-03-02T06:32:42.706279Z"
    },
    "jupyter": {
     "source_hidden": true
    },
    "papermill": {
     "duration": 0.010286,
     "end_time": "2025-03-02T06:32:42.708804",
     "exception": false,
     "start_time": "2025-03-02T06:32:42.698518",
     "status": "completed"
    },
    "tags": []
   },
   "outputs": [],
   "source": [
    "import warnings\n",
    "warnings.filterwarnings(\"ignore\")"
   ]
  },
  {
   "cell_type": "code",
   "execution_count": 3,
   "id": "111c1849",
   "metadata": {
    "execution": {
     "iopub.execute_input": "2025-03-02T06:32:42.718379Z",
     "iopub.status.busy": "2025-03-02T06:32:42.718063Z",
     "iopub.status.idle": "2025-03-02T06:32:42.735696Z",
     "shell.execute_reply": "2025-03-02T06:32:42.734945Z"
    },
    "jupyter": {
     "source_hidden": true
    },
    "papermill": {
     "duration": 0.024187,
     "end_time": "2025-03-02T06:32:42.737485",
     "exception": false,
     "start_time": "2025-03-02T06:32:42.713298",
     "status": "completed"
    },
    "tags": []
   },
   "outputs": [],
   "source": [
    "df = pd.read_csv(\"/kaggle/input/100-most-watched-anime-in-the-world/most_watched_anime_dataset_100_entries.csv\")"
   ]
  },
  {
   "cell_type": "code",
   "execution_count": 4,
   "id": "70df4fcb",
   "metadata": {
    "collapsed": true,
    "execution": {
     "iopub.execute_input": "2025-03-02T06:32:42.747148Z",
     "iopub.status.busy": "2025-03-02T06:32:42.746775Z",
     "iopub.status.idle": "2025-03-02T06:32:42.759686Z",
     "shell.execute_reply": "2025-03-02T06:32:42.758602Z"
    },
    "jupyter": {
     "outputs_hidden": true,
     "source_hidden": true
    },
    "papermill": {
     "duration": 0.01948,
     "end_time": "2025-03-02T06:32:42.761312",
     "exception": false,
     "start_time": "2025-03-02T06:32:42.741832",
     "status": "completed"
    },
    "tags": []
   },
   "outputs": [
    {
     "data": {
      "text/plain": [
       "Anime Name                        10\n",
       "Most Watched in Country           10\n",
       "Ratings                           10\n",
       "Number of Episodes                10\n",
       "Animation Studio Name             10\n",
       "Budget (in Million USD)           10\n",
       "Release Year                      10\n",
       "Genre                             10\n",
       "Duration per Episode (minutes)    10\n",
       "dtype: int64"
      ]
     },
     "execution_count": 4,
     "metadata": {},
     "output_type": "execute_result"
    }
   ],
   "source": [
    "df.isnull().sum()"
   ]
  },
  {
   "cell_type": "code",
   "execution_count": 5,
   "id": "e16f374b",
   "metadata": {
    "execution": {
     "iopub.execute_input": "2025-03-02T06:32:42.771307Z",
     "iopub.status.busy": "2025-03-02T06:32:42.770943Z",
     "iopub.status.idle": "2025-03-02T06:32:42.781345Z",
     "shell.execute_reply": "2025-03-02T06:32:42.780060Z"
    },
    "jupyter": {
     "source_hidden": true
    },
    "papermill": {
     "duration": 0.017316,
     "end_time": "2025-03-02T06:32:42.783141",
     "exception": false,
     "start_time": "2025-03-02T06:32:42.765825",
     "status": "completed"
    },
    "tags": []
   },
   "outputs": [],
   "source": [
    "df.dropna(inplace=True)"
   ]
  },
  {
   "cell_type": "code",
   "execution_count": 6,
   "id": "aee7ce79",
   "metadata": {
    "collapsed": true,
    "execution": {
     "iopub.execute_input": "2025-03-02T06:32:42.792884Z",
     "iopub.status.busy": "2025-03-02T06:32:42.792508Z",
     "iopub.status.idle": "2025-03-02T06:32:49.129440Z",
     "shell.execute_reply": "2025-03-02T06:32:49.128366Z"
    },
    "jupyter": {
     "outputs_hidden": true,
     "source_hidden": true
    },
    "papermill": {
     "duration": 6.34437,
     "end_time": "2025-03-02T06:32:49.131883",
     "exception": false,
     "start_time": "2025-03-02T06:32:42.787513",
     "status": "completed"
    },
    "tags": []
   },
   "outputs": [
    {
     "name": "stdout",
     "output_type": "stream",
     "text": [
      "Requirement already satisfied: altair in /usr/local/lib/python3.10/dist-packages (5.5.0)\r\n",
      "\u001b[31mERROR: Could not find a version that satisfies the requirement upgrade (from versions: none)\u001b[0m\u001b[31m\r\n",
      "\u001b[0m\u001b[31mERROR: No matching distribution found for upgrade\u001b[0m\u001b[31m\r\n",
      "\u001b[0mRequirement already satisfied: vega_datasets in /usr/local/lib/python3.10/dist-packages (0.9.0)\r\n",
      "Requirement already satisfied: pandas in /usr/local/lib/python3.10/dist-packages (from vega_datasets) (2.2.3)\r\n",
      "Requirement already satisfied: numpy>=1.22.4 in /usr/local/lib/python3.10/dist-packages (from pandas->vega_datasets) (1.26.4)\r\n",
      "Requirement already satisfied: python-dateutil>=2.8.2 in /usr/local/lib/python3.10/dist-packages (from pandas->vega_datasets) (2.9.0.post0)\r\n",
      "Requirement already satisfied: pytz>=2020.1 in /usr/local/lib/python3.10/dist-packages (from pandas->vega_datasets) (2025.1)\r\n",
      "Requirement already satisfied: tzdata>=2022.7 in /usr/local/lib/python3.10/dist-packages (from pandas->vega_datasets) (2025.1)\r\n",
      "Requirement already satisfied: mkl_fft in /usr/local/lib/python3.10/dist-packages (from numpy>=1.22.4->pandas->vega_datasets) (1.3.8)\r\n",
      "Requirement already satisfied: mkl_random in /usr/local/lib/python3.10/dist-packages (from numpy>=1.22.4->pandas->vega_datasets) (1.2.4)\r\n",
      "Requirement already satisfied: mkl_umath in /usr/local/lib/python3.10/dist-packages (from numpy>=1.22.4->pandas->vega_datasets) (0.1.1)\r\n",
      "Requirement already satisfied: mkl in /usr/local/lib/python3.10/dist-packages (from numpy>=1.22.4->pandas->vega_datasets) (2025.0.1)\r\n",
      "Requirement already satisfied: tbb4py in /usr/local/lib/python3.10/dist-packages (from numpy>=1.22.4->pandas->vega_datasets) (2022.0.0)\r\n",
      "Requirement already satisfied: mkl-service in /usr/local/lib/python3.10/dist-packages (from numpy>=1.22.4->pandas->vega_datasets) (2.4.1)\r\n",
      "Requirement already satisfied: six>=1.5 in /usr/local/lib/python3.10/dist-packages (from python-dateutil>=2.8.2->pandas->vega_datasets) (1.17.0)\r\n",
      "Requirement already satisfied: intel-openmp>=2024 in /usr/local/lib/python3.10/dist-packages (from mkl->numpy>=1.22.4->pandas->vega_datasets) (2024.2.0)\r\n",
      "Requirement already satisfied: tbb==2022.* in /usr/local/lib/python3.10/dist-packages (from mkl->numpy>=1.22.4->pandas->vega_datasets) (2022.0.0)\r\n",
      "Requirement already satisfied: tcmlib==1.* in /usr/local/lib/python3.10/dist-packages (from tbb==2022.*->mkl->numpy>=1.22.4->pandas->vega_datasets) (1.2.0)\r\n",
      "Requirement already satisfied: intel-cmplr-lib-rt in /usr/local/lib/python3.10/dist-packages (from mkl_umath->numpy>=1.22.4->pandas->vega_datasets) (2024.2.0)\r\n",
      "Requirement already satisfied: intel-cmplr-lib-ur==2024.2.0 in /usr/local/lib/python3.10/dist-packages (from intel-openmp>=2024->mkl->numpy>=1.22.4->pandas->vega_datasets) (2024.2.0)\r\n"
     ]
    }
   ],
   "source": [
    "!pip install altair -- upgrade\n",
    "!pip install vega_datasets"
   ]
  },
  {
   "cell_type": "code",
   "execution_count": 7,
   "id": "c6fb768b",
   "metadata": {
    "execution": {
     "iopub.execute_input": "2025-03-02T06:32:49.142816Z",
     "iopub.status.busy": "2025-03-02T06:32:49.142427Z",
     "iopub.status.idle": "2025-03-02T06:32:52.024688Z",
     "shell.execute_reply": "2025-03-02T06:32:52.023796Z"
    },
    "jupyter": {
     "source_hidden": true
    },
    "papermill": {
     "duration": 2.889914,
     "end_time": "2025-03-02T06:32:52.026621",
     "exception": false,
     "start_time": "2025-03-02T06:32:49.136707",
     "status": "completed"
    },
    "tags": []
   },
   "outputs": [],
   "source": [
    "import pandas as pd\n",
    "import seaborn as sns\n",
    "import matplotlib.pyplot as plt\n",
    "import plotly.express as px\n",
    "import altair as alt\n",
    "from plotly.subplots import make_subplots\n",
    "import plotly.graph_objects as go"
   ]
  },
  {
   "cell_type": "code",
   "execution_count": 8,
   "id": "1cef2e47",
   "metadata": {
    "collapsed": true,
    "execution": {
     "iopub.execute_input": "2025-03-02T06:32:52.037718Z",
     "iopub.status.busy": "2025-03-02T06:32:52.037158Z",
     "iopub.status.idle": "2025-03-02T06:32:53.909765Z",
     "shell.execute_reply": "2025-03-02T06:32:53.908693Z"
    },
    "jupyter": {
     "outputs_hidden": true,
     "source_hidden": true
    },
    "papermill": {
     "duration": 1.880026,
     "end_time": "2025-03-02T06:32:53.911494",
     "exception": false,
     "start_time": "2025-03-02T06:32:52.031468",
     "status": "completed"
    },
    "tags": []
   },
   "outputs": [
    {
     "data": {
      "text/html": [
       "<html>\n",
       "<head><meta charset=\"utf-8\" /></head>\n",
       "<body>\n",
       "    <div>            <script src=\"https://cdnjs.cloudflare.com/ajax/libs/mathjax/2.7.5/MathJax.js?config=TeX-AMS-MML_SVG\"></script><script type=\"text/javascript\">if (window.MathJax && window.MathJax.Hub && window.MathJax.Hub.Config) {window.MathJax.Hub.Config({SVG: {font: \"STIX-Web\"}});}</script>                <script type=\"text/javascript\">window.PlotlyConfig = {MathJaxConfig: 'local'};</script>\n",
       "        <script charset=\"utf-8\" src=\"https://cdn.plot.ly/plotly-2.35.2.min.js\"></script>                <div id=\"8c6e7f15-f564-4b3f-a0bb-6c547bb04ac5\" class=\"plotly-graph-div\" style=\"height:525px; width:100%;\"></div>            <script type=\"text/javascript\">                                    window.PLOTLYENV=window.PLOTLYENV || {};                                    if (document.getElementById(\"8c6e7f15-f564-4b3f-a0bb-6c547bb04ac5\")) {                    Plotly.newPlot(                        \"8c6e7f15-f564-4b3f-a0bb-6c547bb04ac5\",                        [{\"contours\":{\"coloring\":\"none\"},\"hovertemplate\":\"Ratings=%{x}\\u003cbr\\u003eBudget (in Million USD)=%{y}\\u003cbr\\u003ecount=%{z}\\u003cextra\\u003e\\u003c\\u002fextra\\u003e\",\"legendgroup\":\"\",\"line\":{\"color\":\"#636efa\"},\"name\":\"\",\"showlegend\":false,\"x\":[9.2,9.4,6.9,8.1,7.0,9.9,6.8,7.1,9.4,9.6,9.4,9.1,8.3,7.5,9.8,6.7,7.5,7.2,8.5,7.0,9.9,7.4,6.9,8.3,9.5,9.8,7.3,8.3,9.9,6.3,6.8,7.9,7.5,9.4,6.3,6.8,8.7,9.4,8.8,7.2,7.7],\"xaxis\":\"x\",\"xbingroup\":\"x\",\"y\":[74.99,127.22,13.41,83.5,32.7,117.41,146.16,149.39,110.82,145.33,103.52,130.16,64.49,34.16,60.1,89.19,53.18,57.32,50.21,65.73,61.38,123.6,60.63,13.35,49.08,138.77,137.95,104.62,12.24,25.77,44.88,104.84,58.25,137.37,9.62,59.78,16.91,35.18,54.69,68.53,5.82],\"yaxis\":\"y\",\"ybingroup\":\"y\",\"type\":\"histogram2dcontour\"}],                        {\"template\":{\"data\":{\"barpolar\":[{\"marker\":{\"line\":{\"color\":\"rgb(17,17,17)\",\"width\":0.5},\"pattern\":{\"fillmode\":\"overlay\",\"size\":10,\"solidity\":0.2}},\"type\":\"barpolar\"}],\"bar\":[{\"error_x\":{\"color\":\"#f2f5fa\"},\"error_y\":{\"color\":\"#f2f5fa\"},\"marker\":{\"line\":{\"color\":\"rgb(17,17,17)\",\"width\":0.5},\"pattern\":{\"fillmode\":\"overlay\",\"size\":10,\"solidity\":0.2}},\"type\":\"bar\"}],\"carpet\":[{\"aaxis\":{\"endlinecolor\":\"#A2B1C6\",\"gridcolor\":\"#506784\",\"linecolor\":\"#506784\",\"minorgridcolor\":\"#506784\",\"startlinecolor\":\"#A2B1C6\"},\"baxis\":{\"endlinecolor\":\"#A2B1C6\",\"gridcolor\":\"#506784\",\"linecolor\":\"#506784\",\"minorgridcolor\":\"#506784\",\"startlinecolor\":\"#A2B1C6\"},\"type\":\"carpet\"}],\"choropleth\":[{\"colorbar\":{\"outlinewidth\":0,\"ticks\":\"\"},\"type\":\"choropleth\"}],\"contourcarpet\":[{\"colorbar\":{\"outlinewidth\":0,\"ticks\":\"\"},\"type\":\"contourcarpet\"}],\"contour\":[{\"colorbar\":{\"outlinewidth\":0,\"ticks\":\"\"},\"colorscale\":[[0.0,\"#0d0887\"],[0.1111111111111111,\"#46039f\"],[0.2222222222222222,\"#7201a8\"],[0.3333333333333333,\"#9c179e\"],[0.4444444444444444,\"#bd3786\"],[0.5555555555555556,\"#d8576b\"],[0.6666666666666666,\"#ed7953\"],[0.7777777777777778,\"#fb9f3a\"],[0.8888888888888888,\"#fdca26\"],[1.0,\"#f0f921\"]],\"type\":\"contour\"}],\"heatmapgl\":[{\"colorbar\":{\"outlinewidth\":0,\"ticks\":\"\"},\"colorscale\":[[0.0,\"#0d0887\"],[0.1111111111111111,\"#46039f\"],[0.2222222222222222,\"#7201a8\"],[0.3333333333333333,\"#9c179e\"],[0.4444444444444444,\"#bd3786\"],[0.5555555555555556,\"#d8576b\"],[0.6666666666666666,\"#ed7953\"],[0.7777777777777778,\"#fb9f3a\"],[0.8888888888888888,\"#fdca26\"],[1.0,\"#f0f921\"]],\"type\":\"heatmapgl\"}],\"heatmap\":[{\"colorbar\":{\"outlinewidth\":0,\"ticks\":\"\"},\"colorscale\":[[0.0,\"#0d0887\"],[0.1111111111111111,\"#46039f\"],[0.2222222222222222,\"#7201a8\"],[0.3333333333333333,\"#9c179e\"],[0.4444444444444444,\"#bd3786\"],[0.5555555555555556,\"#d8576b\"],[0.6666666666666666,\"#ed7953\"],[0.7777777777777778,\"#fb9f3a\"],[0.8888888888888888,\"#fdca26\"],[1.0,\"#f0f921\"]],\"type\":\"heatmap\"}],\"histogram2dcontour\":[{\"colorbar\":{\"outlinewidth\":0,\"ticks\":\"\"},\"colorscale\":[[0.0,\"#0d0887\"],[0.1111111111111111,\"#46039f\"],[0.2222222222222222,\"#7201a8\"],[0.3333333333333333,\"#9c179e\"],[0.4444444444444444,\"#bd3786\"],[0.5555555555555556,\"#d8576b\"],[0.6666666666666666,\"#ed7953\"],[0.7777777777777778,\"#fb9f3a\"],[0.8888888888888888,\"#fdca26\"],[1.0,\"#f0f921\"]],\"type\":\"histogram2dcontour\"}],\"histogram2d\":[{\"colorbar\":{\"outlinewidth\":0,\"ticks\":\"\"},\"colorscale\":[[0.0,\"#0d0887\"],[0.1111111111111111,\"#46039f\"],[0.2222222222222222,\"#7201a8\"],[0.3333333333333333,\"#9c179e\"],[0.4444444444444444,\"#bd3786\"],[0.5555555555555556,\"#d8576b\"],[0.6666666666666666,\"#ed7953\"],[0.7777777777777778,\"#fb9f3a\"],[0.8888888888888888,\"#fdca26\"],[1.0,\"#f0f921\"]],\"type\":\"histogram2d\"}],\"histogram\":[{\"marker\":{\"pattern\":{\"fillmode\":\"overlay\",\"size\":10,\"solidity\":0.2}},\"type\":\"histogram\"}],\"mesh3d\":[{\"colorbar\":{\"outlinewidth\":0,\"ticks\":\"\"},\"type\":\"mesh3d\"}],\"parcoords\":[{\"line\":{\"colorbar\":{\"outlinewidth\":0,\"ticks\":\"\"}},\"type\":\"parcoords\"}],\"pie\":[{\"automargin\":true,\"type\":\"pie\"}],\"scatter3d\":[{\"line\":{\"colorbar\":{\"outlinewidth\":0,\"ticks\":\"\"}},\"marker\":{\"colorbar\":{\"outlinewidth\":0,\"ticks\":\"\"}},\"type\":\"scatter3d\"}],\"scattercarpet\":[{\"marker\":{\"colorbar\":{\"outlinewidth\":0,\"ticks\":\"\"}},\"type\":\"scattercarpet\"}],\"scattergeo\":[{\"marker\":{\"colorbar\":{\"outlinewidth\":0,\"ticks\":\"\"}},\"type\":\"scattergeo\"}],\"scattergl\":[{\"marker\":{\"line\":{\"color\":\"#283442\"}},\"type\":\"scattergl\"}],\"scattermapbox\":[{\"marker\":{\"colorbar\":{\"outlinewidth\":0,\"ticks\":\"\"}},\"type\":\"scattermapbox\"}],\"scatterpolargl\":[{\"marker\":{\"colorbar\":{\"outlinewidth\":0,\"ticks\":\"\"}},\"type\":\"scatterpolargl\"}],\"scatterpolar\":[{\"marker\":{\"colorbar\":{\"outlinewidth\":0,\"ticks\":\"\"}},\"type\":\"scatterpolar\"}],\"scatter\":[{\"marker\":{\"line\":{\"color\":\"#283442\"}},\"type\":\"scatter\"}],\"scatterternary\":[{\"marker\":{\"colorbar\":{\"outlinewidth\":0,\"ticks\":\"\"}},\"type\":\"scatterternary\"}],\"surface\":[{\"colorbar\":{\"outlinewidth\":0,\"ticks\":\"\"},\"colorscale\":[[0.0,\"#0d0887\"],[0.1111111111111111,\"#46039f\"],[0.2222222222222222,\"#7201a8\"],[0.3333333333333333,\"#9c179e\"],[0.4444444444444444,\"#bd3786\"],[0.5555555555555556,\"#d8576b\"],[0.6666666666666666,\"#ed7953\"],[0.7777777777777778,\"#fb9f3a\"],[0.8888888888888888,\"#fdca26\"],[1.0,\"#f0f921\"]],\"type\":\"surface\"}],\"table\":[{\"cells\":{\"fill\":{\"color\":\"#506784\"},\"line\":{\"color\":\"rgb(17,17,17)\"}},\"header\":{\"fill\":{\"color\":\"#2a3f5f\"},\"line\":{\"color\":\"rgb(17,17,17)\"}},\"type\":\"table\"}]},\"layout\":{\"annotationdefaults\":{\"arrowcolor\":\"#f2f5fa\",\"arrowhead\":0,\"arrowwidth\":1},\"autotypenumbers\":\"strict\",\"coloraxis\":{\"colorbar\":{\"outlinewidth\":0,\"ticks\":\"\"}},\"colorscale\":{\"diverging\":[[0,\"#8e0152\"],[0.1,\"#c51b7d\"],[0.2,\"#de77ae\"],[0.3,\"#f1b6da\"],[0.4,\"#fde0ef\"],[0.5,\"#f7f7f7\"],[0.6,\"#e6f5d0\"],[0.7,\"#b8e186\"],[0.8,\"#7fbc41\"],[0.9,\"#4d9221\"],[1,\"#276419\"]],\"sequential\":[[0.0,\"#0d0887\"],[0.1111111111111111,\"#46039f\"],[0.2222222222222222,\"#7201a8\"],[0.3333333333333333,\"#9c179e\"],[0.4444444444444444,\"#bd3786\"],[0.5555555555555556,\"#d8576b\"],[0.6666666666666666,\"#ed7953\"],[0.7777777777777778,\"#fb9f3a\"],[0.8888888888888888,\"#fdca26\"],[1.0,\"#f0f921\"]],\"sequentialminus\":[[0.0,\"#0d0887\"],[0.1111111111111111,\"#46039f\"],[0.2222222222222222,\"#7201a8\"],[0.3333333333333333,\"#9c179e\"],[0.4444444444444444,\"#bd3786\"],[0.5555555555555556,\"#d8576b\"],[0.6666666666666666,\"#ed7953\"],[0.7777777777777778,\"#fb9f3a\"],[0.8888888888888888,\"#fdca26\"],[1.0,\"#f0f921\"]]},\"colorway\":[\"#636efa\",\"#EF553B\",\"#00cc96\",\"#ab63fa\",\"#FFA15A\",\"#19d3f3\",\"#FF6692\",\"#B6E880\",\"#FF97FF\",\"#FECB52\"],\"font\":{\"color\":\"#f2f5fa\"},\"geo\":{\"bgcolor\":\"rgb(17,17,17)\",\"lakecolor\":\"rgb(17,17,17)\",\"landcolor\":\"rgb(17,17,17)\",\"showlakes\":true,\"showland\":true,\"subunitcolor\":\"#506784\"},\"hoverlabel\":{\"align\":\"left\"},\"hovermode\":\"closest\",\"mapbox\":{\"style\":\"dark\"},\"paper_bgcolor\":\"rgb(17,17,17)\",\"plot_bgcolor\":\"rgb(17,17,17)\",\"polar\":{\"angularaxis\":{\"gridcolor\":\"#506784\",\"linecolor\":\"#506784\",\"ticks\":\"\"},\"bgcolor\":\"rgb(17,17,17)\",\"radialaxis\":{\"gridcolor\":\"#506784\",\"linecolor\":\"#506784\",\"ticks\":\"\"}},\"scene\":{\"xaxis\":{\"backgroundcolor\":\"rgb(17,17,17)\",\"gridcolor\":\"#506784\",\"gridwidth\":2,\"linecolor\":\"#506784\",\"showbackground\":true,\"ticks\":\"\",\"zerolinecolor\":\"#C8D4E3\"},\"yaxis\":{\"backgroundcolor\":\"rgb(17,17,17)\",\"gridcolor\":\"#506784\",\"gridwidth\":2,\"linecolor\":\"#506784\",\"showbackground\":true,\"ticks\":\"\",\"zerolinecolor\":\"#C8D4E3\"},\"zaxis\":{\"backgroundcolor\":\"rgb(17,17,17)\",\"gridcolor\":\"#506784\",\"gridwidth\":2,\"linecolor\":\"#506784\",\"showbackground\":true,\"ticks\":\"\",\"zerolinecolor\":\"#C8D4E3\"}},\"shapedefaults\":{\"line\":{\"color\":\"#f2f5fa\"}},\"sliderdefaults\":{\"bgcolor\":\"#C8D4E3\",\"bordercolor\":\"rgb(17,17,17)\",\"borderwidth\":1,\"tickwidth\":0},\"ternary\":{\"aaxis\":{\"gridcolor\":\"#506784\",\"linecolor\":\"#506784\",\"ticks\":\"\"},\"baxis\":{\"gridcolor\":\"#506784\",\"linecolor\":\"#506784\",\"ticks\":\"\"},\"bgcolor\":\"rgb(17,17,17)\",\"caxis\":{\"gridcolor\":\"#506784\",\"linecolor\":\"#506784\",\"ticks\":\"\"}},\"title\":{\"x\":0.05},\"updatemenudefaults\":{\"bgcolor\":\"#506784\",\"borderwidth\":0},\"xaxis\":{\"automargin\":true,\"gridcolor\":\"#283442\",\"linecolor\":\"#506784\",\"ticks\":\"\",\"title\":{\"standoff\":15},\"zerolinecolor\":\"#283442\",\"zerolinewidth\":2},\"yaxis\":{\"automargin\":true,\"gridcolor\":\"#283442\",\"linecolor\":\"#506784\",\"ticks\":\"\",\"title\":{\"standoff\":15},\"zerolinecolor\":\"#283442\",\"zerolinewidth\":2}}},\"xaxis\":{\"anchor\":\"y\",\"domain\":[0.0,1.0],\"title\":{\"text\":\"Ratings\"}},\"yaxis\":{\"anchor\":\"x\",\"domain\":[0.0,1.0],\"title\":{\"text\":\"Budget (Million USD)\"}},\"legend\":{\"tracegroupgap\":0},\"title\":{\"text\":\"KDE Density Plot: Ratings vs Budget\"}},                        {\"responsive\": true}                    ).then(function(){\n",
       "                            \n",
       "var gd = document.getElementById('8c6e7f15-f564-4b3f-a0bb-6c547bb04ac5');\n",
       "var x = new MutationObserver(function (mutations, observer) {{\n",
       "        var display = window.getComputedStyle(gd).display;\n",
       "        if (!display || display === 'none') {{\n",
       "            console.log([gd, 'removed!']);\n",
       "            Plotly.purge(gd);\n",
       "            observer.disconnect();\n",
       "        }}\n",
       "}});\n",
       "\n",
       "// Listen for the removal of the full notebook cells\n",
       "var notebookContainer = gd.closest('#notebook-container');\n",
       "if (notebookContainer) {{\n",
       "    x.observe(notebookContainer, {childList: true});\n",
       "}}\n",
       "\n",
       "// Listen for the clearing of the current output cell\n",
       "var outputEl = gd.closest('.output');\n",
       "if (outputEl) {{\n",
       "    x.observe(outputEl, {childList: true});\n",
       "}}\n",
       "\n",
       "                        })                };                            </script>        </div>\n",
       "</body>\n",
       "</html>"
      ]
     },
     "metadata": {},
     "output_type": "display_data"
    }
   ],
   "source": [
    "fig1 = px.density_contour(df, x=\"Ratings\", y=\"Budget (in Million USD)\", \n",
    "                         title=\"KDE Density Plot: Ratings vs Budget\")\n",
    "\n",
    "fig1.update_layout(\n",
    "    xaxis_title=\"Ratings\",\n",
    "    yaxis_title=\"Budget (Million USD)\",\n",
    "    template=\"plotly_dark\"\n",
    ")\n",
    "\n",
    "fig1.show()\n",
    "#fig1.write_image(\"plotly_chart.png\")"
   ]
  },
  {
   "cell_type": "code",
   "execution_count": 9,
   "id": "6365fd5f",
   "metadata": {
    "collapsed": true,
    "execution": {
     "iopub.execute_input": "2025-03-02T06:32:53.922271Z",
     "iopub.status.busy": "2025-03-02T06:32:53.921969Z",
     "iopub.status.idle": "2025-03-02T06:32:54.065956Z",
     "shell.execute_reply": "2025-03-02T06:32:54.065050Z"
    },
    "jupyter": {
     "outputs_hidden": true,
     "source_hidden": true
    },
    "papermill": {
     "duration": 0.151176,
     "end_time": "2025-03-02T06:32:54.067632",
     "exception": false,
     "start_time": "2025-03-02T06:32:53.916456",
     "status": "completed"
    },
    "tags": []
   },
   "outputs": [
    {
     "data": {
      "text/html": [
       "<html>\n",
       "<head><meta charset=\"utf-8\" /></head>\n",
       "<body>\n",
       "    <div>            <script src=\"https://cdnjs.cloudflare.com/ajax/libs/mathjax/2.7.5/MathJax.js?config=TeX-AMS-MML_SVG\"></script><script type=\"text/javascript\">if (window.MathJax && window.MathJax.Hub && window.MathJax.Hub.Config) {window.MathJax.Hub.Config({SVG: {font: \"STIX-Web\"}});}</script>                <script type=\"text/javascript\">window.PlotlyConfig = {MathJaxConfig: 'local'};</script>\n",
       "        <script charset=\"utf-8\" src=\"https://cdn.plot.ly/plotly-2.35.2.min.js\"></script>                <div id=\"3ab01099-c100-4b6e-aeba-689937465099\" class=\"plotly-graph-div\" style=\"height:525px; width:100%;\"></div>            <script type=\"text/javascript\">                                    window.PLOTLYENV=window.PLOTLYENV || {};                                    if (document.getElementById(\"3ab01099-c100-4b6e-aeba-689937465099\")) {                    Plotly.newPlot(                        \"3ab01099-c100-4b6e-aeba-689937465099\",                        [{\"alignmentgroup\":\"True\",\"customdata\":[[7.1]],\"hovertemplate\":\"Ratings=%{customdata[0]}\\u003cextra\\u003e\\u003c\\u002fextra\\u003e\",\"legendgroup\":\"Neon Genesis Evangelion\",\"marker\":{\"color\":\"rgb(228,26,28)\",\"pattern\":{\"shape\":\"\"}},\"name\":\"Neon Genesis Evangelion\",\"offsetgroup\":\"Neon Genesis Evangelion\",\"orientation\":\"v\",\"showlegend\":true,\"text\":[149.39],\"textposition\":\"outside\",\"x\":[\"Neon Genesis Evangelion\"],\"xaxis\":\"x\",\"y\":[149.39],\"yaxis\":\"y\",\"type\":\"bar\",\"texttemplate\":\"%{text:.1f}M\"},{\"alignmentgroup\":\"True\",\"customdata\":[[9.6]],\"hovertemplate\":\"Ratings=%{customdata[0]}\\u003cextra\\u003e\\u003c\\u002fextra\\u003e\",\"legendgroup\":\"My Hero Academia\",\"marker\":{\"color\":\"rgb(55,126,184)\",\"pattern\":{\"shape\":\"\"}},\"name\":\"My Hero Academia\",\"offsetgroup\":\"My Hero Academia\",\"orientation\":\"v\",\"showlegend\":true,\"text\":[145.33],\"textposition\":\"outside\",\"x\":[\"My Hero Academia\"],\"xaxis\":\"x\",\"y\":[145.33],\"yaxis\":\"y\",\"type\":\"bar\",\"texttemplate\":\"%{text:.1f}M\"},{\"alignmentgroup\":\"True\",\"customdata\":[[7.3]],\"hovertemplate\":\"Ratings=%{customdata[0]}\\u003cextra\\u003e\\u003c\\u002fextra\\u003e\",\"legendgroup\":\"Hunter x Hunter\",\"marker\":{\"color\":\"rgb(77,175,74)\",\"pattern\":{\"shape\":\"\"}},\"name\":\"Hunter x Hunter\",\"offsetgroup\":\"Hunter x Hunter\",\"orientation\":\"v\",\"showlegend\":true,\"text\":[137.95],\"textposition\":\"outside\",\"x\":[\"Hunter x Hunter\"],\"xaxis\":\"x\",\"y\":[137.95],\"yaxis\":\"y\",\"type\":\"bar\",\"texttemplate\":\"%{text:.1f}M\"},{\"alignmentgroup\":\"True\",\"customdata\":[[9.4]],\"hovertemplate\":\"Ratings=%{customdata[0]}\\u003cextra\\u003e\\u003c\\u002fextra\\u003e\",\"legendgroup\":\"One Piece\",\"marker\":{\"color\":\"rgb(152,78,163)\",\"pattern\":{\"shape\":\"\"}},\"name\":\"One Piece\",\"offsetgroup\":\"One Piece\",\"orientation\":\"v\",\"showlegend\":true,\"text\":[137.37],\"textposition\":\"outside\",\"x\":[\"One Piece\"],\"xaxis\":\"x\",\"y\":[137.37],\"yaxis\":\"y\",\"type\":\"bar\",\"texttemplate\":\"%{text:.1f}M\"},{\"alignmentgroup\":\"True\",\"customdata\":[[9.1]],\"hovertemplate\":\"Ratings=%{customdata[0]}\\u003cextra\\u003e\\u003c\\u002fextra\\u003e\",\"legendgroup\":\"Death Note\",\"marker\":{\"color\":\"rgb(255,127,0)\",\"pattern\":{\"shape\":\"\"}},\"name\":\"Death Note\",\"offsetgroup\":\"Death Note\",\"orientation\":\"v\",\"showlegend\":true,\"text\":[130.16],\"textposition\":\"outside\",\"x\":[\"Death Note\"],\"xaxis\":\"x\",\"y\":[130.16],\"yaxis\":\"y\",\"type\":\"bar\",\"texttemplate\":\"%{text:.1f}M\"}],                        {\"template\":{\"data\":{\"barpolar\":[{\"marker\":{\"line\":{\"color\":\"rgb(17,17,17)\",\"width\":0.5},\"pattern\":{\"fillmode\":\"overlay\",\"size\":10,\"solidity\":0.2}},\"type\":\"barpolar\"}],\"bar\":[{\"error_x\":{\"color\":\"#f2f5fa\"},\"error_y\":{\"color\":\"#f2f5fa\"},\"marker\":{\"line\":{\"color\":\"rgb(17,17,17)\",\"width\":0.5},\"pattern\":{\"fillmode\":\"overlay\",\"size\":10,\"solidity\":0.2}},\"type\":\"bar\"}],\"carpet\":[{\"aaxis\":{\"endlinecolor\":\"#A2B1C6\",\"gridcolor\":\"#506784\",\"linecolor\":\"#506784\",\"minorgridcolor\":\"#506784\",\"startlinecolor\":\"#A2B1C6\"},\"baxis\":{\"endlinecolor\":\"#A2B1C6\",\"gridcolor\":\"#506784\",\"linecolor\":\"#506784\",\"minorgridcolor\":\"#506784\",\"startlinecolor\":\"#A2B1C6\"},\"type\":\"carpet\"}],\"choropleth\":[{\"colorbar\":{\"outlinewidth\":0,\"ticks\":\"\"},\"type\":\"choropleth\"}],\"contourcarpet\":[{\"colorbar\":{\"outlinewidth\":0,\"ticks\":\"\"},\"type\":\"contourcarpet\"}],\"contour\":[{\"colorbar\":{\"outlinewidth\":0,\"ticks\":\"\"},\"colorscale\":[[0.0,\"#0d0887\"],[0.1111111111111111,\"#46039f\"],[0.2222222222222222,\"#7201a8\"],[0.3333333333333333,\"#9c179e\"],[0.4444444444444444,\"#bd3786\"],[0.5555555555555556,\"#d8576b\"],[0.6666666666666666,\"#ed7953\"],[0.7777777777777778,\"#fb9f3a\"],[0.8888888888888888,\"#fdca26\"],[1.0,\"#f0f921\"]],\"type\":\"contour\"}],\"heatmapgl\":[{\"colorbar\":{\"outlinewidth\":0,\"ticks\":\"\"},\"colorscale\":[[0.0,\"#0d0887\"],[0.1111111111111111,\"#46039f\"],[0.2222222222222222,\"#7201a8\"],[0.3333333333333333,\"#9c179e\"],[0.4444444444444444,\"#bd3786\"],[0.5555555555555556,\"#d8576b\"],[0.6666666666666666,\"#ed7953\"],[0.7777777777777778,\"#fb9f3a\"],[0.8888888888888888,\"#fdca26\"],[1.0,\"#f0f921\"]],\"type\":\"heatmapgl\"}],\"heatmap\":[{\"colorbar\":{\"outlinewidth\":0,\"ticks\":\"\"},\"colorscale\":[[0.0,\"#0d0887\"],[0.1111111111111111,\"#46039f\"],[0.2222222222222222,\"#7201a8\"],[0.3333333333333333,\"#9c179e\"],[0.4444444444444444,\"#bd3786\"],[0.5555555555555556,\"#d8576b\"],[0.6666666666666666,\"#ed7953\"],[0.7777777777777778,\"#fb9f3a\"],[0.8888888888888888,\"#fdca26\"],[1.0,\"#f0f921\"]],\"type\":\"heatmap\"}],\"histogram2dcontour\":[{\"colorbar\":{\"outlinewidth\":0,\"ticks\":\"\"},\"colorscale\":[[0.0,\"#0d0887\"],[0.1111111111111111,\"#46039f\"],[0.2222222222222222,\"#7201a8\"],[0.3333333333333333,\"#9c179e\"],[0.4444444444444444,\"#bd3786\"],[0.5555555555555556,\"#d8576b\"],[0.6666666666666666,\"#ed7953\"],[0.7777777777777778,\"#fb9f3a\"],[0.8888888888888888,\"#fdca26\"],[1.0,\"#f0f921\"]],\"type\":\"histogram2dcontour\"}],\"histogram2d\":[{\"colorbar\":{\"outlinewidth\":0,\"ticks\":\"\"},\"colorscale\":[[0.0,\"#0d0887\"],[0.1111111111111111,\"#46039f\"],[0.2222222222222222,\"#7201a8\"],[0.3333333333333333,\"#9c179e\"],[0.4444444444444444,\"#bd3786\"],[0.5555555555555556,\"#d8576b\"],[0.6666666666666666,\"#ed7953\"],[0.7777777777777778,\"#fb9f3a\"],[0.8888888888888888,\"#fdca26\"],[1.0,\"#f0f921\"]],\"type\":\"histogram2d\"}],\"histogram\":[{\"marker\":{\"pattern\":{\"fillmode\":\"overlay\",\"size\":10,\"solidity\":0.2}},\"type\":\"histogram\"}],\"mesh3d\":[{\"colorbar\":{\"outlinewidth\":0,\"ticks\":\"\"},\"type\":\"mesh3d\"}],\"parcoords\":[{\"line\":{\"colorbar\":{\"outlinewidth\":0,\"ticks\":\"\"}},\"type\":\"parcoords\"}],\"pie\":[{\"automargin\":true,\"type\":\"pie\"}],\"scatter3d\":[{\"line\":{\"colorbar\":{\"outlinewidth\":0,\"ticks\":\"\"}},\"marker\":{\"colorbar\":{\"outlinewidth\":0,\"ticks\":\"\"}},\"type\":\"scatter3d\"}],\"scattercarpet\":[{\"marker\":{\"colorbar\":{\"outlinewidth\":0,\"ticks\":\"\"}},\"type\":\"scattercarpet\"}],\"scattergeo\":[{\"marker\":{\"colorbar\":{\"outlinewidth\":0,\"ticks\":\"\"}},\"type\":\"scattergeo\"}],\"scattergl\":[{\"marker\":{\"line\":{\"color\":\"#283442\"}},\"type\":\"scattergl\"}],\"scattermapbox\":[{\"marker\":{\"colorbar\":{\"outlinewidth\":0,\"ticks\":\"\"}},\"type\":\"scattermapbox\"}],\"scatterpolargl\":[{\"marker\":{\"colorbar\":{\"outlinewidth\":0,\"ticks\":\"\"}},\"type\":\"scatterpolargl\"}],\"scatterpolar\":[{\"marker\":{\"colorbar\":{\"outlinewidth\":0,\"ticks\":\"\"}},\"type\":\"scatterpolar\"}],\"scatter\":[{\"marker\":{\"line\":{\"color\":\"#283442\"}},\"type\":\"scatter\"}],\"scatterternary\":[{\"marker\":{\"colorbar\":{\"outlinewidth\":0,\"ticks\":\"\"}},\"type\":\"scatterternary\"}],\"surface\":[{\"colorbar\":{\"outlinewidth\":0,\"ticks\":\"\"},\"colorscale\":[[0.0,\"#0d0887\"],[0.1111111111111111,\"#46039f\"],[0.2222222222222222,\"#7201a8\"],[0.3333333333333333,\"#9c179e\"],[0.4444444444444444,\"#bd3786\"],[0.5555555555555556,\"#d8576b\"],[0.6666666666666666,\"#ed7953\"],[0.7777777777777778,\"#fb9f3a\"],[0.8888888888888888,\"#fdca26\"],[1.0,\"#f0f921\"]],\"type\":\"surface\"}],\"table\":[{\"cells\":{\"fill\":{\"color\":\"#506784\"},\"line\":{\"color\":\"rgb(17,17,17)\"}},\"header\":{\"fill\":{\"color\":\"#2a3f5f\"},\"line\":{\"color\":\"rgb(17,17,17)\"}},\"type\":\"table\"}]},\"layout\":{\"annotationdefaults\":{\"arrowcolor\":\"#f2f5fa\",\"arrowhead\":0,\"arrowwidth\":1},\"autotypenumbers\":\"strict\",\"coloraxis\":{\"colorbar\":{\"outlinewidth\":0,\"ticks\":\"\"}},\"colorscale\":{\"diverging\":[[0,\"#8e0152\"],[0.1,\"#c51b7d\"],[0.2,\"#de77ae\"],[0.3,\"#f1b6da\"],[0.4,\"#fde0ef\"],[0.5,\"#f7f7f7\"],[0.6,\"#e6f5d0\"],[0.7,\"#b8e186\"],[0.8,\"#7fbc41\"],[0.9,\"#4d9221\"],[1,\"#276419\"]],\"sequential\":[[0.0,\"#0d0887\"],[0.1111111111111111,\"#46039f\"],[0.2222222222222222,\"#7201a8\"],[0.3333333333333333,\"#9c179e\"],[0.4444444444444444,\"#bd3786\"],[0.5555555555555556,\"#d8576b\"],[0.6666666666666666,\"#ed7953\"],[0.7777777777777778,\"#fb9f3a\"],[0.8888888888888888,\"#fdca26\"],[1.0,\"#f0f921\"]],\"sequentialminus\":[[0.0,\"#0d0887\"],[0.1111111111111111,\"#46039f\"],[0.2222222222222222,\"#7201a8\"],[0.3333333333333333,\"#9c179e\"],[0.4444444444444444,\"#bd3786\"],[0.5555555555555556,\"#d8576b\"],[0.6666666666666666,\"#ed7953\"],[0.7777777777777778,\"#fb9f3a\"],[0.8888888888888888,\"#fdca26\"],[1.0,\"#f0f921\"]]},\"colorway\":[\"#636efa\",\"#EF553B\",\"#00cc96\",\"#ab63fa\",\"#FFA15A\",\"#19d3f3\",\"#FF6692\",\"#B6E880\",\"#FF97FF\",\"#FECB52\"],\"font\":{\"color\":\"#f2f5fa\"},\"geo\":{\"bgcolor\":\"rgb(17,17,17)\",\"lakecolor\":\"rgb(17,17,17)\",\"landcolor\":\"rgb(17,17,17)\",\"showlakes\":true,\"showland\":true,\"subunitcolor\":\"#506784\"},\"hoverlabel\":{\"align\":\"left\"},\"hovermode\":\"closest\",\"mapbox\":{\"style\":\"dark\"},\"paper_bgcolor\":\"rgb(17,17,17)\",\"plot_bgcolor\":\"rgb(17,17,17)\",\"polar\":{\"angularaxis\":{\"gridcolor\":\"#506784\",\"linecolor\":\"#506784\",\"ticks\":\"\"},\"bgcolor\":\"rgb(17,17,17)\",\"radialaxis\":{\"gridcolor\":\"#506784\",\"linecolor\":\"#506784\",\"ticks\":\"\"}},\"scene\":{\"xaxis\":{\"backgroundcolor\":\"rgb(17,17,17)\",\"gridcolor\":\"#506784\",\"gridwidth\":2,\"linecolor\":\"#506784\",\"showbackground\":true,\"ticks\":\"\",\"zerolinecolor\":\"#C8D4E3\"},\"yaxis\":{\"backgroundcolor\":\"rgb(17,17,17)\",\"gridcolor\":\"#506784\",\"gridwidth\":2,\"linecolor\":\"#506784\",\"showbackground\":true,\"ticks\":\"\",\"zerolinecolor\":\"#C8D4E3\"},\"zaxis\":{\"backgroundcolor\":\"rgb(17,17,17)\",\"gridcolor\":\"#506784\",\"gridwidth\":2,\"linecolor\":\"#506784\",\"showbackground\":true,\"ticks\":\"\",\"zerolinecolor\":\"#C8D4E3\"}},\"shapedefaults\":{\"line\":{\"color\":\"#f2f5fa\"}},\"sliderdefaults\":{\"bgcolor\":\"#C8D4E3\",\"bordercolor\":\"rgb(17,17,17)\",\"borderwidth\":1,\"tickwidth\":0},\"ternary\":{\"aaxis\":{\"gridcolor\":\"#506784\",\"linecolor\":\"#506784\",\"ticks\":\"\"},\"baxis\":{\"gridcolor\":\"#506784\",\"linecolor\":\"#506784\",\"ticks\":\"\"},\"bgcolor\":\"rgb(17,17,17)\",\"caxis\":{\"gridcolor\":\"#506784\",\"linecolor\":\"#506784\",\"ticks\":\"\"}},\"title\":{\"x\":0.05},\"updatemenudefaults\":{\"bgcolor\":\"#506784\",\"borderwidth\":0},\"xaxis\":{\"automargin\":true,\"gridcolor\":\"#283442\",\"linecolor\":\"#506784\",\"ticks\":\"\",\"title\":{\"standoff\":15},\"zerolinecolor\":\"#283442\",\"zerolinewidth\":2},\"yaxis\":{\"automargin\":true,\"gridcolor\":\"#283442\",\"linecolor\":\"#506784\",\"ticks\":\"\",\"title\":{\"standoff\":15},\"zerolinecolor\":\"#283442\",\"zerolinewidth\":2}}},\"xaxis\":{\"anchor\":\"y\",\"domain\":[0.0,1.0],\"title\":{\"text\":\"Anime Name\"},\"categoryorder\":\"array\",\"categoryarray\":[\"Neon Genesis Evangelion\",\"My Hero Academia\",\"Hunter x Hunter\",\"One Piece\",\"Death Note\"],\"tickangle\":-15},\"yaxis\":{\"anchor\":\"x\",\"domain\":[0.0,1.0],\"title\":{\"text\":\"Budget (Million USD)\"}},\"legend\":{\"title\":{\"text\":\"Anime Name\"},\"tracegroupgap\":0},\"title\":{\"text\":\"Most High-Budget Anime\"},\"barmode\":\"relative\",\"font\":{\"size\":13},\"showlegend\":false},                        {\"responsive\": true}                    ).then(function(){\n",
       "                            \n",
       "var gd = document.getElementById('3ab01099-c100-4b6e-aeba-689937465099');\n",
       "var x = new MutationObserver(function (mutations, observer) {{\n",
       "        var display = window.getComputedStyle(gd).display;\n",
       "        if (!display || display === 'none') {{\n",
       "            console.log([gd, 'removed!']);\n",
       "            Plotly.purge(gd);\n",
       "            observer.disconnect();\n",
       "        }}\n",
       "}});\n",
       "\n",
       "// Listen for the removal of the full notebook cells\n",
       "var notebookContainer = gd.closest('#notebook-container');\n",
       "if (notebookContainer) {{\n",
       "    x.observe(notebookContainer, {childList: true});\n",
       "}}\n",
       "\n",
       "// Listen for the clearing of the current output cell\n",
       "var outputEl = gd.closest('.output');\n",
       "if (outputEl) {{\n",
       "    x.observe(outputEl, {childList: true});\n",
       "}}\n",
       "\n",
       "                        })                };                            </script>        </div>\n",
       "</body>\n",
       "</html>"
      ]
     },
     "metadata": {},
     "output_type": "display_data"
    }
   ],
   "source": [
    "df1 = df.loc[df.groupby(\"Anime Name\")[\"Budget (in Million USD)\"].idxmax()]\n",
    "df1 = df1[df1[\"Budget (in Million USD)\"] > 50].sort_values(by=\"Budget (in Million USD)\", ascending=False).head(5)\n",
    "\n",
    "fig3 = px.bar(df1, x=\"Anime Name\", y=\"Budget (in Million USD)\", \n",
    "             title=\"Most High-Budget Anime\",\n",
    "             text=\"Budget (in Million USD)\",  \n",
    "             color=\"Anime Name\",  \n",
    "             color_discrete_sequence=px.colors.qualitative.Set1,\n",
    "             hover_data={\"Ratings\": True, \"Anime Name\": False, \"Budget (in Million USD)\": False}  # Show only Ratings\n",
    "            )  \n",
    "\n",
    "fig3.update_traces(texttemplate='%{text:.1f}M', textposition=\"outside\")\n",
    "\n",
    "fig3.update_layout(\n",
    "    xaxis_title=\"Anime Name\",\n",
    "    yaxis_title=\"Budget (Million USD)\",\n",
    "    font=dict(size=13),\n",
    "    template=\"plotly_dark\",\n",
    "    showlegend=False,\n",
    "    xaxis_tickangle=-15  \n",
    ")\n",
    "\n",
    "fig3.show()\n",
    "#fig.write_image(\"plotly_chart.png\")"
   ]
  },
  {
   "cell_type": "code",
   "execution_count": 10,
   "id": "6cb33950",
   "metadata": {
    "collapsed": true,
    "execution": {
     "iopub.execute_input": "2025-03-02T06:32:54.079170Z",
     "iopub.status.busy": "2025-03-02T06:32:54.078850Z",
     "iopub.status.idle": "2025-03-02T06:32:54.190613Z",
     "shell.execute_reply": "2025-03-02T06:32:54.189651Z"
    },
    "jupyter": {
     "outputs_hidden": true,
     "source_hidden": true
    },
    "papermill": {
     "duration": 0.119208,
     "end_time": "2025-03-02T06:32:54.192186",
     "exception": false,
     "start_time": "2025-03-02T06:32:54.072978",
     "status": "completed"
    },
    "tags": []
   },
   "outputs": [
    {
     "data": {
      "text/html": [
       "<html>\n",
       "<head><meta charset=\"utf-8\" /></head>\n",
       "<body>\n",
       "    <div>            <script src=\"https://cdnjs.cloudflare.com/ajax/libs/mathjax/2.7.5/MathJax.js?config=TeX-AMS-MML_SVG\"></script><script type=\"text/javascript\">if (window.MathJax && window.MathJax.Hub && window.MathJax.Hub.Config) {window.MathJax.Hub.Config({SVG: {font: \"STIX-Web\"}});}</script>                <script type=\"text/javascript\">window.PlotlyConfig = {MathJaxConfig: 'local'};</script>\n",
       "        <script charset=\"utf-8\" src=\"https://cdn.plot.ly/plotly-2.35.2.min.js\"></script>                <div id=\"fb158588-3c7c-4f95-a029-f0bece50e477\" class=\"plotly-graph-div\" style=\"height:525px; width:100%;\"></div>            <script type=\"text/javascript\">                                    window.PLOTLYENV=window.PLOTLYENV || {};                                    if (document.getElementById(\"fb158588-3c7c-4f95-a029-f0bece50e477\")) {                    Plotly.newPlot(                        \"fb158588-3c7c-4f95-a029-f0bece50e477\",                        [{\"domain\":{\"x\":[0.0,1.0],\"y\":[0.0,1.0]},\"hole\":0.3,\"hovertemplate\":\"Genre=%{label}\\u003cextra\\u003e\\u003c\\u002fextra\\u003e\",\"labels\":[\"Adventure\",\"Adventure\",\"Comedy\",\"Adventure\",\"Action\",\"Thriller\",\"Thriller\",\"Supernatural\",\"Action\",\"Action\",\"Psychological\",\"Fantasy\",\"Psychological\",\"Supernatural\",\"Mystery\",\"Adventure\",\"Mystery\",\"Fantasy\",\"Comedy\",\"Mystery\",\"Thriller\",\"Mystery\",\"Thriller\",\"Mystery\",\"Adventure\",\"Psychological\",\"Action\",\"Mystery\",\"Thriller\",\"Comedy\",\"Drama\",\"Adventure\",\"Psychological\",\"Comedy\",\"Action\",\"Comedy\",\"Supernatural\",\"Drama\",\"Sci-Fi\",\"Sci-Fi\",\"Fantasy\"],\"legendgroup\":\"\",\"name\":\"\",\"showlegend\":true,\"type\":\"pie\",\"marker\":{\"line\":{\"color\":\"black\",\"width\":1}},\"pull\":[0.05,0,0,0,0,0,0,0,0,0],\"textinfo\":\"percent+label\"}],                        {\"template\":{\"data\":{\"barpolar\":[{\"marker\":{\"line\":{\"color\":\"rgb(17,17,17)\",\"width\":0.5},\"pattern\":{\"fillmode\":\"overlay\",\"size\":10,\"solidity\":0.2}},\"type\":\"barpolar\"}],\"bar\":[{\"error_x\":{\"color\":\"#f2f5fa\"},\"error_y\":{\"color\":\"#f2f5fa\"},\"marker\":{\"line\":{\"color\":\"rgb(17,17,17)\",\"width\":0.5},\"pattern\":{\"fillmode\":\"overlay\",\"size\":10,\"solidity\":0.2}},\"type\":\"bar\"}],\"carpet\":[{\"aaxis\":{\"endlinecolor\":\"#A2B1C6\",\"gridcolor\":\"#506784\",\"linecolor\":\"#506784\",\"minorgridcolor\":\"#506784\",\"startlinecolor\":\"#A2B1C6\"},\"baxis\":{\"endlinecolor\":\"#A2B1C6\",\"gridcolor\":\"#506784\",\"linecolor\":\"#506784\",\"minorgridcolor\":\"#506784\",\"startlinecolor\":\"#A2B1C6\"},\"type\":\"carpet\"}],\"choropleth\":[{\"colorbar\":{\"outlinewidth\":0,\"ticks\":\"\"},\"type\":\"choropleth\"}],\"contourcarpet\":[{\"colorbar\":{\"outlinewidth\":0,\"ticks\":\"\"},\"type\":\"contourcarpet\"}],\"contour\":[{\"colorbar\":{\"outlinewidth\":0,\"ticks\":\"\"},\"colorscale\":[[0.0,\"#0d0887\"],[0.1111111111111111,\"#46039f\"],[0.2222222222222222,\"#7201a8\"],[0.3333333333333333,\"#9c179e\"],[0.4444444444444444,\"#bd3786\"],[0.5555555555555556,\"#d8576b\"],[0.6666666666666666,\"#ed7953\"],[0.7777777777777778,\"#fb9f3a\"],[0.8888888888888888,\"#fdca26\"],[1.0,\"#f0f921\"]],\"type\":\"contour\"}],\"heatmapgl\":[{\"colorbar\":{\"outlinewidth\":0,\"ticks\":\"\"},\"colorscale\":[[0.0,\"#0d0887\"],[0.1111111111111111,\"#46039f\"],[0.2222222222222222,\"#7201a8\"],[0.3333333333333333,\"#9c179e\"],[0.4444444444444444,\"#bd3786\"],[0.5555555555555556,\"#d8576b\"],[0.6666666666666666,\"#ed7953\"],[0.7777777777777778,\"#fb9f3a\"],[0.8888888888888888,\"#fdca26\"],[1.0,\"#f0f921\"]],\"type\":\"heatmapgl\"}],\"heatmap\":[{\"colorbar\":{\"outlinewidth\":0,\"ticks\":\"\"},\"colorscale\":[[0.0,\"#0d0887\"],[0.1111111111111111,\"#46039f\"],[0.2222222222222222,\"#7201a8\"],[0.3333333333333333,\"#9c179e\"],[0.4444444444444444,\"#bd3786\"],[0.5555555555555556,\"#d8576b\"],[0.6666666666666666,\"#ed7953\"],[0.7777777777777778,\"#fb9f3a\"],[0.8888888888888888,\"#fdca26\"],[1.0,\"#f0f921\"]],\"type\":\"heatmap\"}],\"histogram2dcontour\":[{\"colorbar\":{\"outlinewidth\":0,\"ticks\":\"\"},\"colorscale\":[[0.0,\"#0d0887\"],[0.1111111111111111,\"#46039f\"],[0.2222222222222222,\"#7201a8\"],[0.3333333333333333,\"#9c179e\"],[0.4444444444444444,\"#bd3786\"],[0.5555555555555556,\"#d8576b\"],[0.6666666666666666,\"#ed7953\"],[0.7777777777777778,\"#fb9f3a\"],[0.8888888888888888,\"#fdca26\"],[1.0,\"#f0f921\"]],\"type\":\"histogram2dcontour\"}],\"histogram2d\":[{\"colorbar\":{\"outlinewidth\":0,\"ticks\":\"\"},\"colorscale\":[[0.0,\"#0d0887\"],[0.1111111111111111,\"#46039f\"],[0.2222222222222222,\"#7201a8\"],[0.3333333333333333,\"#9c179e\"],[0.4444444444444444,\"#bd3786\"],[0.5555555555555556,\"#d8576b\"],[0.6666666666666666,\"#ed7953\"],[0.7777777777777778,\"#fb9f3a\"],[0.8888888888888888,\"#fdca26\"],[1.0,\"#f0f921\"]],\"type\":\"histogram2d\"}],\"histogram\":[{\"marker\":{\"pattern\":{\"fillmode\":\"overlay\",\"size\":10,\"solidity\":0.2}},\"type\":\"histogram\"}],\"mesh3d\":[{\"colorbar\":{\"outlinewidth\":0,\"ticks\":\"\"},\"type\":\"mesh3d\"}],\"parcoords\":[{\"line\":{\"colorbar\":{\"outlinewidth\":0,\"ticks\":\"\"}},\"type\":\"parcoords\"}],\"pie\":[{\"automargin\":true,\"type\":\"pie\"}],\"scatter3d\":[{\"line\":{\"colorbar\":{\"outlinewidth\":0,\"ticks\":\"\"}},\"marker\":{\"colorbar\":{\"outlinewidth\":0,\"ticks\":\"\"}},\"type\":\"scatter3d\"}],\"scattercarpet\":[{\"marker\":{\"colorbar\":{\"outlinewidth\":0,\"ticks\":\"\"}},\"type\":\"scattercarpet\"}],\"scattergeo\":[{\"marker\":{\"colorbar\":{\"outlinewidth\":0,\"ticks\":\"\"}},\"type\":\"scattergeo\"}],\"scattergl\":[{\"marker\":{\"line\":{\"color\":\"#283442\"}},\"type\":\"scattergl\"}],\"scattermapbox\":[{\"marker\":{\"colorbar\":{\"outlinewidth\":0,\"ticks\":\"\"}},\"type\":\"scattermapbox\"}],\"scatterpolargl\":[{\"marker\":{\"colorbar\":{\"outlinewidth\":0,\"ticks\":\"\"}},\"type\":\"scatterpolargl\"}],\"scatterpolar\":[{\"marker\":{\"colorbar\":{\"outlinewidth\":0,\"ticks\":\"\"}},\"type\":\"scatterpolar\"}],\"scatter\":[{\"marker\":{\"line\":{\"color\":\"#283442\"}},\"type\":\"scatter\"}],\"scatterternary\":[{\"marker\":{\"colorbar\":{\"outlinewidth\":0,\"ticks\":\"\"}},\"type\":\"scatterternary\"}],\"surface\":[{\"colorbar\":{\"outlinewidth\":0,\"ticks\":\"\"},\"colorscale\":[[0.0,\"#0d0887\"],[0.1111111111111111,\"#46039f\"],[0.2222222222222222,\"#7201a8\"],[0.3333333333333333,\"#9c179e\"],[0.4444444444444444,\"#bd3786\"],[0.5555555555555556,\"#d8576b\"],[0.6666666666666666,\"#ed7953\"],[0.7777777777777778,\"#fb9f3a\"],[0.8888888888888888,\"#fdca26\"],[1.0,\"#f0f921\"]],\"type\":\"surface\"}],\"table\":[{\"cells\":{\"fill\":{\"color\":\"#506784\"},\"line\":{\"color\":\"rgb(17,17,17)\"}},\"header\":{\"fill\":{\"color\":\"#2a3f5f\"},\"line\":{\"color\":\"rgb(17,17,17)\"}},\"type\":\"table\"}]},\"layout\":{\"annotationdefaults\":{\"arrowcolor\":\"#f2f5fa\",\"arrowhead\":0,\"arrowwidth\":1},\"autotypenumbers\":\"strict\",\"coloraxis\":{\"colorbar\":{\"outlinewidth\":0,\"ticks\":\"\"}},\"colorscale\":{\"diverging\":[[0,\"#8e0152\"],[0.1,\"#c51b7d\"],[0.2,\"#de77ae\"],[0.3,\"#f1b6da\"],[0.4,\"#fde0ef\"],[0.5,\"#f7f7f7\"],[0.6,\"#e6f5d0\"],[0.7,\"#b8e186\"],[0.8,\"#7fbc41\"],[0.9,\"#4d9221\"],[1,\"#276419\"]],\"sequential\":[[0.0,\"#0d0887\"],[0.1111111111111111,\"#46039f\"],[0.2222222222222222,\"#7201a8\"],[0.3333333333333333,\"#9c179e\"],[0.4444444444444444,\"#bd3786\"],[0.5555555555555556,\"#d8576b\"],[0.6666666666666666,\"#ed7953\"],[0.7777777777777778,\"#fb9f3a\"],[0.8888888888888888,\"#fdca26\"],[1.0,\"#f0f921\"]],\"sequentialminus\":[[0.0,\"#0d0887\"],[0.1111111111111111,\"#46039f\"],[0.2222222222222222,\"#7201a8\"],[0.3333333333333333,\"#9c179e\"],[0.4444444444444444,\"#bd3786\"],[0.5555555555555556,\"#d8576b\"],[0.6666666666666666,\"#ed7953\"],[0.7777777777777778,\"#fb9f3a\"],[0.8888888888888888,\"#fdca26\"],[1.0,\"#f0f921\"]]},\"colorway\":[\"#636efa\",\"#EF553B\",\"#00cc96\",\"#ab63fa\",\"#FFA15A\",\"#19d3f3\",\"#FF6692\",\"#B6E880\",\"#FF97FF\",\"#FECB52\"],\"font\":{\"color\":\"#f2f5fa\"},\"geo\":{\"bgcolor\":\"rgb(17,17,17)\",\"lakecolor\":\"rgb(17,17,17)\",\"landcolor\":\"rgb(17,17,17)\",\"showlakes\":true,\"showland\":true,\"subunitcolor\":\"#506784\"},\"hoverlabel\":{\"align\":\"left\"},\"hovermode\":\"closest\",\"mapbox\":{\"style\":\"dark\"},\"paper_bgcolor\":\"rgb(17,17,17)\",\"plot_bgcolor\":\"rgb(17,17,17)\",\"polar\":{\"angularaxis\":{\"gridcolor\":\"#506784\",\"linecolor\":\"#506784\",\"ticks\":\"\"},\"bgcolor\":\"rgb(17,17,17)\",\"radialaxis\":{\"gridcolor\":\"#506784\",\"linecolor\":\"#506784\",\"ticks\":\"\"}},\"scene\":{\"xaxis\":{\"backgroundcolor\":\"rgb(17,17,17)\",\"gridcolor\":\"#506784\",\"gridwidth\":2,\"linecolor\":\"#506784\",\"showbackground\":true,\"ticks\":\"\",\"zerolinecolor\":\"#C8D4E3\"},\"yaxis\":{\"backgroundcolor\":\"rgb(17,17,17)\",\"gridcolor\":\"#506784\",\"gridwidth\":2,\"linecolor\":\"#506784\",\"showbackground\":true,\"ticks\":\"\",\"zerolinecolor\":\"#C8D4E3\"},\"zaxis\":{\"backgroundcolor\":\"rgb(17,17,17)\",\"gridcolor\":\"#506784\",\"gridwidth\":2,\"linecolor\":\"#506784\",\"showbackground\":true,\"ticks\":\"\",\"zerolinecolor\":\"#C8D4E3\"}},\"shapedefaults\":{\"line\":{\"color\":\"#f2f5fa\"}},\"sliderdefaults\":{\"bgcolor\":\"#C8D4E3\",\"bordercolor\":\"rgb(17,17,17)\",\"borderwidth\":1,\"tickwidth\":0},\"ternary\":{\"aaxis\":{\"gridcolor\":\"#506784\",\"linecolor\":\"#506784\",\"ticks\":\"\"},\"baxis\":{\"gridcolor\":\"#506784\",\"linecolor\":\"#506784\",\"ticks\":\"\"},\"bgcolor\":\"rgb(17,17,17)\",\"caxis\":{\"gridcolor\":\"#506784\",\"linecolor\":\"#506784\",\"ticks\":\"\"}},\"title\":{\"x\":0.05},\"updatemenudefaults\":{\"bgcolor\":\"#506784\",\"borderwidth\":0},\"xaxis\":{\"automargin\":true,\"gridcolor\":\"#283442\",\"linecolor\":\"#506784\",\"ticks\":\"\",\"title\":{\"standoff\":15},\"zerolinecolor\":\"#283442\",\"zerolinewidth\":2},\"yaxis\":{\"automargin\":true,\"gridcolor\":\"#283442\",\"linecolor\":\"#506784\",\"ticks\":\"\",\"title\":{\"standoff\":15},\"zerolinecolor\":\"#283442\",\"zerolinewidth\":2}}},\"legend\":{\"tracegroupgap\":0},\"title\":{\"text\":\"Genre Distribution of Anime\"},\"piecolorway\":[\"rgb(102,194,165)\",\"rgb(252,141,98)\",\"rgb(141,160,203)\",\"rgb(231,138,195)\",\"rgb(166,216,84)\",\"rgb(255,217,47)\",\"rgb(229,196,148)\",\"rgb(179,179,179)\"],\"font\":{\"size\":13},\"showlegend\":false},                        {\"responsive\": true}                    ).then(function(){\n",
       "                            \n",
       "var gd = document.getElementById('fb158588-3c7c-4f95-a029-f0bece50e477');\n",
       "var x = new MutationObserver(function (mutations, observer) {{\n",
       "        var display = window.getComputedStyle(gd).display;\n",
       "        if (!display || display === 'none') {{\n",
       "            console.log([gd, 'removed!']);\n",
       "            Plotly.purge(gd);\n",
       "            observer.disconnect();\n",
       "        }}\n",
       "}});\n",
       "\n",
       "// Listen for the removal of the full notebook cells\n",
       "var notebookContainer = gd.closest('#notebook-container');\n",
       "if (notebookContainer) {{\n",
       "    x.observe(notebookContainer, {childList: true});\n",
       "}}\n",
       "\n",
       "// Listen for the clearing of the current output cell\n",
       "var outputEl = gd.closest('.output');\n",
       "if (outputEl) {{\n",
       "    x.observe(outputEl, {childList: true});\n",
       "}}\n",
       "\n",
       "                        })                };                            </script>        </div>\n",
       "</body>\n",
       "</html>"
      ]
     },
     "metadata": {},
     "output_type": "display_data"
    }
   ],
   "source": [
    "fig4 = px.pie(df, names=\"Genre\", \n",
    "             title=\"Genre Distribution of Anime\",\n",
    "             color_discrete_sequence=px.colors.qualitative.Set2, \n",
    "             hole=0.3)  \n",
    "\n",
    "fig4.update_traces(textinfo=\"percent+label\", \n",
    "                  pull=[0.05 if i == df['Genre'].value_counts().idxmax() else 0 for i in df['Genre'].unique()],  # Pops out the most common genre\n",
    "                  marker=dict(line=dict(color='black', width=1)))  \n",
    "\n",
    "fig4.update_layout(\n",
    "    showlegend=False,\n",
    "    font=dict(size=13),\n",
    "    template=\"plotly_dark\"  \n",
    ")\n",
    "\n",
    "fig4.show()\n",
    "#fig.write_image(\"plotly_chart.png\")"
   ]
  },
  {
   "cell_type": "code",
   "execution_count": 11,
   "id": "5dfd6e55",
   "metadata": {
    "collapsed": true,
    "execution": {
     "iopub.execute_input": "2025-03-02T06:32:54.204463Z",
     "iopub.status.busy": "2025-03-02T06:32:54.204158Z",
     "iopub.status.idle": "2025-03-02T06:32:54.326360Z",
     "shell.execute_reply": "2025-03-02T06:32:54.325338Z"
    },
    "jupyter": {
     "outputs_hidden": true,
     "source_hidden": true
    },
    "papermill": {
     "duration": 0.130115,
     "end_time": "2025-03-02T06:32:54.327947",
     "exception": false,
     "start_time": "2025-03-02T06:32:54.197832",
     "status": "completed"
    },
    "tags": []
   },
   "outputs": [
    {
     "data": {
      "text/html": [
       "<html>\n",
       "<head><meta charset=\"utf-8\" /></head>\n",
       "<body>\n",
       "    <div>            <script src=\"https://cdnjs.cloudflare.com/ajax/libs/mathjax/2.7.5/MathJax.js?config=TeX-AMS-MML_SVG\"></script><script type=\"text/javascript\">if (window.MathJax && window.MathJax.Hub && window.MathJax.Hub.Config) {window.MathJax.Hub.Config({SVG: {font: \"STIX-Web\"}});}</script>                <script type=\"text/javascript\">window.PlotlyConfig = {MathJaxConfig: 'local'};</script>\n",
       "        <script charset=\"utf-8\" src=\"https://cdn.plot.ly/plotly-2.35.2.min.js\"></script>                <div id=\"9902a3af-ad14-4775-9de4-7cc5979dd0f1\" class=\"plotly-graph-div\" style=\"height:525px; width:100%;\"></div>            <script type=\"text/javascript\">                                    window.PLOTLYENV=window.PLOTLYENV || {};                                    if (document.getElementById(\"9902a3af-ad14-4775-9de4-7cc5979dd0f1\")) {                    Plotly.newPlot(                        \"9902a3af-ad14-4775-9de4-7cc5979dd0f1\",                        [{\"alignmentgroup\":\"True\",\"hovertemplate\":\"Genre=%{x}\\u003cbr\\u003eRatings=%{y}\\u003cextra\\u003e\\u003c\\u002fextra\\u003e\",\"legendgroup\":\"Adventure\",\"marker\":{\"color\":\"rgb(102,194,165)\"},\"name\":\"Adventure\",\"notched\":false,\"offsetgroup\":\"Adventure\",\"orientation\":\"v\",\"showlegend\":true,\"x\":[\"Adventure\",\"Adventure\",\"Adventure\",\"Adventure\",\"Adventure\",\"Adventure\"],\"x0\":\" \",\"xaxis\":\"x\",\"y\":[9.2,9.4,8.1,6.7,9.5,7.9],\"y0\":\" \",\"yaxis\":\"y\",\"type\":\"box\"},{\"alignmentgroup\":\"True\",\"hovertemplate\":\"Genre=%{x}\\u003cbr\\u003eRatings=%{y}\\u003cextra\\u003e\\u003c\\u002fextra\\u003e\",\"legendgroup\":\"Comedy\",\"marker\":{\"color\":\"rgb(252,141,98)\"},\"name\":\"Comedy\",\"notched\":false,\"offsetgroup\":\"Comedy\",\"orientation\":\"v\",\"showlegend\":true,\"x\":[\"Comedy\",\"Comedy\",\"Comedy\",\"Comedy\",\"Comedy\"],\"x0\":\" \",\"xaxis\":\"x\",\"y\":[6.9,8.5,6.3,9.4,6.8],\"y0\":\" \",\"yaxis\":\"y\",\"type\":\"box\"},{\"alignmentgroup\":\"True\",\"hovertemplate\":\"Genre=%{x}\\u003cbr\\u003eRatings=%{y}\\u003cextra\\u003e\\u003c\\u002fextra\\u003e\",\"legendgroup\":\"Action\",\"marker\":{\"color\":\"rgb(141,160,203)\"},\"name\":\"Action\",\"notched\":false,\"offsetgroup\":\"Action\",\"orientation\":\"v\",\"showlegend\":true,\"x\":[\"Action\",\"Action\",\"Action\",\"Action\",\"Action\"],\"x0\":\" \",\"xaxis\":\"x\",\"y\":[7.0,9.4,9.6,7.3,6.3],\"y0\":\" \",\"yaxis\":\"y\",\"type\":\"box\"},{\"alignmentgroup\":\"True\",\"hovertemplate\":\"Genre=%{x}\\u003cbr\\u003eRatings=%{y}\\u003cextra\\u003e\\u003c\\u002fextra\\u003e\",\"legendgroup\":\"Thriller\",\"marker\":{\"color\":\"rgb(231,138,195)\"},\"name\":\"Thriller\",\"notched\":false,\"offsetgroup\":\"Thriller\",\"orientation\":\"v\",\"showlegend\":true,\"x\":[\"Thriller\",\"Thriller\",\"Thriller\",\"Thriller\",\"Thriller\"],\"x0\":\" \",\"xaxis\":\"x\",\"y\":[9.9,6.8,9.9,6.9,9.9],\"y0\":\" \",\"yaxis\":\"y\",\"type\":\"box\"},{\"alignmentgroup\":\"True\",\"hovertemplate\":\"Genre=%{x}\\u003cbr\\u003eRatings=%{y}\\u003cextra\\u003e\\u003c\\u002fextra\\u003e\",\"legendgroup\":\"Supernatural\",\"marker\":{\"color\":\"rgb(166,216,84)\"},\"name\":\"Supernatural\",\"notched\":false,\"offsetgroup\":\"Supernatural\",\"orientation\":\"v\",\"showlegend\":true,\"x\":[\"Supernatural\",\"Supernatural\",\"Supernatural\"],\"x0\":\" \",\"xaxis\":\"x\",\"y\":[7.1,7.5,8.7],\"y0\":\" \",\"yaxis\":\"y\",\"type\":\"box\"},{\"alignmentgroup\":\"True\",\"hovertemplate\":\"Genre=%{x}\\u003cbr\\u003eRatings=%{y}\\u003cextra\\u003e\\u003c\\u002fextra\\u003e\",\"legendgroup\":\"Psychological\",\"marker\":{\"color\":\"rgb(255,217,47)\"},\"name\":\"Psychological\",\"notched\":false,\"offsetgroup\":\"Psychological\",\"orientation\":\"v\",\"showlegend\":true,\"x\":[\"Psychological\",\"Psychological\",\"Psychological\",\"Psychological\"],\"x0\":\" \",\"xaxis\":\"x\",\"y\":[9.4,8.3,9.8,7.5],\"y0\":\" \",\"yaxis\":\"y\",\"type\":\"box\"},{\"alignmentgroup\":\"True\",\"hovertemplate\":\"Genre=%{x}\\u003cbr\\u003eRatings=%{y}\\u003cextra\\u003e\\u003c\\u002fextra\\u003e\",\"legendgroup\":\"Fantasy\",\"marker\":{\"color\":\"rgb(229,196,148)\"},\"name\":\"Fantasy\",\"notched\":false,\"offsetgroup\":\"Fantasy\",\"orientation\":\"v\",\"showlegend\":true,\"x\":[\"Fantasy\",\"Fantasy\",\"Fantasy\"],\"x0\":\" \",\"xaxis\":\"x\",\"y\":[9.1,7.2,7.7],\"y0\":\" \",\"yaxis\":\"y\",\"type\":\"box\"},{\"alignmentgroup\":\"True\",\"hovertemplate\":\"Genre=%{x}\\u003cbr\\u003eRatings=%{y}\\u003cextra\\u003e\\u003c\\u002fextra\\u003e\",\"legendgroup\":\"Mystery\",\"marker\":{\"color\":\"rgb(179,179,179)\"},\"name\":\"Mystery\",\"notched\":false,\"offsetgroup\":\"Mystery\",\"orientation\":\"v\",\"showlegend\":true,\"x\":[\"Mystery\",\"Mystery\",\"Mystery\",\"Mystery\",\"Mystery\",\"Mystery\"],\"x0\":\" \",\"xaxis\":\"x\",\"y\":[9.8,7.5,7.0,7.4,8.3,8.3],\"y0\":\" \",\"yaxis\":\"y\",\"type\":\"box\"},{\"alignmentgroup\":\"True\",\"hovertemplate\":\"Genre=%{x}\\u003cbr\\u003eRatings=%{y}\\u003cextra\\u003e\\u003c\\u002fextra\\u003e\",\"legendgroup\":\"Drama\",\"marker\":{\"color\":\"rgb(102,194,165)\"},\"name\":\"Drama\",\"notched\":false,\"offsetgroup\":\"Drama\",\"orientation\":\"v\",\"showlegend\":true,\"x\":[\"Drama\",\"Drama\"],\"x0\":\" \",\"xaxis\":\"x\",\"y\":[6.8,9.4],\"y0\":\" \",\"yaxis\":\"y\",\"type\":\"box\"},{\"alignmentgroup\":\"True\",\"hovertemplate\":\"Genre=%{x}\\u003cbr\\u003eRatings=%{y}\\u003cextra\\u003e\\u003c\\u002fextra\\u003e\",\"legendgroup\":\"Sci-Fi\",\"marker\":{\"color\":\"rgb(252,141,98)\"},\"name\":\"Sci-Fi\",\"notched\":false,\"offsetgroup\":\"Sci-Fi\",\"orientation\":\"v\",\"showlegend\":true,\"x\":[\"Sci-Fi\",\"Sci-Fi\"],\"x0\":\" \",\"xaxis\":\"x\",\"y\":[8.8,7.2],\"y0\":\" \",\"yaxis\":\"y\",\"type\":\"box\"}],                        {\"template\":{\"data\":{\"barpolar\":[{\"marker\":{\"line\":{\"color\":\"rgb(17,17,17)\",\"width\":0.5},\"pattern\":{\"fillmode\":\"overlay\",\"size\":10,\"solidity\":0.2}},\"type\":\"barpolar\"}],\"bar\":[{\"error_x\":{\"color\":\"#f2f5fa\"},\"error_y\":{\"color\":\"#f2f5fa\"},\"marker\":{\"line\":{\"color\":\"rgb(17,17,17)\",\"width\":0.5},\"pattern\":{\"fillmode\":\"overlay\",\"size\":10,\"solidity\":0.2}},\"type\":\"bar\"}],\"carpet\":[{\"aaxis\":{\"endlinecolor\":\"#A2B1C6\",\"gridcolor\":\"#506784\",\"linecolor\":\"#506784\",\"minorgridcolor\":\"#506784\",\"startlinecolor\":\"#A2B1C6\"},\"baxis\":{\"endlinecolor\":\"#A2B1C6\",\"gridcolor\":\"#506784\",\"linecolor\":\"#506784\",\"minorgridcolor\":\"#506784\",\"startlinecolor\":\"#A2B1C6\"},\"type\":\"carpet\"}],\"choropleth\":[{\"colorbar\":{\"outlinewidth\":0,\"ticks\":\"\"},\"type\":\"choropleth\"}],\"contourcarpet\":[{\"colorbar\":{\"outlinewidth\":0,\"ticks\":\"\"},\"type\":\"contourcarpet\"}],\"contour\":[{\"colorbar\":{\"outlinewidth\":0,\"ticks\":\"\"},\"colorscale\":[[0.0,\"#0d0887\"],[0.1111111111111111,\"#46039f\"],[0.2222222222222222,\"#7201a8\"],[0.3333333333333333,\"#9c179e\"],[0.4444444444444444,\"#bd3786\"],[0.5555555555555556,\"#d8576b\"],[0.6666666666666666,\"#ed7953\"],[0.7777777777777778,\"#fb9f3a\"],[0.8888888888888888,\"#fdca26\"],[1.0,\"#f0f921\"]],\"type\":\"contour\"}],\"heatmapgl\":[{\"colorbar\":{\"outlinewidth\":0,\"ticks\":\"\"},\"colorscale\":[[0.0,\"#0d0887\"],[0.1111111111111111,\"#46039f\"],[0.2222222222222222,\"#7201a8\"],[0.3333333333333333,\"#9c179e\"],[0.4444444444444444,\"#bd3786\"],[0.5555555555555556,\"#d8576b\"],[0.6666666666666666,\"#ed7953\"],[0.7777777777777778,\"#fb9f3a\"],[0.8888888888888888,\"#fdca26\"],[1.0,\"#f0f921\"]],\"type\":\"heatmapgl\"}],\"heatmap\":[{\"colorbar\":{\"outlinewidth\":0,\"ticks\":\"\"},\"colorscale\":[[0.0,\"#0d0887\"],[0.1111111111111111,\"#46039f\"],[0.2222222222222222,\"#7201a8\"],[0.3333333333333333,\"#9c179e\"],[0.4444444444444444,\"#bd3786\"],[0.5555555555555556,\"#d8576b\"],[0.6666666666666666,\"#ed7953\"],[0.7777777777777778,\"#fb9f3a\"],[0.8888888888888888,\"#fdca26\"],[1.0,\"#f0f921\"]],\"type\":\"heatmap\"}],\"histogram2dcontour\":[{\"colorbar\":{\"outlinewidth\":0,\"ticks\":\"\"},\"colorscale\":[[0.0,\"#0d0887\"],[0.1111111111111111,\"#46039f\"],[0.2222222222222222,\"#7201a8\"],[0.3333333333333333,\"#9c179e\"],[0.4444444444444444,\"#bd3786\"],[0.5555555555555556,\"#d8576b\"],[0.6666666666666666,\"#ed7953\"],[0.7777777777777778,\"#fb9f3a\"],[0.8888888888888888,\"#fdca26\"],[1.0,\"#f0f921\"]],\"type\":\"histogram2dcontour\"}],\"histogram2d\":[{\"colorbar\":{\"outlinewidth\":0,\"ticks\":\"\"},\"colorscale\":[[0.0,\"#0d0887\"],[0.1111111111111111,\"#46039f\"],[0.2222222222222222,\"#7201a8\"],[0.3333333333333333,\"#9c179e\"],[0.4444444444444444,\"#bd3786\"],[0.5555555555555556,\"#d8576b\"],[0.6666666666666666,\"#ed7953\"],[0.7777777777777778,\"#fb9f3a\"],[0.8888888888888888,\"#fdca26\"],[1.0,\"#f0f921\"]],\"type\":\"histogram2d\"}],\"histogram\":[{\"marker\":{\"pattern\":{\"fillmode\":\"overlay\",\"size\":10,\"solidity\":0.2}},\"type\":\"histogram\"}],\"mesh3d\":[{\"colorbar\":{\"outlinewidth\":0,\"ticks\":\"\"},\"type\":\"mesh3d\"}],\"parcoords\":[{\"line\":{\"colorbar\":{\"outlinewidth\":0,\"ticks\":\"\"}},\"type\":\"parcoords\"}],\"pie\":[{\"automargin\":true,\"type\":\"pie\"}],\"scatter3d\":[{\"line\":{\"colorbar\":{\"outlinewidth\":0,\"ticks\":\"\"}},\"marker\":{\"colorbar\":{\"outlinewidth\":0,\"ticks\":\"\"}},\"type\":\"scatter3d\"}],\"scattercarpet\":[{\"marker\":{\"colorbar\":{\"outlinewidth\":0,\"ticks\":\"\"}},\"type\":\"scattercarpet\"}],\"scattergeo\":[{\"marker\":{\"colorbar\":{\"outlinewidth\":0,\"ticks\":\"\"}},\"type\":\"scattergeo\"}],\"scattergl\":[{\"marker\":{\"line\":{\"color\":\"#283442\"}},\"type\":\"scattergl\"}],\"scattermapbox\":[{\"marker\":{\"colorbar\":{\"outlinewidth\":0,\"ticks\":\"\"}},\"type\":\"scattermapbox\"}],\"scatterpolargl\":[{\"marker\":{\"colorbar\":{\"outlinewidth\":0,\"ticks\":\"\"}},\"type\":\"scatterpolargl\"}],\"scatterpolar\":[{\"marker\":{\"colorbar\":{\"outlinewidth\":0,\"ticks\":\"\"}},\"type\":\"scatterpolar\"}],\"scatter\":[{\"marker\":{\"line\":{\"color\":\"#283442\"}},\"type\":\"scatter\"}],\"scatterternary\":[{\"marker\":{\"colorbar\":{\"outlinewidth\":0,\"ticks\":\"\"}},\"type\":\"scatterternary\"}],\"surface\":[{\"colorbar\":{\"outlinewidth\":0,\"ticks\":\"\"},\"colorscale\":[[0.0,\"#0d0887\"],[0.1111111111111111,\"#46039f\"],[0.2222222222222222,\"#7201a8\"],[0.3333333333333333,\"#9c179e\"],[0.4444444444444444,\"#bd3786\"],[0.5555555555555556,\"#d8576b\"],[0.6666666666666666,\"#ed7953\"],[0.7777777777777778,\"#fb9f3a\"],[0.8888888888888888,\"#fdca26\"],[1.0,\"#f0f921\"]],\"type\":\"surface\"}],\"table\":[{\"cells\":{\"fill\":{\"color\":\"#506784\"},\"line\":{\"color\":\"rgb(17,17,17)\"}},\"header\":{\"fill\":{\"color\":\"#2a3f5f\"},\"line\":{\"color\":\"rgb(17,17,17)\"}},\"type\":\"table\"}]},\"layout\":{\"annotationdefaults\":{\"arrowcolor\":\"#f2f5fa\",\"arrowhead\":0,\"arrowwidth\":1},\"autotypenumbers\":\"strict\",\"coloraxis\":{\"colorbar\":{\"outlinewidth\":0,\"ticks\":\"\"}},\"colorscale\":{\"diverging\":[[0,\"#8e0152\"],[0.1,\"#c51b7d\"],[0.2,\"#de77ae\"],[0.3,\"#f1b6da\"],[0.4,\"#fde0ef\"],[0.5,\"#f7f7f7\"],[0.6,\"#e6f5d0\"],[0.7,\"#b8e186\"],[0.8,\"#7fbc41\"],[0.9,\"#4d9221\"],[1,\"#276419\"]],\"sequential\":[[0.0,\"#0d0887\"],[0.1111111111111111,\"#46039f\"],[0.2222222222222222,\"#7201a8\"],[0.3333333333333333,\"#9c179e\"],[0.4444444444444444,\"#bd3786\"],[0.5555555555555556,\"#d8576b\"],[0.6666666666666666,\"#ed7953\"],[0.7777777777777778,\"#fb9f3a\"],[0.8888888888888888,\"#fdca26\"],[1.0,\"#f0f921\"]],\"sequentialminus\":[[0.0,\"#0d0887\"],[0.1111111111111111,\"#46039f\"],[0.2222222222222222,\"#7201a8\"],[0.3333333333333333,\"#9c179e\"],[0.4444444444444444,\"#bd3786\"],[0.5555555555555556,\"#d8576b\"],[0.6666666666666666,\"#ed7953\"],[0.7777777777777778,\"#fb9f3a\"],[0.8888888888888888,\"#fdca26\"],[1.0,\"#f0f921\"]]},\"colorway\":[\"#636efa\",\"#EF553B\",\"#00cc96\",\"#ab63fa\",\"#FFA15A\",\"#19d3f3\",\"#FF6692\",\"#B6E880\",\"#FF97FF\",\"#FECB52\"],\"font\":{\"color\":\"#f2f5fa\"},\"geo\":{\"bgcolor\":\"rgb(17,17,17)\",\"lakecolor\":\"rgb(17,17,17)\",\"landcolor\":\"rgb(17,17,17)\",\"showlakes\":true,\"showland\":true,\"subunitcolor\":\"#506784\"},\"hoverlabel\":{\"align\":\"left\"},\"hovermode\":\"closest\",\"mapbox\":{\"style\":\"dark\"},\"paper_bgcolor\":\"rgb(17,17,17)\",\"plot_bgcolor\":\"rgb(17,17,17)\",\"polar\":{\"angularaxis\":{\"gridcolor\":\"#506784\",\"linecolor\":\"#506784\",\"ticks\":\"\"},\"bgcolor\":\"rgb(17,17,17)\",\"radialaxis\":{\"gridcolor\":\"#506784\",\"linecolor\":\"#506784\",\"ticks\":\"\"}},\"scene\":{\"xaxis\":{\"backgroundcolor\":\"rgb(17,17,17)\",\"gridcolor\":\"#506784\",\"gridwidth\":2,\"linecolor\":\"#506784\",\"showbackground\":true,\"ticks\":\"\",\"zerolinecolor\":\"#C8D4E3\"},\"yaxis\":{\"backgroundcolor\":\"rgb(17,17,17)\",\"gridcolor\":\"#506784\",\"gridwidth\":2,\"linecolor\":\"#506784\",\"showbackground\":true,\"ticks\":\"\",\"zerolinecolor\":\"#C8D4E3\"},\"zaxis\":{\"backgroundcolor\":\"rgb(17,17,17)\",\"gridcolor\":\"#506784\",\"gridwidth\":2,\"linecolor\":\"#506784\",\"showbackground\":true,\"ticks\":\"\",\"zerolinecolor\":\"#C8D4E3\"}},\"shapedefaults\":{\"line\":{\"color\":\"#f2f5fa\"}},\"sliderdefaults\":{\"bgcolor\":\"#C8D4E3\",\"bordercolor\":\"rgb(17,17,17)\",\"borderwidth\":1,\"tickwidth\":0},\"ternary\":{\"aaxis\":{\"gridcolor\":\"#506784\",\"linecolor\":\"#506784\",\"ticks\":\"\"},\"baxis\":{\"gridcolor\":\"#506784\",\"linecolor\":\"#506784\",\"ticks\":\"\"},\"bgcolor\":\"rgb(17,17,17)\",\"caxis\":{\"gridcolor\":\"#506784\",\"linecolor\":\"#506784\",\"ticks\":\"\"}},\"title\":{\"x\":0.05},\"updatemenudefaults\":{\"bgcolor\":\"#506784\",\"borderwidth\":0},\"xaxis\":{\"automargin\":true,\"gridcolor\":\"#283442\",\"linecolor\":\"#506784\",\"ticks\":\"\",\"title\":{\"standoff\":15},\"zerolinecolor\":\"#283442\",\"zerolinewidth\":2},\"yaxis\":{\"automargin\":true,\"gridcolor\":\"#283442\",\"linecolor\":\"#506784\",\"ticks\":\"\",\"title\":{\"standoff\":15},\"zerolinecolor\":\"#283442\",\"zerolinewidth\":2}}},\"xaxis\":{\"anchor\":\"y\",\"domain\":[0.0,1.0],\"title\":{\"text\":\"Genre\"},\"categoryorder\":\"array\",\"categoryarray\":[\"Adventure\",\"Comedy\",\"Action\",\"Thriller\",\"Supernatural\",\"Psychological\",\"Fantasy\",\"Mystery\",\"Drama\",\"Sci-Fi\"],\"tickangle\":-15},\"yaxis\":{\"anchor\":\"x\",\"domain\":[0.0,1.0],\"title\":{\"text\":\"Ratings\"}},\"legend\":{\"title\":{\"text\":\"Genre\"},\"tracegroupgap\":0},\"title\":{\"text\":\"Rating Distribution by Genre\"},\"boxmode\":\"overlay\",\"font\":{\"size\":13},\"showlegend\":false},                        {\"responsive\": true}                    ).then(function(){\n",
       "                            \n",
       "var gd = document.getElementById('9902a3af-ad14-4775-9de4-7cc5979dd0f1');\n",
       "var x = new MutationObserver(function (mutations, observer) {{\n",
       "        var display = window.getComputedStyle(gd).display;\n",
       "        if (!display || display === 'none') {{\n",
       "            console.log([gd, 'removed!']);\n",
       "            Plotly.purge(gd);\n",
       "            observer.disconnect();\n",
       "        }}\n",
       "}});\n",
       "\n",
       "// Listen for the removal of the full notebook cells\n",
       "var notebookContainer = gd.closest('#notebook-container');\n",
       "if (notebookContainer) {{\n",
       "    x.observe(notebookContainer, {childList: true});\n",
       "}}\n",
       "\n",
       "// Listen for the clearing of the current output cell\n",
       "var outputEl = gd.closest('.output');\n",
       "if (outputEl) {{\n",
       "    x.observe(outputEl, {childList: true});\n",
       "}}\n",
       "\n",
       "                        })                };                            </script>        </div>\n",
       "</body>\n",
       "</html>"
      ]
     },
     "metadata": {},
     "output_type": "display_data"
    }
   ],
   "source": [
    "fig5 = px.box(df, x=\"Genre\", y=\"Ratings\", \n",
    "             title=\"Rating Distribution by Genre\",\n",
    "             color=\"Genre\",\n",
    "             color_discrete_sequence=px.colors.qualitative.Set2)\n",
    "\n",
    "fig5.update_layout(\n",
    "    xaxis_title=\"Genre\",\n",
    "    yaxis_title=\"Ratings\",\n",
    "    font=dict(size=13),\n",
    "    template=\"plotly_dark\",\n",
    "    showlegend=False,\n",
    "    xaxis_tickangle=-15  \n",
    ")\n",
    "\n",
    "fig5.show()\n",
    "#fig.write_image(\"box_plot.png\")"
   ]
  },
  {
   "cell_type": "code",
   "execution_count": 12,
   "id": "549e72b1",
   "metadata": {
    "collapsed": true,
    "execution": {
     "iopub.execute_input": "2025-03-02T06:32:54.340462Z",
     "iopub.status.busy": "2025-03-02T06:32:54.340145Z",
     "iopub.status.idle": "2025-03-02T06:32:54.452900Z",
     "shell.execute_reply": "2025-03-02T06:32:54.451879Z"
    },
    "jupyter": {
     "outputs_hidden": true,
     "source_hidden": true
    },
    "papermill": {
     "duration": 0.120867,
     "end_time": "2025-03-02T06:32:54.454721",
     "exception": false,
     "start_time": "2025-03-02T06:32:54.333854",
     "status": "completed"
    },
    "tags": []
   },
   "outputs": [
    {
     "data": {
      "text/html": [
       "<html>\n",
       "<head><meta charset=\"utf-8\" /></head>\n",
       "<body>\n",
       "    <div>            <script src=\"https://cdnjs.cloudflare.com/ajax/libs/mathjax/2.7.5/MathJax.js?config=TeX-AMS-MML_SVG\"></script><script type=\"text/javascript\">if (window.MathJax && window.MathJax.Hub && window.MathJax.Hub.Config) {window.MathJax.Hub.Config({SVG: {font: \"STIX-Web\"}});}</script>                <script type=\"text/javascript\">window.PlotlyConfig = {MathJaxConfig: 'local'};</script>\n",
       "        <script charset=\"utf-8\" src=\"https://cdn.plot.ly/plotly-2.35.2.min.js\"></script>                <div id=\"f36e9bec-652a-4b6c-9bbc-5e33f416b2bf\" class=\"plotly-graph-div\" style=\"height:525px; width:100%;\"></div>            <script type=\"text/javascript\">                                    window.PLOTLYENV=window.PLOTLYENV || {};                                    if (document.getElementById(\"f36e9bec-652a-4b6c-9bbc-5e33f416b2bf\")) {                    Plotly.newPlot(                        \"f36e9bec-652a-4b6c-9bbc-5e33f416b2bf\",                        [{\"customdata\":[[\"Haikyuu!!\",\"MAPPA\"],[\"Bleach\",\"MAPPA\"],[\"Naruto\",\"MAPPA\"],[\"One Piece\",\"Studio Ghibli\"],[\"Hunter x Hunter\",\"MAPPA\"],[\"Black Clover\",\"Wit Studio\"]],\"hovertemplate\":\"Genre=Adventure\\u003cbr\\u003eBudget (in Million USD)=%{x}\\u003cbr\\u003eRatings=%{y}\\u003cbr\\u003eAnime Name=%{customdata[0]}\\u003cbr\\u003eAnimation Studio Name=%{customdata[1]}\\u003cextra\\u003e\\u003c\\u002fextra\\u003e\",\"legendgroup\":\"Adventure\",\"marker\":{\"color\":\"#636efa\",\"opacity\":0.8,\"symbol\":\"circle\"},\"mode\":\"markers\",\"name\":\"Adventure\",\"orientation\":\"v\",\"showlegend\":true,\"x\":[74.99,127.22,83.5,89.19,49.08,104.84],\"xaxis\":\"x\",\"y\":[9.2,9.4,8.1,6.7,9.5,7.9],\"yaxis\":\"y\",\"type\":\"scatter\"},{\"customdata\":[[\"Tokyo Ghoul\",\"MAPPA\"],[\"Attack on Titan\",\"Wit Studio\"],[\"Naruto\",\"Bones\"],[\"One Piece\",\"Madhouse\"],[\"My Hero Academia\",\"Studio Ghibli\"]],\"hovertemplate\":\"Genre=Comedy\\u003cbr\\u003eBudget (in Million USD)=%{x}\\u003cbr\\u003eRatings=%{y}\\u003cbr\\u003eAnime Name=%{customdata[0]}\\u003cbr\\u003eAnimation Studio Name=%{customdata[1]}\\u003cextra\\u003e\\u003c\\u002fextra\\u003e\",\"legendgroup\":\"Comedy\",\"marker\":{\"color\":\"#EF553B\",\"opacity\":0.8,\"symbol\":\"circle\"},\"mode\":\"markers\",\"name\":\"Comedy\",\"orientation\":\"v\",\"showlegend\":true,\"x\":[13.41,50.21,25.77,137.37,59.78],\"xaxis\":\"x\",\"y\":[6.9,8.5,6.3,9.4,6.8],\"yaxis\":\"y\",\"type\":\"scatter\"},{\"customdata\":[[\"Tokyo Ghoul\",\"Ufotable\"],[\"Tokyo Ghoul\",\"MAPPA\"],[\"My Hero Academia\",\"Bones\"],[\"Hunter x Hunter\",\"Bones\"],[\"Naruto\",\"Toei Animation\"]],\"hovertemplate\":\"Genre=Action\\u003cbr\\u003eBudget (in Million USD)=%{x}\\u003cbr\\u003eRatings=%{y}\\u003cbr\\u003eAnime Name=%{customdata[0]}\\u003cbr\\u003eAnimation Studio Name=%{customdata[1]}\\u003cextra\\u003e\\u003c\\u002fextra\\u003e\",\"legendgroup\":\"Action\",\"marker\":{\"color\":\"#00cc96\",\"opacity\":0.8,\"symbol\":\"circle\"},\"mode\":\"markers\",\"name\":\"Action\",\"orientation\":\"v\",\"showlegend\":true,\"x\":[32.7,110.82,145.33,137.95,9.62],\"xaxis\":\"x\",\"y\":[7.0,9.4,9.6,7.3,6.3],\"yaxis\":\"y\",\"type\":\"scatter\"},{\"customdata\":[[\"Mob Psycho 100\",\"Studio Ghibli\"],[\"Neon Genesis Evangelion\",\"Trigger\"],[\"Demon Slayer\",\"Madhouse\"],[\"Neon Genesis Evangelion\",\"Trigger\"],[\"Death Note\",\"Pierrot\"]],\"hovertemplate\":\"Genre=Thriller\\u003cbr\\u003eBudget (in Million USD)=%{x}\\u003cbr\\u003eRatings=%{y}\\u003cbr\\u003eAnime Name=%{customdata[0]}\\u003cbr\\u003eAnimation Studio Name=%{customdata[1]}\\u003cextra\\u003e\\u003c\\u002fextra\\u003e\",\"legendgroup\":\"Thriller\",\"marker\":{\"color\":\"#ab63fa\",\"opacity\":0.8,\"symbol\":\"circle\"},\"mode\":\"markers\",\"name\":\"Thriller\",\"orientation\":\"v\",\"showlegend\":true,\"x\":[117.41,146.16,61.38,60.63,12.24],\"xaxis\":\"x\",\"y\":[9.9,6.8,9.9,6.9,9.9],\"yaxis\":\"y\",\"type\":\"scatter\"},{\"customdata\":[[\"Neon Genesis Evangelion\",\"Trigger\"],[\"Demon Slayer\",\"Wit Studio\"],[\"Spirited Away\",\"Ufotable\"]],\"hovertemplate\":\"Genre=Supernatural\\u003cbr\\u003eBudget (in Million USD)=%{x}\\u003cbr\\u003eRatings=%{y}\\u003cbr\\u003eAnime Name=%{customdata[0]}\\u003cbr\\u003eAnimation Studio Name=%{customdata[1]}\\u003cextra\\u003e\\u003c\\u002fextra\\u003e\",\"legendgroup\":\"Supernatural\",\"marker\":{\"color\":\"#FFA15A\",\"opacity\":0.8,\"symbol\":\"circle\"},\"mode\":\"markers\",\"name\":\"Supernatural\",\"orientation\":\"v\",\"showlegend\":true,\"x\":[149.39,34.16,16.91],\"xaxis\":\"x\",\"y\":[7.1,7.5,8.7],\"yaxis\":\"y\",\"type\":\"scatter\"},{\"customdata\":[[\"Black Clover\",\"Trigger\"],[\"Re:Zero\",\"Studio Ghibli\"],[\"Neon Genesis Evangelion\",\"Wit Studio\"],[\"Mob Psycho 100\",\"Madhouse\"]],\"hovertemplate\":\"Genre=Psychological\\u003cbr\\u003eBudget (in Million USD)=%{x}\\u003cbr\\u003eRatings=%{y}\\u003cbr\\u003eAnime Name=%{customdata[0]}\\u003cbr\\u003eAnimation Studio Name=%{customdata[1]}\\u003cextra\\u003e\\u003c\\u002fextra\\u003e\",\"legendgroup\":\"Psychological\",\"marker\":{\"color\":\"#19d3f3\",\"opacity\":0.8,\"symbol\":\"circle\"},\"mode\":\"markers\",\"name\":\"Psychological\",\"orientation\":\"v\",\"showlegend\":true,\"x\":[103.52,64.49,138.77,58.25],\"xaxis\":\"x\",\"y\":[9.4,8.3,9.8,7.5],\"yaxis\":\"y\",\"type\":\"scatter\"},{\"customdata\":[[\"Death Note\",\"Madhouse\"],[\"Re:Zero\",\"Madhouse\"],[\"My Hero Academia\",\"Studio Ghibli\"]],\"hovertemplate\":\"Genre=Fantasy\\u003cbr\\u003eBudget (in Million USD)=%{x}\\u003cbr\\u003eRatings=%{y}\\u003cbr\\u003eAnime Name=%{customdata[0]}\\u003cbr\\u003eAnimation Studio Name=%{customdata[1]}\\u003cextra\\u003e\\u003c\\u002fextra\\u003e\",\"legendgroup\":\"Fantasy\",\"marker\":{\"color\":\"#FF6692\",\"opacity\":0.8,\"symbol\":\"circle\"},\"mode\":\"markers\",\"name\":\"Fantasy\",\"orientation\":\"v\",\"showlegend\":true,\"x\":[130.16,57.32,5.82],\"xaxis\":\"x\",\"y\":[9.1,7.2,7.7],\"yaxis\":\"y\",\"type\":\"scatter\"},{\"customdata\":[[\"Fairy Tail\",\"MAPPA\"],[\"Fairy Tail\",\"Studio Ghibli\"],[\"Dragon Ball Z\",\"Trigger\"],[\"Spirited Away\",\"Studio Ghibli\"],[\"Fairy Tail\",\"Toei Animation\"],[\"Fullmetal Alchemist\",\"MAPPA\"]],\"hovertemplate\":\"Genre=Mystery\\u003cbr\\u003eBudget (in Million USD)=%{x}\\u003cbr\\u003eRatings=%{y}\\u003cbr\\u003eAnime Name=%{customdata[0]}\\u003cbr\\u003eAnimation Studio Name=%{customdata[1]}\\u003cextra\\u003e\\u003c\\u002fextra\\u003e\",\"legendgroup\":\"Mystery\",\"marker\":{\"color\":\"#B6E880\",\"opacity\":0.8,\"symbol\":\"circle\"},\"mode\":\"markers\",\"name\":\"Mystery\",\"orientation\":\"v\",\"showlegend\":true,\"x\":[60.1,53.18,65.73,123.6,13.35,104.62],\"xaxis\":\"x\",\"y\":[9.8,7.5,7.0,7.4,8.3,8.3],\"yaxis\":\"y\",\"type\":\"scatter\"},{\"customdata\":[[\"Sword Art Online\",\"MAPPA\"],[\"Sword Art Online\",\"Ufotable\"]],\"hovertemplate\":\"Genre=Drama\\u003cbr\\u003eBudget (in Million USD)=%{x}\\u003cbr\\u003eRatings=%{y}\\u003cbr\\u003eAnime Name=%{customdata[0]}\\u003cbr\\u003eAnimation Studio Name=%{customdata[1]}\\u003cextra\\u003e\\u003c\\u002fextra\\u003e\",\"legendgroup\":\"Drama\",\"marker\":{\"color\":\"#FF97FF\",\"opacity\":0.8,\"symbol\":\"circle\"},\"mode\":\"markers\",\"name\":\"Drama\",\"orientation\":\"v\",\"showlegend\":true,\"x\":[44.88,35.18],\"xaxis\":\"x\",\"y\":[6.8,9.4],\"yaxis\":\"y\",\"type\":\"scatter\"},{\"customdata\":[[\"Attack on Titan\",\"Pierrot\"],[\"Jujutsu Kaisen\",\"Pierrot\"]],\"hovertemplate\":\"Genre=Sci-Fi\\u003cbr\\u003eBudget (in Million USD)=%{x}\\u003cbr\\u003eRatings=%{y}\\u003cbr\\u003eAnime Name=%{customdata[0]}\\u003cbr\\u003eAnimation Studio Name=%{customdata[1]}\\u003cextra\\u003e\\u003c\\u002fextra\\u003e\",\"legendgroup\":\"Sci-Fi\",\"marker\":{\"color\":\"#FECB52\",\"opacity\":0.8,\"symbol\":\"circle\"},\"mode\":\"markers\",\"name\":\"Sci-Fi\",\"orientation\":\"v\",\"showlegend\":true,\"x\":[54.69,68.53],\"xaxis\":\"x\",\"y\":[8.8,7.2],\"yaxis\":\"y\",\"type\":\"scatter\"}],                        {\"template\":{\"data\":{\"barpolar\":[{\"marker\":{\"line\":{\"color\":\"rgb(17,17,17)\",\"width\":0.5},\"pattern\":{\"fillmode\":\"overlay\",\"size\":10,\"solidity\":0.2}},\"type\":\"barpolar\"}],\"bar\":[{\"error_x\":{\"color\":\"#f2f5fa\"},\"error_y\":{\"color\":\"#f2f5fa\"},\"marker\":{\"line\":{\"color\":\"rgb(17,17,17)\",\"width\":0.5},\"pattern\":{\"fillmode\":\"overlay\",\"size\":10,\"solidity\":0.2}},\"type\":\"bar\"}],\"carpet\":[{\"aaxis\":{\"endlinecolor\":\"#A2B1C6\",\"gridcolor\":\"#506784\",\"linecolor\":\"#506784\",\"minorgridcolor\":\"#506784\",\"startlinecolor\":\"#A2B1C6\"},\"baxis\":{\"endlinecolor\":\"#A2B1C6\",\"gridcolor\":\"#506784\",\"linecolor\":\"#506784\",\"minorgridcolor\":\"#506784\",\"startlinecolor\":\"#A2B1C6\"},\"type\":\"carpet\"}],\"choropleth\":[{\"colorbar\":{\"outlinewidth\":0,\"ticks\":\"\"},\"type\":\"choropleth\"}],\"contourcarpet\":[{\"colorbar\":{\"outlinewidth\":0,\"ticks\":\"\"},\"type\":\"contourcarpet\"}],\"contour\":[{\"colorbar\":{\"outlinewidth\":0,\"ticks\":\"\"},\"colorscale\":[[0.0,\"#0d0887\"],[0.1111111111111111,\"#46039f\"],[0.2222222222222222,\"#7201a8\"],[0.3333333333333333,\"#9c179e\"],[0.4444444444444444,\"#bd3786\"],[0.5555555555555556,\"#d8576b\"],[0.6666666666666666,\"#ed7953\"],[0.7777777777777778,\"#fb9f3a\"],[0.8888888888888888,\"#fdca26\"],[1.0,\"#f0f921\"]],\"type\":\"contour\"}],\"heatmapgl\":[{\"colorbar\":{\"outlinewidth\":0,\"ticks\":\"\"},\"colorscale\":[[0.0,\"#0d0887\"],[0.1111111111111111,\"#46039f\"],[0.2222222222222222,\"#7201a8\"],[0.3333333333333333,\"#9c179e\"],[0.4444444444444444,\"#bd3786\"],[0.5555555555555556,\"#d8576b\"],[0.6666666666666666,\"#ed7953\"],[0.7777777777777778,\"#fb9f3a\"],[0.8888888888888888,\"#fdca26\"],[1.0,\"#f0f921\"]],\"type\":\"heatmapgl\"}],\"heatmap\":[{\"colorbar\":{\"outlinewidth\":0,\"ticks\":\"\"},\"colorscale\":[[0.0,\"#0d0887\"],[0.1111111111111111,\"#46039f\"],[0.2222222222222222,\"#7201a8\"],[0.3333333333333333,\"#9c179e\"],[0.4444444444444444,\"#bd3786\"],[0.5555555555555556,\"#d8576b\"],[0.6666666666666666,\"#ed7953\"],[0.7777777777777778,\"#fb9f3a\"],[0.8888888888888888,\"#fdca26\"],[1.0,\"#f0f921\"]],\"type\":\"heatmap\"}],\"histogram2dcontour\":[{\"colorbar\":{\"outlinewidth\":0,\"ticks\":\"\"},\"colorscale\":[[0.0,\"#0d0887\"],[0.1111111111111111,\"#46039f\"],[0.2222222222222222,\"#7201a8\"],[0.3333333333333333,\"#9c179e\"],[0.4444444444444444,\"#bd3786\"],[0.5555555555555556,\"#d8576b\"],[0.6666666666666666,\"#ed7953\"],[0.7777777777777778,\"#fb9f3a\"],[0.8888888888888888,\"#fdca26\"],[1.0,\"#f0f921\"]],\"type\":\"histogram2dcontour\"}],\"histogram2d\":[{\"colorbar\":{\"outlinewidth\":0,\"ticks\":\"\"},\"colorscale\":[[0.0,\"#0d0887\"],[0.1111111111111111,\"#46039f\"],[0.2222222222222222,\"#7201a8\"],[0.3333333333333333,\"#9c179e\"],[0.4444444444444444,\"#bd3786\"],[0.5555555555555556,\"#d8576b\"],[0.6666666666666666,\"#ed7953\"],[0.7777777777777778,\"#fb9f3a\"],[0.8888888888888888,\"#fdca26\"],[1.0,\"#f0f921\"]],\"type\":\"histogram2d\"}],\"histogram\":[{\"marker\":{\"pattern\":{\"fillmode\":\"overlay\",\"size\":10,\"solidity\":0.2}},\"type\":\"histogram\"}],\"mesh3d\":[{\"colorbar\":{\"outlinewidth\":0,\"ticks\":\"\"},\"type\":\"mesh3d\"}],\"parcoords\":[{\"line\":{\"colorbar\":{\"outlinewidth\":0,\"ticks\":\"\"}},\"type\":\"parcoords\"}],\"pie\":[{\"automargin\":true,\"type\":\"pie\"}],\"scatter3d\":[{\"line\":{\"colorbar\":{\"outlinewidth\":0,\"ticks\":\"\"}},\"marker\":{\"colorbar\":{\"outlinewidth\":0,\"ticks\":\"\"}},\"type\":\"scatter3d\"}],\"scattercarpet\":[{\"marker\":{\"colorbar\":{\"outlinewidth\":0,\"ticks\":\"\"}},\"type\":\"scattercarpet\"}],\"scattergeo\":[{\"marker\":{\"colorbar\":{\"outlinewidth\":0,\"ticks\":\"\"}},\"type\":\"scattergeo\"}],\"scattergl\":[{\"marker\":{\"line\":{\"color\":\"#283442\"}},\"type\":\"scattergl\"}],\"scattermapbox\":[{\"marker\":{\"colorbar\":{\"outlinewidth\":0,\"ticks\":\"\"}},\"type\":\"scattermapbox\"}],\"scatterpolargl\":[{\"marker\":{\"colorbar\":{\"outlinewidth\":0,\"ticks\":\"\"}},\"type\":\"scatterpolargl\"}],\"scatterpolar\":[{\"marker\":{\"colorbar\":{\"outlinewidth\":0,\"ticks\":\"\"}},\"type\":\"scatterpolar\"}],\"scatter\":[{\"marker\":{\"line\":{\"color\":\"#283442\"}},\"type\":\"scatter\"}],\"scatterternary\":[{\"marker\":{\"colorbar\":{\"outlinewidth\":0,\"ticks\":\"\"}},\"type\":\"scatterternary\"}],\"surface\":[{\"colorbar\":{\"outlinewidth\":0,\"ticks\":\"\"},\"colorscale\":[[0.0,\"#0d0887\"],[0.1111111111111111,\"#46039f\"],[0.2222222222222222,\"#7201a8\"],[0.3333333333333333,\"#9c179e\"],[0.4444444444444444,\"#bd3786\"],[0.5555555555555556,\"#d8576b\"],[0.6666666666666666,\"#ed7953\"],[0.7777777777777778,\"#fb9f3a\"],[0.8888888888888888,\"#fdca26\"],[1.0,\"#f0f921\"]],\"type\":\"surface\"}],\"table\":[{\"cells\":{\"fill\":{\"color\":\"#506784\"},\"line\":{\"color\":\"rgb(17,17,17)\"}},\"header\":{\"fill\":{\"color\":\"#2a3f5f\"},\"line\":{\"color\":\"rgb(17,17,17)\"}},\"type\":\"table\"}]},\"layout\":{\"annotationdefaults\":{\"arrowcolor\":\"#f2f5fa\",\"arrowhead\":0,\"arrowwidth\":1},\"autotypenumbers\":\"strict\",\"coloraxis\":{\"colorbar\":{\"outlinewidth\":0,\"ticks\":\"\"}},\"colorscale\":{\"diverging\":[[0,\"#8e0152\"],[0.1,\"#c51b7d\"],[0.2,\"#de77ae\"],[0.3,\"#f1b6da\"],[0.4,\"#fde0ef\"],[0.5,\"#f7f7f7\"],[0.6,\"#e6f5d0\"],[0.7,\"#b8e186\"],[0.8,\"#7fbc41\"],[0.9,\"#4d9221\"],[1,\"#276419\"]],\"sequential\":[[0.0,\"#0d0887\"],[0.1111111111111111,\"#46039f\"],[0.2222222222222222,\"#7201a8\"],[0.3333333333333333,\"#9c179e\"],[0.4444444444444444,\"#bd3786\"],[0.5555555555555556,\"#d8576b\"],[0.6666666666666666,\"#ed7953\"],[0.7777777777777778,\"#fb9f3a\"],[0.8888888888888888,\"#fdca26\"],[1.0,\"#f0f921\"]],\"sequentialminus\":[[0.0,\"#0d0887\"],[0.1111111111111111,\"#46039f\"],[0.2222222222222222,\"#7201a8\"],[0.3333333333333333,\"#9c179e\"],[0.4444444444444444,\"#bd3786\"],[0.5555555555555556,\"#d8576b\"],[0.6666666666666666,\"#ed7953\"],[0.7777777777777778,\"#fb9f3a\"],[0.8888888888888888,\"#fdca26\"],[1.0,\"#f0f921\"]]},\"colorway\":[\"#636efa\",\"#EF553B\",\"#00cc96\",\"#ab63fa\",\"#FFA15A\",\"#19d3f3\",\"#FF6692\",\"#B6E880\",\"#FF97FF\",\"#FECB52\"],\"font\":{\"color\":\"#f2f5fa\"},\"geo\":{\"bgcolor\":\"rgb(17,17,17)\",\"lakecolor\":\"rgb(17,17,17)\",\"landcolor\":\"rgb(17,17,17)\",\"showlakes\":true,\"showland\":true,\"subunitcolor\":\"#506784\"},\"hoverlabel\":{\"align\":\"left\"},\"hovermode\":\"closest\",\"mapbox\":{\"style\":\"dark\"},\"paper_bgcolor\":\"rgb(17,17,17)\",\"plot_bgcolor\":\"rgb(17,17,17)\",\"polar\":{\"angularaxis\":{\"gridcolor\":\"#506784\",\"linecolor\":\"#506784\",\"ticks\":\"\"},\"bgcolor\":\"rgb(17,17,17)\",\"radialaxis\":{\"gridcolor\":\"#506784\",\"linecolor\":\"#506784\",\"ticks\":\"\"}},\"scene\":{\"xaxis\":{\"backgroundcolor\":\"rgb(17,17,17)\",\"gridcolor\":\"#506784\",\"gridwidth\":2,\"linecolor\":\"#506784\",\"showbackground\":true,\"ticks\":\"\",\"zerolinecolor\":\"#C8D4E3\"},\"yaxis\":{\"backgroundcolor\":\"rgb(17,17,17)\",\"gridcolor\":\"#506784\",\"gridwidth\":2,\"linecolor\":\"#506784\",\"showbackground\":true,\"ticks\":\"\",\"zerolinecolor\":\"#C8D4E3\"},\"zaxis\":{\"backgroundcolor\":\"rgb(17,17,17)\",\"gridcolor\":\"#506784\",\"gridwidth\":2,\"linecolor\":\"#506784\",\"showbackground\":true,\"ticks\":\"\",\"zerolinecolor\":\"#C8D4E3\"}},\"shapedefaults\":{\"line\":{\"color\":\"#f2f5fa\"}},\"sliderdefaults\":{\"bgcolor\":\"#C8D4E3\",\"bordercolor\":\"rgb(17,17,17)\",\"borderwidth\":1,\"tickwidth\":0},\"ternary\":{\"aaxis\":{\"gridcolor\":\"#506784\",\"linecolor\":\"#506784\",\"ticks\":\"\"},\"baxis\":{\"gridcolor\":\"#506784\",\"linecolor\":\"#506784\",\"ticks\":\"\"},\"bgcolor\":\"rgb(17,17,17)\",\"caxis\":{\"gridcolor\":\"#506784\",\"linecolor\":\"#506784\",\"ticks\":\"\"}},\"title\":{\"x\":0.05},\"updatemenudefaults\":{\"bgcolor\":\"#506784\",\"borderwidth\":0},\"xaxis\":{\"automargin\":true,\"gridcolor\":\"#283442\",\"linecolor\":\"#506784\",\"ticks\":\"\",\"title\":{\"standoff\":15},\"zerolinecolor\":\"#283442\",\"zerolinewidth\":2},\"yaxis\":{\"automargin\":true,\"gridcolor\":\"#283442\",\"linecolor\":\"#506784\",\"ticks\":\"\",\"title\":{\"standoff\":15},\"zerolinecolor\":\"#283442\",\"zerolinewidth\":2}}},\"xaxis\":{\"anchor\":\"y\",\"domain\":[0.0,1.0],\"title\":{\"text\":\"Budget (Million USD)\"}},\"yaxis\":{\"anchor\":\"x\",\"domain\":[0.0,1.0],\"title\":{\"text\":\"Ratings\"}},\"legend\":{\"title\":{\"text\":\"Genre\"},\"tracegroupgap\":0},\"margin\":{\"t\":60},\"font\":{\"size\":13},\"title\":{\"text\":\"Budget vs Ratings of Anime\"}},                        {\"responsive\": true}                    ).then(function(){\n",
       "                            \n",
       "var gd = document.getElementById('f36e9bec-652a-4b6c-9bbc-5e33f416b2bf');\n",
       "var x = new MutationObserver(function (mutations, observer) {{\n",
       "        var display = window.getComputedStyle(gd).display;\n",
       "        if (!display || display === 'none') {{\n",
       "            console.log([gd, 'removed!']);\n",
       "            Plotly.purge(gd);\n",
       "            observer.disconnect();\n",
       "        }}\n",
       "}});\n",
       "\n",
       "// Listen for the removal of the full notebook cells\n",
       "var notebookContainer = gd.closest('#notebook-container');\n",
       "if (notebookContainer) {{\n",
       "    x.observe(notebookContainer, {childList: true});\n",
       "}}\n",
       "\n",
       "// Listen for the clearing of the current output cell\n",
       "var outputEl = gd.closest('.output');\n",
       "if (outputEl) {{\n",
       "    x.observe(outputEl, {childList: true});\n",
       "}}\n",
       "\n",
       "                        })                };                            </script>        </div>\n",
       "</body>\n",
       "</html>"
      ]
     },
     "metadata": {},
     "output_type": "display_data"
    }
   ],
   "source": [
    "fig6 = px.scatter(df, x=\"Budget (in Million USD)\", y=\"Ratings\", \n",
    "                 color=\"Genre\",  \n",
    "                 hover_data=[\"Anime Name\", \"Animation Studio Name\"],  \n",
    "                 template=\"plotly_dark\",  \n",
    "                 opacity=0.8)  \n",
    "\n",
    "fig6.update_layout(\n",
    "    title=\"Budget vs Ratings of Anime\",\n",
    "    xaxis_title=\"Budget (Million USD)\",\n",
    "    yaxis_title=\"Ratings\",\n",
    "    font=dict(size=13),\n",
    "    legend_title=\"Genre\"\n",
    ")\n",
    "\n",
    "fig6.show()\n",
    "#fig.write_image(\"plotly_chart.png\")"
   ]
  },
  {
   "cell_type": "code",
   "execution_count": 13,
   "id": "d1c9ecce",
   "metadata": {
    "collapsed": true,
    "execution": {
     "iopub.execute_input": "2025-03-02T06:32:54.468470Z",
     "iopub.status.busy": "2025-03-02T06:32:54.468134Z",
     "iopub.status.idle": "2025-03-02T06:32:54.631318Z",
     "shell.execute_reply": "2025-03-02T06:32:54.630275Z"
    },
    "jupyter": {
     "outputs_hidden": true,
     "source_hidden": true
    },
    "papermill": {
     "duration": 0.171943,
     "end_time": "2025-03-02T06:32:54.632911",
     "exception": false,
     "start_time": "2025-03-02T06:32:54.460968",
     "status": "completed"
    },
    "tags": []
   },
   "outputs": [
    {
     "data": {
      "text/html": [
       "<html>\n",
       "<head><meta charset=\"utf-8\" /></head>\n",
       "<body>\n",
       "    <div>            <script src=\"https://cdnjs.cloudflare.com/ajax/libs/mathjax/2.7.5/MathJax.js?config=TeX-AMS-MML_SVG\"></script><script type=\"text/javascript\">if (window.MathJax && window.MathJax.Hub && window.MathJax.Hub.Config) {window.MathJax.Hub.Config({SVG: {font: \"STIX-Web\"}});}</script>                <script type=\"text/javascript\">window.PlotlyConfig = {MathJaxConfig: 'local'};</script>\n",
       "        <script charset=\"utf-8\" src=\"https://cdn.plot.ly/plotly-2.35.2.min.js\"></script>                <div id=\"e4b646f0-e4b3-4a2f-beee-1d8f2e6549d2\" class=\"plotly-graph-div\" style=\"height:525px; width:100%;\"></div>            <script type=\"text/javascript\">                                    window.PLOTLYENV=window.PLOTLYENV || {};                                    if (document.getElementById(\"e4b646f0-e4b3-4a2f-beee-1d8f2e6549d2\")) {                    Plotly.newPlot(                        \"e4b646f0-e4b3-4a2f-beee-1d8f2e6549d2\",                        [{\"colorscale\":[[0.0,\"rgb(127, 60, 141)\"],[1.0,\"rgb(127, 60, 141)\"]],\"geo\":\"geo\",\"hovertemplate\":\"\\u003cb\\u003e%{hovertext}\\u003c\\u002fb\\u003e\\u003cbr\\u003e\\u003cbr\\u003eAnime Name=Haikyuu!!\\u003cbr\\u003eMost Watched in Country=%{location}\\u003cextra\\u003e\\u003c\\u002fextra\\u003e\",\"hovertext\":[\"Mexico\"],\"locationmode\":\"country names\",\"locations\":[\"Mexico\"],\"name\":\"Haikyuu!!\",\"showlegend\":true,\"showscale\":false,\"z\":[1],\"type\":\"choropleth\"},{\"colorscale\":[[0.0,\"rgb(17, 165, 121)\"],[1.0,\"rgb(17, 165, 121)\"]],\"geo\":\"geo\",\"hovertemplate\":\"\\u003cb\\u003e%{hovertext}\\u003c\\u002fb\\u003e\\u003cbr\\u003e\\u003cbr\\u003eAnime Name=Bleach\\u003cbr\\u003eMost Watched in Country=%{location}\\u003cextra\\u003e\\u003c\\u002fextra\\u003e\",\"hovertext\":[\"China\"],\"locationmode\":\"country names\",\"locations\":[\"China\"],\"name\":\"Bleach\",\"showlegend\":true,\"showscale\":false,\"z\":[1],\"type\":\"choropleth\"},{\"colorscale\":[[0.0,\"rgb(57, 105, 172)\"],[1.0,\"rgb(57, 105, 172)\"]],\"geo\":\"geo\",\"hovertemplate\":\"\\u003cb\\u003e%{hovertext}\\u003c\\u002fb\\u003e\\u003cbr\\u003e\\u003cbr\\u003eAnime Name=Tokyo Ghoul\\u003cbr\\u003eMost Watched in Country=%{location}\\u003cextra\\u003e\\u003c\\u002fextra\\u003e\",\"hovertext\":[\"United Kingdom\",\"Australia\",\"United Kingdom\"],\"locationmode\":\"country names\",\"locations\":[\"United Kingdom\",\"Australia\",\"United Kingdom\"],\"name\":\"Tokyo Ghoul\",\"showlegend\":true,\"showscale\":false,\"z\":[1,1,1],\"type\":\"choropleth\"},{\"colorscale\":[[0.0,\"rgb(242, 183, 1)\"],[1.0,\"rgb(242, 183, 1)\"]],\"geo\":\"geo\",\"hovertemplate\":\"\\u003cb\\u003e%{hovertext}\\u003c\\u002fb\\u003e\\u003cbr\\u003e\\u003cbr\\u003eAnime Name=Naruto\\u003cbr\\u003eMost Watched in Country=%{location}\\u003cextra\\u003e\\u003c\\u002fextra\\u003e\",\"hovertext\":[\"China\",\"United States\",\"United States\"],\"locationmode\":\"country names\",\"locations\":[\"China\",\"United States\",\"United States\"],\"name\":\"Naruto\",\"showlegend\":true,\"showscale\":false,\"z\":[1,1,1],\"type\":\"choropleth\"},{\"colorscale\":[[0.0,\"rgb(231, 63, 116)\"],[1.0,\"rgb(231, 63, 116)\"]],\"geo\":\"geo\",\"hovertemplate\":\"\\u003cb\\u003e%{hovertext}\\u003c\\u002fb\\u003e\\u003cbr\\u003e\\u003cbr\\u003eAnime Name=Mob Psycho 100\\u003cbr\\u003eMost Watched in Country=%{location}\\u003cextra\\u003e\\u003c\\u002fextra\\u003e\",\"hovertext\":[\"Thailand\",\"Malaysia\"],\"locationmode\":\"country names\",\"locations\":[\"Thailand\",\"Malaysia\"],\"name\":\"Mob Psycho 100\",\"showlegend\":true,\"showscale\":false,\"z\":[1,1],\"type\":\"choropleth\"},{\"colorscale\":[[0.0,\"rgb(128, 186, 90)\"],[1.0,\"rgb(128, 186, 90)\"]],\"geo\":\"geo\",\"hovertemplate\":\"\\u003cb\\u003e%{hovertext}\\u003c\\u002fb\\u003e\\u003cbr\\u003e\\u003cbr\\u003eAnime Name=Neon Genesis Evangelion\\u003cbr\\u003eMost Watched in Country=%{location}\\u003cextra\\u003e\\u003c\\u002fextra\\u003e\",\"hovertext\":[\"Argentina\",\"India\",\"Mexico\",\"United States\"],\"locationmode\":\"country names\",\"locations\":[\"Argentina\",\"India\",\"Mexico\",\"United States\"],\"name\":\"Neon Genesis Evangelion\",\"showlegend\":true,\"showscale\":false,\"z\":[1,1,1,1],\"type\":\"choropleth\"},{\"colorscale\":[[0.0,\"rgb(230, 131, 16)\"],[1.0,\"rgb(230, 131, 16)\"]],\"geo\":\"geo\",\"hovertemplate\":\"\\u003cb\\u003e%{hovertext}\\u003c\\u002fb\\u003e\\u003cbr\\u003e\\u003cbr\\u003eAnime Name=My Hero Academia\\u003cbr\\u003eMost Watched in Country=%{location}\\u003cextra\\u003e\\u003c\\u002fextra\\u003e\",\"hovertext\":[\"Russia\",\"Germany\",\"Thailand\"],\"locationmode\":\"country names\",\"locations\":[\"Russia\",\"Germany\",\"Thailand\"],\"name\":\"My Hero Academia\",\"showlegend\":true,\"showscale\":false,\"z\":[1,1,1],\"type\":\"choropleth\"},{\"colorscale\":[[0.0,\"rgb(0, 134, 149)\"],[1.0,\"rgb(0, 134, 149)\"]],\"geo\":\"geo\",\"hovertemplate\":\"\\u003cb\\u003e%{hovertext}\\u003c\\u002fb\\u003e\\u003cbr\\u003e\\u003cbr\\u003eAnime Name=Black Clover\\u003cbr\\u003eMost Watched in Country=%{location}\\u003cextra\\u003e\\u003c\\u002fextra\\u003e\",\"hovertext\":[\"India\",\"Russia\"],\"locationmode\":\"country names\",\"locations\":[\"India\",\"Russia\"],\"name\":\"Black Clover\",\"showlegend\":true,\"showscale\":false,\"z\":[1,1],\"type\":\"choropleth\"},{\"colorscale\":[[0.0,\"rgb(207, 28, 144)\"],[1.0,\"rgb(207, 28, 144)\"]],\"geo\":\"geo\",\"hovertemplate\":\"\\u003cb\\u003e%{hovertext}\\u003c\\u002fb\\u003e\\u003cbr\\u003e\\u003cbr\\u003eAnime Name=Death Note\\u003cbr\\u003eMost Watched in Country=%{location}\\u003cextra\\u003e\\u003c\\u002fextra\\u003e\",\"hovertext\":[\"United Kingdom\",\"Thailand\"],\"locationmode\":\"country names\",\"locations\":[\"United Kingdom\",\"Thailand\"],\"name\":\"Death Note\",\"showlegend\":true,\"showscale\":false,\"z\":[1,1],\"type\":\"choropleth\"},{\"colorscale\":[[0.0,\"rgb(249, 123, 114)\"],[1.0,\"rgb(249, 123, 114)\"]],\"geo\":\"geo\",\"hovertemplate\":\"\\u003cb\\u003e%{hovertext}\\u003c\\u002fb\\u003e\\u003cbr\\u003e\\u003cbr\\u003eAnime Name=Re:Zero\\u003cbr\\u003eMost Watched in Country=%{location}\\u003cextra\\u003e\\u003c\\u002fextra\\u003e\",\"hovertext\":[\"United States\",\"Germany\"],\"locationmode\":\"country names\",\"locations\":[\"United States\",\"Germany\"],\"name\":\"Re:Zero\",\"showlegend\":true,\"showscale\":false,\"z\":[1,1],\"type\":\"choropleth\"},{\"colorscale\":[[0.0,\"rgb(165, 170, 153)\"],[1.0,\"rgb(165, 170, 153)\"]],\"geo\":\"geo\",\"hovertemplate\":\"\\u003cb\\u003e%{hovertext}\\u003c\\u002fb\\u003e\\u003cbr\\u003e\\u003cbr\\u003eAnime Name=Demon Slayer\\u003cbr\\u003eMost Watched in Country=%{location}\\u003cextra\\u003e\\u003c\\u002fextra\\u003e\",\"hovertext\":[\"Australia\",\"Australia\"],\"locationmode\":\"country names\",\"locations\":[\"Australia\",\"Australia\"],\"name\":\"Demon Slayer\",\"showlegend\":true,\"showscale\":false,\"z\":[1,1],\"type\":\"choropleth\"},{\"colorscale\":[[0.0,\"rgb(127, 60, 141)\"],[1.0,\"rgb(127, 60, 141)\"]],\"geo\":\"geo\",\"hovertemplate\":\"\\u003cb\\u003e%{hovertext}\\u003c\\u002fb\\u003e\\u003cbr\\u003e\\u003cbr\\u003eAnime Name=Fairy Tail\\u003cbr\\u003eMost Watched in Country=%{location}\\u003cextra\\u003e\\u003c\\u002fextra\\u003e\",\"hovertext\":[\"Italy\",\"Canada\",\"United States\"],\"locationmode\":\"country names\",\"locations\":[\"Italy\",\"Canada\",\"United States\"],\"name\":\"Fairy Tail\",\"showlegend\":true,\"showscale\":false,\"z\":[1,1,1],\"type\":\"choropleth\"},{\"colorscale\":[[0.0,\"rgb(17, 165, 121)\"],[1.0,\"rgb(17, 165, 121)\"]],\"geo\":\"geo\",\"hovertemplate\":\"\\u003cb\\u003e%{hovertext}\\u003c\\u002fb\\u003e\\u003cbr\\u003e\\u003cbr\\u003eAnime Name=One Piece\\u003cbr\\u003eMost Watched in Country=%{location}\\u003cextra\\u003e\\u003c\\u002fextra\\u003e\",\"hovertext\":[\"Italy\",\"France\"],\"locationmode\":\"country names\",\"locations\":[\"Italy\",\"France\"],\"name\":\"One Piece\",\"showlegend\":true,\"showscale\":false,\"z\":[1,1],\"type\":\"choropleth\"},{\"colorscale\":[[0.0,\"rgb(57, 105, 172)\"],[1.0,\"rgb(57, 105, 172)\"]],\"geo\":\"geo\",\"hovertemplate\":\"\\u003cb\\u003e%{hovertext}\\u003c\\u002fb\\u003e\\u003cbr\\u003e\\u003cbr\\u003eAnime Name=Attack on Titan\\u003cbr\\u003eMost Watched in Country=%{location}\\u003cextra\\u003e\\u003c\\u002fextra\\u003e\",\"hovertext\":[\"France\",\"Brazil\"],\"locationmode\":\"country names\",\"locations\":[\"France\",\"Brazil\"],\"name\":\"Attack on Titan\",\"showlegend\":true,\"showscale\":false,\"z\":[1,1],\"type\":\"choropleth\"},{\"colorscale\":[[0.0,\"rgb(242, 183, 1)\"],[1.0,\"rgb(242, 183, 1)\"]],\"geo\":\"geo\",\"hovertemplate\":\"\\u003cb\\u003e%{hovertext}\\u003c\\u002fb\\u003e\\u003cbr\\u003e\\u003cbr\\u003eAnime Name=Dragon Ball Z\\u003cbr\\u003eMost Watched in Country=%{location}\\u003cextra\\u003e\\u003c\\u002fextra\\u003e\",\"hovertext\":[\"Japan\"],\"locationmode\":\"country names\",\"locations\":[\"Japan\"],\"name\":\"Dragon Ball Z\",\"showlegend\":true,\"showscale\":false,\"z\":[1],\"type\":\"choropleth\"},{\"colorscale\":[[0.0,\"rgb(231, 63, 116)\"],[1.0,\"rgb(231, 63, 116)\"]],\"geo\":\"geo\",\"hovertemplate\":\"\\u003cb\\u003e%{hovertext}\\u003c\\u002fb\\u003e\\u003cbr\\u003e\\u003cbr\\u003eAnime Name=Spirited Away\\u003cbr\\u003eMost Watched in Country=%{location}\\u003cextra\\u003e\\u003c\\u002fextra\\u003e\",\"hovertext\":[\"Argentina\",\"Russia\"],\"locationmode\":\"country names\",\"locations\":[\"Argentina\",\"Russia\"],\"name\":\"Spirited Away\",\"showlegend\":true,\"showscale\":false,\"z\":[1,1],\"type\":\"choropleth\"},{\"colorscale\":[[0.0,\"rgb(128, 186, 90)\"],[1.0,\"rgb(128, 186, 90)\"]],\"geo\":\"geo\",\"hovertemplate\":\"\\u003cb\\u003e%{hovertext}\\u003c\\u002fb\\u003e\\u003cbr\\u003e\\u003cbr\\u003eAnime Name=Hunter x Hunter\\u003cbr\\u003eMost Watched in Country=%{location}\\u003cextra\\u003e\\u003c\\u002fextra\\u003e\",\"hovertext\":[\"Malaysia\",\"France\"],\"locationmode\":\"country names\",\"locations\":[\"Malaysia\",\"France\"],\"name\":\"Hunter x Hunter\",\"showlegend\":true,\"showscale\":false,\"z\":[1,1],\"type\":\"choropleth\"},{\"colorscale\":[[0.0,\"rgb(230, 131, 16)\"],[1.0,\"rgb(230, 131, 16)\"]],\"geo\":\"geo\",\"hovertemplate\":\"\\u003cb\\u003e%{hovertext}\\u003c\\u002fb\\u003e\\u003cbr\\u003e\\u003cbr\\u003eAnime Name=Fullmetal Alchemist\\u003cbr\\u003eMost Watched in Country=%{location}\\u003cextra\\u003e\\u003c\\u002fextra\\u003e\",\"hovertext\":[\"Japan\"],\"locationmode\":\"country names\",\"locations\":[\"Japan\"],\"name\":\"Fullmetal Alchemist\",\"showlegend\":true,\"showscale\":false,\"z\":[1],\"type\":\"choropleth\"},{\"colorscale\":[[0.0,\"rgb(0, 134, 149)\"],[1.0,\"rgb(0, 134, 149)\"]],\"geo\":\"geo\",\"hovertemplate\":\"\\u003cb\\u003e%{hovertext}\\u003c\\u002fb\\u003e\\u003cbr\\u003e\\u003cbr\\u003eAnime Name=Sword Art Online\\u003cbr\\u003eMost Watched in Country=%{location}\\u003cextra\\u003e\\u003c\\u002fextra\\u003e\",\"hovertext\":[\"Germany\",\"Germany\"],\"locationmode\":\"country names\",\"locations\":[\"Germany\",\"Germany\"],\"name\":\"Sword Art Online\",\"showlegend\":true,\"showscale\":false,\"z\":[1,1],\"type\":\"choropleth\"},{\"colorscale\":[[0.0,\"rgb(207, 28, 144)\"],[1.0,\"rgb(207, 28, 144)\"]],\"geo\":\"geo\",\"hovertemplate\":\"\\u003cb\\u003e%{hovertext}\\u003c\\u002fb\\u003e\\u003cbr\\u003e\\u003cbr\\u003eAnime Name=Jujutsu Kaisen\\u003cbr\\u003eMost Watched in Country=%{location}\\u003cextra\\u003e\\u003c\\u002fextra\\u003e\",\"hovertext\":[\"India\"],\"locationmode\":\"country names\",\"locations\":[\"India\"],\"name\":\"Jujutsu Kaisen\",\"showlegend\":true,\"showscale\":false,\"z\":[1],\"type\":\"choropleth\"}],                        {\"template\":{\"data\":{\"barpolar\":[{\"marker\":{\"line\":{\"color\":\"rgb(17,17,17)\",\"width\":0.5},\"pattern\":{\"fillmode\":\"overlay\",\"size\":10,\"solidity\":0.2}},\"type\":\"barpolar\"}],\"bar\":[{\"error_x\":{\"color\":\"#f2f5fa\"},\"error_y\":{\"color\":\"#f2f5fa\"},\"marker\":{\"line\":{\"color\":\"rgb(17,17,17)\",\"width\":0.5},\"pattern\":{\"fillmode\":\"overlay\",\"size\":10,\"solidity\":0.2}},\"type\":\"bar\"}],\"carpet\":[{\"aaxis\":{\"endlinecolor\":\"#A2B1C6\",\"gridcolor\":\"#506784\",\"linecolor\":\"#506784\",\"minorgridcolor\":\"#506784\",\"startlinecolor\":\"#A2B1C6\"},\"baxis\":{\"endlinecolor\":\"#A2B1C6\",\"gridcolor\":\"#506784\",\"linecolor\":\"#506784\",\"minorgridcolor\":\"#506784\",\"startlinecolor\":\"#A2B1C6\"},\"type\":\"carpet\"}],\"choropleth\":[{\"colorbar\":{\"outlinewidth\":0,\"ticks\":\"\"},\"type\":\"choropleth\"}],\"contourcarpet\":[{\"colorbar\":{\"outlinewidth\":0,\"ticks\":\"\"},\"type\":\"contourcarpet\"}],\"contour\":[{\"colorbar\":{\"outlinewidth\":0,\"ticks\":\"\"},\"colorscale\":[[0.0,\"#0d0887\"],[0.1111111111111111,\"#46039f\"],[0.2222222222222222,\"#7201a8\"],[0.3333333333333333,\"#9c179e\"],[0.4444444444444444,\"#bd3786\"],[0.5555555555555556,\"#d8576b\"],[0.6666666666666666,\"#ed7953\"],[0.7777777777777778,\"#fb9f3a\"],[0.8888888888888888,\"#fdca26\"],[1.0,\"#f0f921\"]],\"type\":\"contour\"}],\"heatmapgl\":[{\"colorbar\":{\"outlinewidth\":0,\"ticks\":\"\"},\"colorscale\":[[0.0,\"#0d0887\"],[0.1111111111111111,\"#46039f\"],[0.2222222222222222,\"#7201a8\"],[0.3333333333333333,\"#9c179e\"],[0.4444444444444444,\"#bd3786\"],[0.5555555555555556,\"#d8576b\"],[0.6666666666666666,\"#ed7953\"],[0.7777777777777778,\"#fb9f3a\"],[0.8888888888888888,\"#fdca26\"],[1.0,\"#f0f921\"]],\"type\":\"heatmapgl\"}],\"heatmap\":[{\"colorbar\":{\"outlinewidth\":0,\"ticks\":\"\"},\"colorscale\":[[0.0,\"#0d0887\"],[0.1111111111111111,\"#46039f\"],[0.2222222222222222,\"#7201a8\"],[0.3333333333333333,\"#9c179e\"],[0.4444444444444444,\"#bd3786\"],[0.5555555555555556,\"#d8576b\"],[0.6666666666666666,\"#ed7953\"],[0.7777777777777778,\"#fb9f3a\"],[0.8888888888888888,\"#fdca26\"],[1.0,\"#f0f921\"]],\"type\":\"heatmap\"}],\"histogram2dcontour\":[{\"colorbar\":{\"outlinewidth\":0,\"ticks\":\"\"},\"colorscale\":[[0.0,\"#0d0887\"],[0.1111111111111111,\"#46039f\"],[0.2222222222222222,\"#7201a8\"],[0.3333333333333333,\"#9c179e\"],[0.4444444444444444,\"#bd3786\"],[0.5555555555555556,\"#d8576b\"],[0.6666666666666666,\"#ed7953\"],[0.7777777777777778,\"#fb9f3a\"],[0.8888888888888888,\"#fdca26\"],[1.0,\"#f0f921\"]],\"type\":\"histogram2dcontour\"}],\"histogram2d\":[{\"colorbar\":{\"outlinewidth\":0,\"ticks\":\"\"},\"colorscale\":[[0.0,\"#0d0887\"],[0.1111111111111111,\"#46039f\"],[0.2222222222222222,\"#7201a8\"],[0.3333333333333333,\"#9c179e\"],[0.4444444444444444,\"#bd3786\"],[0.5555555555555556,\"#d8576b\"],[0.6666666666666666,\"#ed7953\"],[0.7777777777777778,\"#fb9f3a\"],[0.8888888888888888,\"#fdca26\"],[1.0,\"#f0f921\"]],\"type\":\"histogram2d\"}],\"histogram\":[{\"marker\":{\"pattern\":{\"fillmode\":\"overlay\",\"size\":10,\"solidity\":0.2}},\"type\":\"histogram\"}],\"mesh3d\":[{\"colorbar\":{\"outlinewidth\":0,\"ticks\":\"\"},\"type\":\"mesh3d\"}],\"parcoords\":[{\"line\":{\"colorbar\":{\"outlinewidth\":0,\"ticks\":\"\"}},\"type\":\"parcoords\"}],\"pie\":[{\"automargin\":true,\"type\":\"pie\"}],\"scatter3d\":[{\"line\":{\"colorbar\":{\"outlinewidth\":0,\"ticks\":\"\"}},\"marker\":{\"colorbar\":{\"outlinewidth\":0,\"ticks\":\"\"}},\"type\":\"scatter3d\"}],\"scattercarpet\":[{\"marker\":{\"colorbar\":{\"outlinewidth\":0,\"ticks\":\"\"}},\"type\":\"scattercarpet\"}],\"scattergeo\":[{\"marker\":{\"colorbar\":{\"outlinewidth\":0,\"ticks\":\"\"}},\"type\":\"scattergeo\"}],\"scattergl\":[{\"marker\":{\"line\":{\"color\":\"#283442\"}},\"type\":\"scattergl\"}],\"scattermapbox\":[{\"marker\":{\"colorbar\":{\"outlinewidth\":0,\"ticks\":\"\"}},\"type\":\"scattermapbox\"}],\"scatterpolargl\":[{\"marker\":{\"colorbar\":{\"outlinewidth\":0,\"ticks\":\"\"}},\"type\":\"scatterpolargl\"}],\"scatterpolar\":[{\"marker\":{\"colorbar\":{\"outlinewidth\":0,\"ticks\":\"\"}},\"type\":\"scatterpolar\"}],\"scatter\":[{\"marker\":{\"line\":{\"color\":\"#283442\"}},\"type\":\"scatter\"}],\"scatterternary\":[{\"marker\":{\"colorbar\":{\"outlinewidth\":0,\"ticks\":\"\"}},\"type\":\"scatterternary\"}],\"surface\":[{\"colorbar\":{\"outlinewidth\":0,\"ticks\":\"\"},\"colorscale\":[[0.0,\"#0d0887\"],[0.1111111111111111,\"#46039f\"],[0.2222222222222222,\"#7201a8\"],[0.3333333333333333,\"#9c179e\"],[0.4444444444444444,\"#bd3786\"],[0.5555555555555556,\"#d8576b\"],[0.6666666666666666,\"#ed7953\"],[0.7777777777777778,\"#fb9f3a\"],[0.8888888888888888,\"#fdca26\"],[1.0,\"#f0f921\"]],\"type\":\"surface\"}],\"table\":[{\"cells\":{\"fill\":{\"color\":\"#506784\"},\"line\":{\"color\":\"rgb(17,17,17)\"}},\"header\":{\"fill\":{\"color\":\"#2a3f5f\"},\"line\":{\"color\":\"rgb(17,17,17)\"}},\"type\":\"table\"}]},\"layout\":{\"annotationdefaults\":{\"arrowcolor\":\"#f2f5fa\",\"arrowhead\":0,\"arrowwidth\":1},\"autotypenumbers\":\"strict\",\"coloraxis\":{\"colorbar\":{\"outlinewidth\":0,\"ticks\":\"\"}},\"colorscale\":{\"diverging\":[[0,\"#8e0152\"],[0.1,\"#c51b7d\"],[0.2,\"#de77ae\"],[0.3,\"#f1b6da\"],[0.4,\"#fde0ef\"],[0.5,\"#f7f7f7\"],[0.6,\"#e6f5d0\"],[0.7,\"#b8e186\"],[0.8,\"#7fbc41\"],[0.9,\"#4d9221\"],[1,\"#276419\"]],\"sequential\":[[0.0,\"#0d0887\"],[0.1111111111111111,\"#46039f\"],[0.2222222222222222,\"#7201a8\"],[0.3333333333333333,\"#9c179e\"],[0.4444444444444444,\"#bd3786\"],[0.5555555555555556,\"#d8576b\"],[0.6666666666666666,\"#ed7953\"],[0.7777777777777778,\"#fb9f3a\"],[0.8888888888888888,\"#fdca26\"],[1.0,\"#f0f921\"]],\"sequentialminus\":[[0.0,\"#0d0887\"],[0.1111111111111111,\"#46039f\"],[0.2222222222222222,\"#7201a8\"],[0.3333333333333333,\"#9c179e\"],[0.4444444444444444,\"#bd3786\"],[0.5555555555555556,\"#d8576b\"],[0.6666666666666666,\"#ed7953\"],[0.7777777777777778,\"#fb9f3a\"],[0.8888888888888888,\"#fdca26\"],[1.0,\"#f0f921\"]]},\"colorway\":[\"#636efa\",\"#EF553B\",\"#00cc96\",\"#ab63fa\",\"#FFA15A\",\"#19d3f3\",\"#FF6692\",\"#B6E880\",\"#FF97FF\",\"#FECB52\"],\"font\":{\"color\":\"#f2f5fa\"},\"geo\":{\"bgcolor\":\"rgb(17,17,17)\",\"lakecolor\":\"rgb(17,17,17)\",\"landcolor\":\"rgb(17,17,17)\",\"showlakes\":true,\"showland\":true,\"subunitcolor\":\"#506784\"},\"hoverlabel\":{\"align\":\"left\"},\"hovermode\":\"closest\",\"mapbox\":{\"style\":\"dark\"},\"paper_bgcolor\":\"rgb(17,17,17)\",\"plot_bgcolor\":\"rgb(17,17,17)\",\"polar\":{\"angularaxis\":{\"gridcolor\":\"#506784\",\"linecolor\":\"#506784\",\"ticks\":\"\"},\"bgcolor\":\"rgb(17,17,17)\",\"radialaxis\":{\"gridcolor\":\"#506784\",\"linecolor\":\"#506784\",\"ticks\":\"\"}},\"scene\":{\"xaxis\":{\"backgroundcolor\":\"rgb(17,17,17)\",\"gridcolor\":\"#506784\",\"gridwidth\":2,\"linecolor\":\"#506784\",\"showbackground\":true,\"ticks\":\"\",\"zerolinecolor\":\"#C8D4E3\"},\"yaxis\":{\"backgroundcolor\":\"rgb(17,17,17)\",\"gridcolor\":\"#506784\",\"gridwidth\":2,\"linecolor\":\"#506784\",\"showbackground\":true,\"ticks\":\"\",\"zerolinecolor\":\"#C8D4E3\"},\"zaxis\":{\"backgroundcolor\":\"rgb(17,17,17)\",\"gridcolor\":\"#506784\",\"gridwidth\":2,\"linecolor\":\"#506784\",\"showbackground\":true,\"ticks\":\"\",\"zerolinecolor\":\"#C8D4E3\"}},\"shapedefaults\":{\"line\":{\"color\":\"#f2f5fa\"}},\"sliderdefaults\":{\"bgcolor\":\"#C8D4E3\",\"bordercolor\":\"rgb(17,17,17)\",\"borderwidth\":1,\"tickwidth\":0},\"ternary\":{\"aaxis\":{\"gridcolor\":\"#506784\",\"linecolor\":\"#506784\",\"ticks\":\"\"},\"baxis\":{\"gridcolor\":\"#506784\",\"linecolor\":\"#506784\",\"ticks\":\"\"},\"bgcolor\":\"rgb(17,17,17)\",\"caxis\":{\"gridcolor\":\"#506784\",\"linecolor\":\"#506784\",\"ticks\":\"\"}},\"title\":{\"x\":0.05},\"updatemenudefaults\":{\"bgcolor\":\"#506784\",\"borderwidth\":0},\"xaxis\":{\"automargin\":true,\"gridcolor\":\"#283442\",\"linecolor\":\"#506784\",\"ticks\":\"\",\"title\":{\"standoff\":15},\"zerolinecolor\":\"#283442\",\"zerolinewidth\":2},\"yaxis\":{\"automargin\":true,\"gridcolor\":\"#283442\",\"linecolor\":\"#506784\",\"ticks\":\"\",\"title\":{\"standoff\":15},\"zerolinecolor\":\"#283442\",\"zerolinewidth\":2}}},\"geo\":{\"domain\":{\"x\":[0.0,1.0],\"y\":[0.0,1.0]},\"center\":{},\"showcoastlines\":true,\"showland\":true,\"landcolor\":\"lightgray\"},\"legend\":{\"title\":{\"text\":\"Anime Name\"},\"tracegroupgap\":0},\"title\":{\"text\":\"Most Popular Anime by Country\",\"font\":{\"size\":20}},\"font\":{\"size\":12,\"color\":\"white\"}},                        {\"responsive\": true}                    ).then(function(){\n",
       "                            \n",
       "var gd = document.getElementById('e4b646f0-e4b3-4a2f-beee-1d8f2e6549d2');\n",
       "var x = new MutationObserver(function (mutations, observer) {{\n",
       "        var display = window.getComputedStyle(gd).display;\n",
       "        if (!display || display === 'none') {{\n",
       "            console.log([gd, 'removed!']);\n",
       "            Plotly.purge(gd);\n",
       "            observer.disconnect();\n",
       "        }}\n",
       "}});\n",
       "\n",
       "// Listen for the removal of the full notebook cells\n",
       "var notebookContainer = gd.closest('#notebook-container');\n",
       "if (notebookContainer) {{\n",
       "    x.observe(notebookContainer, {childList: true});\n",
       "}}\n",
       "\n",
       "// Listen for the clearing of the current output cell\n",
       "var outputEl = gd.closest('.output');\n",
       "if (outputEl) {{\n",
       "    x.observe(outputEl, {childList: true});\n",
       "}}\n",
       "\n",
       "                        })                };                            </script>        </div>\n",
       "</body>\n",
       "</html>"
      ]
     },
     "metadata": {},
     "output_type": "display_data"
    }
   ],
   "source": [
    "import plotly.express as px\n",
    "\n",
    "fig7 = px.choropleth(df, \n",
    "                    locations=\"Most Watched in Country\",  \n",
    "                    locationmode=\"country names\",  \n",
    "                    color=\"Anime Name\",  # Color based on the most popular anime\n",
    "                    hover_name=\"Most Watched in Country\",  \n",
    "                    title=\"Most Popular Anime by Country\",  \n",
    "                    color_discrete_sequence=px.colors.qualitative.Bold)  # Use distinct colors\n",
    "\n",
    "fig7.update_layout(\n",
    "    geo=dict(showcoastlines=True, showland=True, landcolor=\"lightgray\"),  \n",
    "    template=\"plotly_dark\",  \n",
    "    font=dict(size=12, color=\"white\"),  \n",
    "    title_font_size=20\n",
    ")\n",
    "\n",
    "fig7.show()\n",
    "#fig.write_image(\"most_popular_anime_by_country.png\")"
   ]
  },
  {
   "cell_type": "code",
   "execution_count": 14,
   "id": "3a42cd93",
   "metadata": {
    "execution": {
     "iopub.execute_input": "2025-03-02T06:32:54.646673Z",
     "iopub.status.busy": "2025-03-02T06:32:54.646319Z",
     "iopub.status.idle": "2025-03-02T06:32:54.779755Z",
     "shell.execute_reply": "2025-03-02T06:32:54.778761Z"
    },
    "jupyter": {
     "source_hidden": true
    },
    "papermill": {
     "duration": 0.142325,
     "end_time": "2025-03-02T06:32:54.781517",
     "exception": false,
     "start_time": "2025-03-02T06:32:54.639192",
     "status": "completed"
    },
    "tags": []
   },
   "outputs": [
    {
     "data": {
      "text/html": [
       "<html>\n",
       "<head><meta charset=\"utf-8\" /></head>\n",
       "<body>\n",
       "    <div>            <script src=\"https://cdnjs.cloudflare.com/ajax/libs/mathjax/2.7.5/MathJax.js?config=TeX-AMS-MML_SVG\"></script><script type=\"text/javascript\">if (window.MathJax && window.MathJax.Hub && window.MathJax.Hub.Config) {window.MathJax.Hub.Config({SVG: {font: \"STIX-Web\"}});}</script>                <script type=\"text/javascript\">window.PlotlyConfig = {MathJaxConfig: 'local'};</script>\n",
       "        <script charset=\"utf-8\" src=\"https://cdn.plot.ly/plotly-2.35.2.min.js\"></script>                <div id=\"5ffff724-89fe-43dd-966c-bf4425ba91d4\" class=\"plotly-graph-div\" style=\"height:1100px; width:1300px;\"></div>            <script type=\"text/javascript\">                                    window.PLOTLYENV=window.PLOTLYENV || {};                                    if (document.getElementById(\"5ffff724-89fe-43dd-966c-bf4425ba91d4\")) {                    Plotly.newPlot(                        \"5ffff724-89fe-43dd-966c-bf4425ba91d4\",                        [{\"alignmentgroup\":\"True\",\"customdata\":[[7.1]],\"hovertemplate\":\"Ratings=%{customdata[0]}\\u003cextra\\u003e\\u003c\\u002fextra\\u003e\",\"legendgroup\":\"Neon Genesis Evangelion\",\"marker\":{\"color\":\"rgb(228,26,28)\",\"pattern\":{\"shape\":\"\"}},\"name\":\"Neon Genesis Evangelion\",\"offsetgroup\":\"Neon Genesis Evangelion\",\"orientation\":\"v\",\"showlegend\":false,\"text\":[149.39],\"textposition\":\"outside\",\"texttemplate\":\"%{text:.1f}M\",\"x\":[\"Neon Genesis Evangelion\"],\"xaxis\":\"x\",\"y\":[149.39],\"yaxis\":\"y\",\"type\":\"bar\"},{\"alignmentgroup\":\"True\",\"customdata\":[[9.6]],\"hovertemplate\":\"Ratings=%{customdata[0]}\\u003cextra\\u003e\\u003c\\u002fextra\\u003e\",\"legendgroup\":\"My Hero Academia\",\"marker\":{\"color\":\"rgb(55,126,184)\",\"pattern\":{\"shape\":\"\"}},\"name\":\"My Hero Academia\",\"offsetgroup\":\"My Hero Academia\",\"orientation\":\"v\",\"showlegend\":false,\"text\":[145.33],\"textposition\":\"outside\",\"texttemplate\":\"%{text:.1f}M\",\"x\":[\"My Hero Academia\"],\"xaxis\":\"x\",\"y\":[145.33],\"yaxis\":\"y\",\"type\":\"bar\"},{\"alignmentgroup\":\"True\",\"customdata\":[[7.3]],\"hovertemplate\":\"Ratings=%{customdata[0]}\\u003cextra\\u003e\\u003c\\u002fextra\\u003e\",\"legendgroup\":\"Hunter x Hunter\",\"marker\":{\"color\":\"rgb(77,175,74)\",\"pattern\":{\"shape\":\"\"}},\"name\":\"Hunter x Hunter\",\"offsetgroup\":\"Hunter x Hunter\",\"orientation\":\"v\",\"showlegend\":false,\"text\":[137.95],\"textposition\":\"outside\",\"texttemplate\":\"%{text:.1f}M\",\"x\":[\"Hunter x Hunter\"],\"xaxis\":\"x\",\"y\":[137.95],\"yaxis\":\"y\",\"type\":\"bar\"},{\"alignmentgroup\":\"True\",\"customdata\":[[9.4]],\"hovertemplate\":\"Ratings=%{customdata[0]}\\u003cextra\\u003e\\u003c\\u002fextra\\u003e\",\"legendgroup\":\"One Piece\",\"marker\":{\"color\":\"rgb(152,78,163)\",\"pattern\":{\"shape\":\"\"}},\"name\":\"One Piece\",\"offsetgroup\":\"One Piece\",\"orientation\":\"v\",\"showlegend\":false,\"text\":[137.37],\"textposition\":\"outside\",\"texttemplate\":\"%{text:.1f}M\",\"x\":[\"One Piece\"],\"xaxis\":\"x\",\"y\":[137.37],\"yaxis\":\"y\",\"type\":\"bar\"},{\"alignmentgroup\":\"True\",\"customdata\":[[9.1]],\"hovertemplate\":\"Ratings=%{customdata[0]}\\u003cextra\\u003e\\u003c\\u002fextra\\u003e\",\"legendgroup\":\"Death Note\",\"marker\":{\"color\":\"rgb(255,127,0)\",\"pattern\":{\"shape\":\"\"}},\"name\":\"Death Note\",\"offsetgroup\":\"Death Note\",\"orientation\":\"v\",\"showlegend\":false,\"text\":[130.16],\"textposition\":\"outside\",\"texttemplate\":\"%{text:.1f}M\",\"x\":[\"Death Note\"],\"xaxis\":\"x\",\"y\":[130.16],\"yaxis\":\"y\",\"type\":\"bar\"},{\"customdata\":[[\"Haikyuu!!\",\"MAPPA\"],[\"Bleach\",\"MAPPA\"],[\"Naruto\",\"MAPPA\"],[\"One Piece\",\"Studio Ghibli\"],[\"Hunter x Hunter\",\"MAPPA\"],[\"Black Clover\",\"Wit Studio\"]],\"hovertemplate\":\"Genre=Adventure\\u003cbr\\u003eBudget (in Million USD)=%{x}\\u003cbr\\u003eRatings=%{y}\\u003cbr\\u003eAnime Name=%{customdata[0]}\\u003cbr\\u003eAnimation Studio Name=%{customdata[1]}\\u003cextra\\u003e\\u003c\\u002fextra\\u003e\",\"legendgroup\":\"Adventure\",\"marker\":{\"color\":\"#636efa\",\"opacity\":0.8,\"symbol\":\"circle\"},\"mode\":\"markers\",\"name\":\"Adventure\",\"orientation\":\"v\",\"showlegend\":true,\"x\":[74.99,127.22,83.5,89.19,49.08,104.84],\"xaxis\":\"x2\",\"y\":[9.2,9.4,8.1,6.7,9.5,7.9],\"yaxis\":\"y2\",\"type\":\"scatter\"},{\"customdata\":[[\"Tokyo Ghoul\",\"MAPPA\"],[\"Attack on Titan\",\"Wit Studio\"],[\"Naruto\",\"Bones\"],[\"One Piece\",\"Madhouse\"],[\"My Hero Academia\",\"Studio Ghibli\"]],\"hovertemplate\":\"Genre=Comedy\\u003cbr\\u003eBudget (in Million USD)=%{x}\\u003cbr\\u003eRatings=%{y}\\u003cbr\\u003eAnime Name=%{customdata[0]}\\u003cbr\\u003eAnimation Studio Name=%{customdata[1]}\\u003cextra\\u003e\\u003c\\u002fextra\\u003e\",\"legendgroup\":\"Comedy\",\"marker\":{\"color\":\"#EF553B\",\"opacity\":0.8,\"symbol\":\"circle\"},\"mode\":\"markers\",\"name\":\"Comedy\",\"orientation\":\"v\",\"showlegend\":true,\"x\":[13.41,50.21,25.77,137.37,59.78],\"xaxis\":\"x2\",\"y\":[6.9,8.5,6.3,9.4,6.8],\"yaxis\":\"y2\",\"type\":\"scatter\"},{\"customdata\":[[\"Tokyo Ghoul\",\"Ufotable\"],[\"Tokyo Ghoul\",\"MAPPA\"],[\"My Hero Academia\",\"Bones\"],[\"Hunter x Hunter\",\"Bones\"],[\"Naruto\",\"Toei Animation\"]],\"hovertemplate\":\"Genre=Action\\u003cbr\\u003eBudget (in Million USD)=%{x}\\u003cbr\\u003eRatings=%{y}\\u003cbr\\u003eAnime Name=%{customdata[0]}\\u003cbr\\u003eAnimation Studio Name=%{customdata[1]}\\u003cextra\\u003e\\u003c\\u002fextra\\u003e\",\"legendgroup\":\"Action\",\"marker\":{\"color\":\"#00cc96\",\"opacity\":0.8,\"symbol\":\"circle\"},\"mode\":\"markers\",\"name\":\"Action\",\"orientation\":\"v\",\"showlegend\":true,\"x\":[32.7,110.82,145.33,137.95,9.62],\"xaxis\":\"x2\",\"y\":[7.0,9.4,9.6,7.3,6.3],\"yaxis\":\"y2\",\"type\":\"scatter\"},{\"customdata\":[[\"Mob Psycho 100\",\"Studio Ghibli\"],[\"Neon Genesis Evangelion\",\"Trigger\"],[\"Demon Slayer\",\"Madhouse\"],[\"Neon Genesis Evangelion\",\"Trigger\"],[\"Death Note\",\"Pierrot\"]],\"hovertemplate\":\"Genre=Thriller\\u003cbr\\u003eBudget (in Million USD)=%{x}\\u003cbr\\u003eRatings=%{y}\\u003cbr\\u003eAnime Name=%{customdata[0]}\\u003cbr\\u003eAnimation Studio Name=%{customdata[1]}\\u003cextra\\u003e\\u003c\\u002fextra\\u003e\",\"legendgroup\":\"Thriller\",\"marker\":{\"color\":\"#ab63fa\",\"opacity\":0.8,\"symbol\":\"circle\"},\"mode\":\"markers\",\"name\":\"Thriller\",\"orientation\":\"v\",\"showlegend\":true,\"x\":[117.41,146.16,61.38,60.63,12.24],\"xaxis\":\"x2\",\"y\":[9.9,6.8,9.9,6.9,9.9],\"yaxis\":\"y2\",\"type\":\"scatter\"},{\"customdata\":[[\"Neon Genesis Evangelion\",\"Trigger\"],[\"Demon Slayer\",\"Wit Studio\"],[\"Spirited Away\",\"Ufotable\"]],\"hovertemplate\":\"Genre=Supernatural\\u003cbr\\u003eBudget (in Million USD)=%{x}\\u003cbr\\u003eRatings=%{y}\\u003cbr\\u003eAnime Name=%{customdata[0]}\\u003cbr\\u003eAnimation Studio Name=%{customdata[1]}\\u003cextra\\u003e\\u003c\\u002fextra\\u003e\",\"legendgroup\":\"Supernatural\",\"marker\":{\"color\":\"#FFA15A\",\"opacity\":0.8,\"symbol\":\"circle\"},\"mode\":\"markers\",\"name\":\"Supernatural\",\"orientation\":\"v\",\"showlegend\":true,\"x\":[149.39,34.16,16.91],\"xaxis\":\"x2\",\"y\":[7.1,7.5,8.7],\"yaxis\":\"y2\",\"type\":\"scatter\"},{\"customdata\":[[\"Black Clover\",\"Trigger\"],[\"Re:Zero\",\"Studio Ghibli\"],[\"Neon Genesis Evangelion\",\"Wit Studio\"],[\"Mob Psycho 100\",\"Madhouse\"]],\"hovertemplate\":\"Genre=Psychological\\u003cbr\\u003eBudget (in Million USD)=%{x}\\u003cbr\\u003eRatings=%{y}\\u003cbr\\u003eAnime Name=%{customdata[0]}\\u003cbr\\u003eAnimation Studio Name=%{customdata[1]}\\u003cextra\\u003e\\u003c\\u002fextra\\u003e\",\"legendgroup\":\"Psychological\",\"marker\":{\"color\":\"#19d3f3\",\"opacity\":0.8,\"symbol\":\"circle\"},\"mode\":\"markers\",\"name\":\"Psychological\",\"orientation\":\"v\",\"showlegend\":true,\"x\":[103.52,64.49,138.77,58.25],\"xaxis\":\"x2\",\"y\":[9.4,8.3,9.8,7.5],\"yaxis\":\"y2\",\"type\":\"scatter\"},{\"customdata\":[[\"Death Note\",\"Madhouse\"],[\"Re:Zero\",\"Madhouse\"],[\"My Hero Academia\",\"Studio Ghibli\"]],\"hovertemplate\":\"Genre=Fantasy\\u003cbr\\u003eBudget (in Million USD)=%{x}\\u003cbr\\u003eRatings=%{y}\\u003cbr\\u003eAnime Name=%{customdata[0]}\\u003cbr\\u003eAnimation Studio Name=%{customdata[1]}\\u003cextra\\u003e\\u003c\\u002fextra\\u003e\",\"legendgroup\":\"Fantasy\",\"marker\":{\"color\":\"#FF6692\",\"opacity\":0.8,\"symbol\":\"circle\"},\"mode\":\"markers\",\"name\":\"Fantasy\",\"orientation\":\"v\",\"showlegend\":true,\"x\":[130.16,57.32,5.82],\"xaxis\":\"x2\",\"y\":[9.1,7.2,7.7],\"yaxis\":\"y2\",\"type\":\"scatter\"},{\"customdata\":[[\"Fairy Tail\",\"MAPPA\"],[\"Fairy Tail\",\"Studio Ghibli\"],[\"Dragon Ball Z\",\"Trigger\"],[\"Spirited Away\",\"Studio Ghibli\"],[\"Fairy Tail\",\"Toei Animation\"],[\"Fullmetal Alchemist\",\"MAPPA\"]],\"hovertemplate\":\"Genre=Mystery\\u003cbr\\u003eBudget (in Million USD)=%{x}\\u003cbr\\u003eRatings=%{y}\\u003cbr\\u003eAnime Name=%{customdata[0]}\\u003cbr\\u003eAnimation Studio Name=%{customdata[1]}\\u003cextra\\u003e\\u003c\\u002fextra\\u003e\",\"legendgroup\":\"Mystery\",\"marker\":{\"color\":\"#B6E880\",\"opacity\":0.8,\"symbol\":\"circle\"},\"mode\":\"markers\",\"name\":\"Mystery\",\"orientation\":\"v\",\"showlegend\":true,\"x\":[60.1,53.18,65.73,123.6,13.35,104.62],\"xaxis\":\"x2\",\"y\":[9.8,7.5,7.0,7.4,8.3,8.3],\"yaxis\":\"y2\",\"type\":\"scatter\"},{\"customdata\":[[\"Sword Art Online\",\"MAPPA\"],[\"Sword Art Online\",\"Ufotable\"]],\"hovertemplate\":\"Genre=Drama\\u003cbr\\u003eBudget (in Million USD)=%{x}\\u003cbr\\u003eRatings=%{y}\\u003cbr\\u003eAnime Name=%{customdata[0]}\\u003cbr\\u003eAnimation Studio Name=%{customdata[1]}\\u003cextra\\u003e\\u003c\\u002fextra\\u003e\",\"legendgroup\":\"Drama\",\"marker\":{\"color\":\"#FF97FF\",\"opacity\":0.8,\"symbol\":\"circle\"},\"mode\":\"markers\",\"name\":\"Drama\",\"orientation\":\"v\",\"showlegend\":true,\"x\":[44.88,35.18],\"xaxis\":\"x2\",\"y\":[6.8,9.4],\"yaxis\":\"y2\",\"type\":\"scatter\"},{\"customdata\":[[\"Attack on Titan\",\"Pierrot\"],[\"Jujutsu Kaisen\",\"Pierrot\"]],\"hovertemplate\":\"Genre=Sci-Fi\\u003cbr\\u003eBudget (in Million USD)=%{x}\\u003cbr\\u003eRatings=%{y}\\u003cbr\\u003eAnime Name=%{customdata[0]}\\u003cbr\\u003eAnimation Studio Name=%{customdata[1]}\\u003cextra\\u003e\\u003c\\u002fextra\\u003e\",\"legendgroup\":\"Sci-Fi\",\"marker\":{\"color\":\"#FECB52\",\"opacity\":0.8,\"symbol\":\"circle\"},\"mode\":\"markers\",\"name\":\"Sci-Fi\",\"orientation\":\"v\",\"showlegend\":true,\"x\":[54.69,68.53],\"xaxis\":\"x2\",\"y\":[8.8,7.2],\"yaxis\":\"y2\",\"type\":\"scatter\"},{\"contours\":{\"coloring\":\"none\"},\"hovertemplate\":\"Ratings=%{x}\\u003cbr\\u003eBudget (in Million USD)=%{y}\\u003cbr\\u003ecount=%{z}\\u003cextra\\u003e\\u003c\\u002fextra\\u003e\",\"legendgroup\":\"\",\"line\":{\"color\":\"#636efa\"},\"name\":\"\",\"showlegend\":false,\"x\":[9.2,9.4,6.9,8.1,7.0,9.9,6.8,7.1,9.4,9.6,9.4,9.1,8.3,7.5,9.8,6.7,7.5,7.2,8.5,7.0,9.9,7.4,6.9,8.3,9.5,9.8,7.3,8.3,9.9,6.3,6.8,7.9,7.5,9.4,6.3,6.8,8.7,9.4,8.8,7.2,7.7],\"xaxis\":\"x3\",\"xbingroup\":\"x\",\"y\":[74.99,127.22,13.41,83.5,32.7,117.41,146.16,149.39,110.82,145.33,103.52,130.16,64.49,34.16,60.1,89.19,53.18,57.32,50.21,65.73,61.38,123.6,60.63,13.35,49.08,138.77,137.95,104.62,12.24,25.77,44.88,104.84,58.25,137.37,9.62,59.78,16.91,35.18,54.69,68.53,5.82],\"yaxis\":\"y3\",\"ybingroup\":\"y\",\"type\":\"histogram2dcontour\"},{\"alignmentgroup\":\"True\",\"hovertemplate\":\"Genre=%{x}\\u003cbr\\u003eRatings=%{y}\\u003cextra\\u003e\\u003c\\u002fextra\\u003e\",\"legendgroup\":\"Adventure\",\"marker\":{\"color\":\"rgb(102,194,165)\"},\"name\":\"Adventure\",\"notched\":false,\"offsetgroup\":\"Adventure\",\"orientation\":\"v\",\"showlegend\":false,\"x\":[\"Adventure\",\"Adventure\",\"Adventure\",\"Adventure\",\"Adventure\",\"Adventure\"],\"x0\":\" \",\"xaxis\":\"x4\",\"y\":[9.2,9.4,8.1,6.7,9.5,7.9],\"y0\":\" \",\"yaxis\":\"y4\",\"type\":\"box\"},{\"alignmentgroup\":\"True\",\"hovertemplate\":\"Genre=%{x}\\u003cbr\\u003eRatings=%{y}\\u003cextra\\u003e\\u003c\\u002fextra\\u003e\",\"legendgroup\":\"Comedy\",\"marker\":{\"color\":\"rgb(252,141,98)\"},\"name\":\"Comedy\",\"notched\":false,\"offsetgroup\":\"Comedy\",\"orientation\":\"v\",\"showlegend\":false,\"x\":[\"Comedy\",\"Comedy\",\"Comedy\",\"Comedy\",\"Comedy\"],\"x0\":\" \",\"xaxis\":\"x4\",\"y\":[6.9,8.5,6.3,9.4,6.8],\"y0\":\" \",\"yaxis\":\"y4\",\"type\":\"box\"},{\"alignmentgroup\":\"True\",\"hovertemplate\":\"Genre=%{x}\\u003cbr\\u003eRatings=%{y}\\u003cextra\\u003e\\u003c\\u002fextra\\u003e\",\"legendgroup\":\"Action\",\"marker\":{\"color\":\"rgb(141,160,203)\"},\"name\":\"Action\",\"notched\":false,\"offsetgroup\":\"Action\",\"orientation\":\"v\",\"showlegend\":false,\"x\":[\"Action\",\"Action\",\"Action\",\"Action\",\"Action\"],\"x0\":\" \",\"xaxis\":\"x4\",\"y\":[7.0,9.4,9.6,7.3,6.3],\"y0\":\" \",\"yaxis\":\"y4\",\"type\":\"box\"},{\"alignmentgroup\":\"True\",\"hovertemplate\":\"Genre=%{x}\\u003cbr\\u003eRatings=%{y}\\u003cextra\\u003e\\u003c\\u002fextra\\u003e\",\"legendgroup\":\"Thriller\",\"marker\":{\"color\":\"rgb(231,138,195)\"},\"name\":\"Thriller\",\"notched\":false,\"offsetgroup\":\"Thriller\",\"orientation\":\"v\",\"showlegend\":false,\"x\":[\"Thriller\",\"Thriller\",\"Thriller\",\"Thriller\",\"Thriller\"],\"x0\":\" \",\"xaxis\":\"x4\",\"y\":[9.9,6.8,9.9,6.9,9.9],\"y0\":\" \",\"yaxis\":\"y4\",\"type\":\"box\"},{\"alignmentgroup\":\"True\",\"hovertemplate\":\"Genre=%{x}\\u003cbr\\u003eRatings=%{y}\\u003cextra\\u003e\\u003c\\u002fextra\\u003e\",\"legendgroup\":\"Supernatural\",\"marker\":{\"color\":\"rgb(166,216,84)\"},\"name\":\"Supernatural\",\"notched\":false,\"offsetgroup\":\"Supernatural\",\"orientation\":\"v\",\"showlegend\":false,\"x\":[\"Supernatural\",\"Supernatural\",\"Supernatural\"],\"x0\":\" \",\"xaxis\":\"x4\",\"y\":[7.1,7.5,8.7],\"y0\":\" \",\"yaxis\":\"y4\",\"type\":\"box\"},{\"alignmentgroup\":\"True\",\"hovertemplate\":\"Genre=%{x}\\u003cbr\\u003eRatings=%{y}\\u003cextra\\u003e\\u003c\\u002fextra\\u003e\",\"legendgroup\":\"Psychological\",\"marker\":{\"color\":\"rgb(255,217,47)\"},\"name\":\"Psychological\",\"notched\":false,\"offsetgroup\":\"Psychological\",\"orientation\":\"v\",\"showlegend\":false,\"x\":[\"Psychological\",\"Psychological\",\"Psychological\",\"Psychological\"],\"x0\":\" \",\"xaxis\":\"x4\",\"y\":[9.4,8.3,9.8,7.5],\"y0\":\" \",\"yaxis\":\"y4\",\"type\":\"box\"},{\"alignmentgroup\":\"True\",\"hovertemplate\":\"Genre=%{x}\\u003cbr\\u003eRatings=%{y}\\u003cextra\\u003e\\u003c\\u002fextra\\u003e\",\"legendgroup\":\"Fantasy\",\"marker\":{\"color\":\"rgb(229,196,148)\"},\"name\":\"Fantasy\",\"notched\":false,\"offsetgroup\":\"Fantasy\",\"orientation\":\"v\",\"showlegend\":false,\"x\":[\"Fantasy\",\"Fantasy\",\"Fantasy\"],\"x0\":\" \",\"xaxis\":\"x4\",\"y\":[9.1,7.2,7.7],\"y0\":\" \",\"yaxis\":\"y4\",\"type\":\"box\"},{\"alignmentgroup\":\"True\",\"hovertemplate\":\"Genre=%{x}\\u003cbr\\u003eRatings=%{y}\\u003cextra\\u003e\\u003c\\u002fextra\\u003e\",\"legendgroup\":\"Mystery\",\"marker\":{\"color\":\"rgb(179,179,179)\"},\"name\":\"Mystery\",\"notched\":false,\"offsetgroup\":\"Mystery\",\"orientation\":\"v\",\"showlegend\":false,\"x\":[\"Mystery\",\"Mystery\",\"Mystery\",\"Mystery\",\"Mystery\",\"Mystery\"],\"x0\":\" \",\"xaxis\":\"x4\",\"y\":[9.8,7.5,7.0,7.4,8.3,8.3],\"y0\":\" \",\"yaxis\":\"y4\",\"type\":\"box\"},{\"alignmentgroup\":\"True\",\"hovertemplate\":\"Genre=%{x}\\u003cbr\\u003eRatings=%{y}\\u003cextra\\u003e\\u003c\\u002fextra\\u003e\",\"legendgroup\":\"Drama\",\"marker\":{\"color\":\"rgb(102,194,165)\"},\"name\":\"Drama\",\"notched\":false,\"offsetgroup\":\"Drama\",\"orientation\":\"v\",\"showlegend\":false,\"x\":[\"Drama\",\"Drama\"],\"x0\":\" \",\"xaxis\":\"x4\",\"y\":[6.8,9.4],\"y0\":\" \",\"yaxis\":\"y4\",\"type\":\"box\"},{\"alignmentgroup\":\"True\",\"hovertemplate\":\"Genre=%{x}\\u003cbr\\u003eRatings=%{y}\\u003cextra\\u003e\\u003c\\u002fextra\\u003e\",\"legendgroup\":\"Sci-Fi\",\"marker\":{\"color\":\"rgb(252,141,98)\"},\"name\":\"Sci-Fi\",\"notched\":false,\"offsetgroup\":\"Sci-Fi\",\"orientation\":\"v\",\"showlegend\":false,\"x\":[\"Sci-Fi\",\"Sci-Fi\"],\"x0\":\" \",\"xaxis\":\"x4\",\"y\":[8.8,7.2],\"y0\":\" \",\"yaxis\":\"y4\",\"type\":\"box\"},{\"domain\":{\"x\":[0.0,0.39130434782608703],\"y\":[0.0,0.28571428571428575]},\"hole\":0.3,\"hovertemplate\":\"Genre=%{label}\\u003cextra\\u003e\\u003c\\u002fextra\\u003e\",\"labels\":[\"Adventure\",\"Adventure\",\"Comedy\",\"Adventure\",\"Action\",\"Thriller\",\"Thriller\",\"Supernatural\",\"Action\",\"Action\",\"Psychological\",\"Fantasy\",\"Psychological\",\"Supernatural\",\"Mystery\",\"Adventure\",\"Mystery\",\"Fantasy\",\"Comedy\",\"Mystery\",\"Thriller\",\"Mystery\",\"Thriller\",\"Mystery\",\"Adventure\",\"Psychological\",\"Action\",\"Mystery\",\"Thriller\",\"Comedy\",\"Drama\",\"Adventure\",\"Psychological\",\"Comedy\",\"Action\",\"Comedy\",\"Supernatural\",\"Drama\",\"Sci-Fi\",\"Sci-Fi\",\"Fantasy\"],\"legendgroup\":\"\",\"marker\":{\"line\":{\"color\":\"black\",\"width\":1}},\"name\":\"\",\"pull\":[0.05,0,0,0,0,0,0,0,0,0],\"showlegend\":false,\"textinfo\":\"percent+label\",\"type\":\"pie\"},{\"colorscale\":[[0.0,\"rgb(127, 60, 141)\"],[1.0,\"rgb(127, 60, 141)\"]],\"geo\":\"geo\",\"hovertemplate\":\"\\u003cb\\u003e%{hovertext}\\u003c\\u002fb\\u003e\\u003cbr\\u003e\\u003cbr\\u003eAnime Name=Haikyuu!!\\u003cbr\\u003eMost Watched in Country=%{location}\\u003cextra\\u003e\\u003c\\u002fextra\\u003e\",\"hovertext\":[\"Mexico\"],\"locationmode\":\"country names\",\"locations\":[\"Mexico\"],\"name\":\"Haikyuu!!\",\"showlegend\":true,\"showscale\":false,\"z\":[1],\"type\":\"choropleth\"},{\"colorscale\":[[0.0,\"rgb(17, 165, 121)\"],[1.0,\"rgb(17, 165, 121)\"]],\"geo\":\"geo\",\"hovertemplate\":\"\\u003cb\\u003e%{hovertext}\\u003c\\u002fb\\u003e\\u003cbr\\u003e\\u003cbr\\u003eAnime Name=Bleach\\u003cbr\\u003eMost Watched in Country=%{location}\\u003cextra\\u003e\\u003c\\u002fextra\\u003e\",\"hovertext\":[\"China\"],\"locationmode\":\"country names\",\"locations\":[\"China\"],\"name\":\"Bleach\",\"showlegend\":true,\"showscale\":false,\"z\":[1],\"type\":\"choropleth\"},{\"colorscale\":[[0.0,\"rgb(57, 105, 172)\"],[1.0,\"rgb(57, 105, 172)\"]],\"geo\":\"geo\",\"hovertemplate\":\"\\u003cb\\u003e%{hovertext}\\u003c\\u002fb\\u003e\\u003cbr\\u003e\\u003cbr\\u003eAnime Name=Tokyo Ghoul\\u003cbr\\u003eMost Watched in Country=%{location}\\u003cextra\\u003e\\u003c\\u002fextra\\u003e\",\"hovertext\":[\"United Kingdom\",\"Australia\",\"United Kingdom\"],\"locationmode\":\"country names\",\"locations\":[\"United Kingdom\",\"Australia\",\"United Kingdom\"],\"name\":\"Tokyo Ghoul\",\"showlegend\":true,\"showscale\":false,\"z\":[1,1,1],\"type\":\"choropleth\"},{\"colorscale\":[[0.0,\"rgb(242, 183, 1)\"],[1.0,\"rgb(242, 183, 1)\"]],\"geo\":\"geo\",\"hovertemplate\":\"\\u003cb\\u003e%{hovertext}\\u003c\\u002fb\\u003e\\u003cbr\\u003e\\u003cbr\\u003eAnime Name=Naruto\\u003cbr\\u003eMost Watched in Country=%{location}\\u003cextra\\u003e\\u003c\\u002fextra\\u003e\",\"hovertext\":[\"China\",\"United States\",\"United States\"],\"locationmode\":\"country names\",\"locations\":[\"China\",\"United States\",\"United States\"],\"name\":\"Naruto\",\"showlegend\":true,\"showscale\":false,\"z\":[1,1,1],\"type\":\"choropleth\"},{\"colorscale\":[[0.0,\"rgb(231, 63, 116)\"],[1.0,\"rgb(231, 63, 116)\"]],\"geo\":\"geo\",\"hovertemplate\":\"\\u003cb\\u003e%{hovertext}\\u003c\\u002fb\\u003e\\u003cbr\\u003e\\u003cbr\\u003eAnime Name=Mob Psycho 100\\u003cbr\\u003eMost Watched in Country=%{location}\\u003cextra\\u003e\\u003c\\u002fextra\\u003e\",\"hovertext\":[\"Thailand\",\"Malaysia\"],\"locationmode\":\"country names\",\"locations\":[\"Thailand\",\"Malaysia\"],\"name\":\"Mob Psycho 100\",\"showlegend\":true,\"showscale\":false,\"z\":[1,1],\"type\":\"choropleth\"},{\"colorscale\":[[0.0,\"rgb(128, 186, 90)\"],[1.0,\"rgb(128, 186, 90)\"]],\"geo\":\"geo\",\"hovertemplate\":\"\\u003cb\\u003e%{hovertext}\\u003c\\u002fb\\u003e\\u003cbr\\u003e\\u003cbr\\u003eAnime Name=Neon Genesis Evangelion\\u003cbr\\u003eMost Watched in Country=%{location}\\u003cextra\\u003e\\u003c\\u002fextra\\u003e\",\"hovertext\":[\"Argentina\",\"India\",\"Mexico\",\"United States\"],\"locationmode\":\"country names\",\"locations\":[\"Argentina\",\"India\",\"Mexico\",\"United States\"],\"name\":\"Neon Genesis Evangelion\",\"showlegend\":true,\"showscale\":false,\"z\":[1,1,1,1],\"type\":\"choropleth\"},{\"colorscale\":[[0.0,\"rgb(230, 131, 16)\"],[1.0,\"rgb(230, 131, 16)\"]],\"geo\":\"geo\",\"hovertemplate\":\"\\u003cb\\u003e%{hovertext}\\u003c\\u002fb\\u003e\\u003cbr\\u003e\\u003cbr\\u003eAnime Name=My Hero Academia\\u003cbr\\u003eMost Watched in Country=%{location}\\u003cextra\\u003e\\u003c\\u002fextra\\u003e\",\"hovertext\":[\"Russia\",\"Germany\",\"Thailand\"],\"locationmode\":\"country names\",\"locations\":[\"Russia\",\"Germany\",\"Thailand\"],\"name\":\"My Hero Academia\",\"showlegend\":true,\"showscale\":false,\"z\":[1,1,1],\"type\":\"choropleth\"},{\"colorscale\":[[0.0,\"rgb(0, 134, 149)\"],[1.0,\"rgb(0, 134, 149)\"]],\"geo\":\"geo\",\"hovertemplate\":\"\\u003cb\\u003e%{hovertext}\\u003c\\u002fb\\u003e\\u003cbr\\u003e\\u003cbr\\u003eAnime Name=Black Clover\\u003cbr\\u003eMost Watched in Country=%{location}\\u003cextra\\u003e\\u003c\\u002fextra\\u003e\",\"hovertext\":[\"India\",\"Russia\"],\"locationmode\":\"country names\",\"locations\":[\"India\",\"Russia\"],\"name\":\"Black Clover\",\"showlegend\":true,\"showscale\":false,\"z\":[1,1],\"type\":\"choropleth\"},{\"colorscale\":[[0.0,\"rgb(207, 28, 144)\"],[1.0,\"rgb(207, 28, 144)\"]],\"geo\":\"geo\",\"hovertemplate\":\"\\u003cb\\u003e%{hovertext}\\u003c\\u002fb\\u003e\\u003cbr\\u003e\\u003cbr\\u003eAnime Name=Death Note\\u003cbr\\u003eMost Watched in Country=%{location}\\u003cextra\\u003e\\u003c\\u002fextra\\u003e\",\"hovertext\":[\"United Kingdom\",\"Thailand\"],\"locationmode\":\"country names\",\"locations\":[\"United Kingdom\",\"Thailand\"],\"name\":\"Death Note\",\"showlegend\":true,\"showscale\":false,\"z\":[1,1],\"type\":\"choropleth\"},{\"colorscale\":[[0.0,\"rgb(249, 123, 114)\"],[1.0,\"rgb(249, 123, 114)\"]],\"geo\":\"geo\",\"hovertemplate\":\"\\u003cb\\u003e%{hovertext}\\u003c\\u002fb\\u003e\\u003cbr\\u003e\\u003cbr\\u003eAnime Name=Re:Zero\\u003cbr\\u003eMost Watched in Country=%{location}\\u003cextra\\u003e\\u003c\\u002fextra\\u003e\",\"hovertext\":[\"United States\",\"Germany\"],\"locationmode\":\"country names\",\"locations\":[\"United States\",\"Germany\"],\"name\":\"Re:Zero\",\"showlegend\":true,\"showscale\":false,\"z\":[1,1],\"type\":\"choropleth\"},{\"colorscale\":[[0.0,\"rgb(165, 170, 153)\"],[1.0,\"rgb(165, 170, 153)\"]],\"geo\":\"geo\",\"hovertemplate\":\"\\u003cb\\u003e%{hovertext}\\u003c\\u002fb\\u003e\\u003cbr\\u003e\\u003cbr\\u003eAnime Name=Demon Slayer\\u003cbr\\u003eMost Watched in Country=%{location}\\u003cextra\\u003e\\u003c\\u002fextra\\u003e\",\"hovertext\":[\"Australia\",\"Australia\"],\"locationmode\":\"country names\",\"locations\":[\"Australia\",\"Australia\"],\"name\":\"Demon Slayer\",\"showlegend\":true,\"showscale\":false,\"z\":[1,1],\"type\":\"choropleth\"},{\"colorscale\":[[0.0,\"rgb(127, 60, 141)\"],[1.0,\"rgb(127, 60, 141)\"]],\"geo\":\"geo\",\"hovertemplate\":\"\\u003cb\\u003e%{hovertext}\\u003c\\u002fb\\u003e\\u003cbr\\u003e\\u003cbr\\u003eAnime Name=Fairy Tail\\u003cbr\\u003eMost Watched in Country=%{location}\\u003cextra\\u003e\\u003c\\u002fextra\\u003e\",\"hovertext\":[\"Italy\",\"Canada\",\"United States\"],\"locationmode\":\"country names\",\"locations\":[\"Italy\",\"Canada\",\"United States\"],\"name\":\"Fairy Tail\",\"showlegend\":true,\"showscale\":false,\"z\":[1,1,1],\"type\":\"choropleth\"},{\"colorscale\":[[0.0,\"rgb(17, 165, 121)\"],[1.0,\"rgb(17, 165, 121)\"]],\"geo\":\"geo\",\"hovertemplate\":\"\\u003cb\\u003e%{hovertext}\\u003c\\u002fb\\u003e\\u003cbr\\u003e\\u003cbr\\u003eAnime Name=One Piece\\u003cbr\\u003eMost Watched in Country=%{location}\\u003cextra\\u003e\\u003c\\u002fextra\\u003e\",\"hovertext\":[\"Italy\",\"France\"],\"locationmode\":\"country names\",\"locations\":[\"Italy\",\"France\"],\"name\":\"One Piece\",\"showlegend\":true,\"showscale\":false,\"z\":[1,1],\"type\":\"choropleth\"},{\"colorscale\":[[0.0,\"rgb(57, 105, 172)\"],[1.0,\"rgb(57, 105, 172)\"]],\"geo\":\"geo\",\"hovertemplate\":\"\\u003cb\\u003e%{hovertext}\\u003c\\u002fb\\u003e\\u003cbr\\u003e\\u003cbr\\u003eAnime Name=Attack on Titan\\u003cbr\\u003eMost Watched in Country=%{location}\\u003cextra\\u003e\\u003c\\u002fextra\\u003e\",\"hovertext\":[\"France\",\"Brazil\"],\"locationmode\":\"country names\",\"locations\":[\"France\",\"Brazil\"],\"name\":\"Attack on Titan\",\"showlegend\":true,\"showscale\":false,\"z\":[1,1],\"type\":\"choropleth\"},{\"colorscale\":[[0.0,\"rgb(242, 183, 1)\"],[1.0,\"rgb(242, 183, 1)\"]],\"geo\":\"geo\",\"hovertemplate\":\"\\u003cb\\u003e%{hovertext}\\u003c\\u002fb\\u003e\\u003cbr\\u003e\\u003cbr\\u003eAnime Name=Dragon Ball Z\\u003cbr\\u003eMost Watched in Country=%{location}\\u003cextra\\u003e\\u003c\\u002fextra\\u003e\",\"hovertext\":[\"Japan\"],\"locationmode\":\"country names\",\"locations\":[\"Japan\"],\"name\":\"Dragon Ball Z\",\"showlegend\":true,\"showscale\":false,\"z\":[1],\"type\":\"choropleth\"},{\"colorscale\":[[0.0,\"rgb(231, 63, 116)\"],[1.0,\"rgb(231, 63, 116)\"]],\"geo\":\"geo\",\"hovertemplate\":\"\\u003cb\\u003e%{hovertext}\\u003c\\u002fb\\u003e\\u003cbr\\u003e\\u003cbr\\u003eAnime Name=Spirited Away\\u003cbr\\u003eMost Watched in Country=%{location}\\u003cextra\\u003e\\u003c\\u002fextra\\u003e\",\"hovertext\":[\"Argentina\",\"Russia\"],\"locationmode\":\"country names\",\"locations\":[\"Argentina\",\"Russia\"],\"name\":\"Spirited Away\",\"showlegend\":true,\"showscale\":false,\"z\":[1,1],\"type\":\"choropleth\"},{\"colorscale\":[[0.0,\"rgb(128, 186, 90)\"],[1.0,\"rgb(128, 186, 90)\"]],\"geo\":\"geo\",\"hovertemplate\":\"\\u003cb\\u003e%{hovertext}\\u003c\\u002fb\\u003e\\u003cbr\\u003e\\u003cbr\\u003eAnime Name=Hunter x Hunter\\u003cbr\\u003eMost Watched in Country=%{location}\\u003cextra\\u003e\\u003c\\u002fextra\\u003e\",\"hovertext\":[\"Malaysia\",\"France\"],\"locationmode\":\"country names\",\"locations\":[\"Malaysia\",\"France\"],\"name\":\"Hunter x Hunter\",\"showlegend\":true,\"showscale\":false,\"z\":[1,1],\"type\":\"choropleth\"},{\"colorscale\":[[0.0,\"rgb(230, 131, 16)\"],[1.0,\"rgb(230, 131, 16)\"]],\"geo\":\"geo\",\"hovertemplate\":\"\\u003cb\\u003e%{hovertext}\\u003c\\u002fb\\u003e\\u003cbr\\u003e\\u003cbr\\u003eAnime Name=Fullmetal Alchemist\\u003cbr\\u003eMost Watched in Country=%{location}\\u003cextra\\u003e\\u003c\\u002fextra\\u003e\",\"hovertext\":[\"Japan\"],\"locationmode\":\"country names\",\"locations\":[\"Japan\"],\"name\":\"Fullmetal Alchemist\",\"showlegend\":true,\"showscale\":false,\"z\":[1],\"type\":\"choropleth\"},{\"colorscale\":[[0.0,\"rgb(0, 134, 149)\"],[1.0,\"rgb(0, 134, 149)\"]],\"geo\":\"geo\",\"hovertemplate\":\"\\u003cb\\u003e%{hovertext}\\u003c\\u002fb\\u003e\\u003cbr\\u003e\\u003cbr\\u003eAnime Name=Sword Art Online\\u003cbr\\u003eMost Watched in Country=%{location}\\u003cextra\\u003e\\u003c\\u002fextra\\u003e\",\"hovertext\":[\"Germany\",\"Germany\"],\"locationmode\":\"country names\",\"locations\":[\"Germany\",\"Germany\"],\"name\":\"Sword Art Online\",\"showlegend\":true,\"showscale\":false,\"z\":[1,1],\"type\":\"choropleth\"},{\"colorscale\":[[0.0,\"rgb(207, 28, 144)\"],[1.0,\"rgb(207, 28, 144)\"]],\"geo\":\"geo\",\"hovertemplate\":\"\\u003cb\\u003e%{hovertext}\\u003c\\u002fb\\u003e\\u003cbr\\u003e\\u003cbr\\u003eAnime Name=Jujutsu Kaisen\\u003cbr\\u003eMost Watched in Country=%{location}\\u003cextra\\u003e\\u003c\\u002fextra\\u003e\",\"hovertext\":[\"India\"],\"locationmode\":\"country names\",\"locations\":[\"India\"],\"name\":\"Jujutsu Kaisen\",\"showlegend\":true,\"showscale\":false,\"z\":[1],\"type\":\"choropleth\"}],                        {\"template\":{\"data\":{\"barpolar\":[{\"marker\":{\"line\":{\"color\":\"rgb(17,17,17)\",\"width\":0.5},\"pattern\":{\"fillmode\":\"overlay\",\"size\":10,\"solidity\":0.2}},\"type\":\"barpolar\"}],\"bar\":[{\"error_x\":{\"color\":\"#f2f5fa\"},\"error_y\":{\"color\":\"#f2f5fa\"},\"marker\":{\"line\":{\"color\":\"rgb(17,17,17)\",\"width\":0.5},\"pattern\":{\"fillmode\":\"overlay\",\"size\":10,\"solidity\":0.2}},\"type\":\"bar\"}],\"carpet\":[{\"aaxis\":{\"endlinecolor\":\"#A2B1C6\",\"gridcolor\":\"#506784\",\"linecolor\":\"#506784\",\"minorgridcolor\":\"#506784\",\"startlinecolor\":\"#A2B1C6\"},\"baxis\":{\"endlinecolor\":\"#A2B1C6\",\"gridcolor\":\"#506784\",\"linecolor\":\"#506784\",\"minorgridcolor\":\"#506784\",\"startlinecolor\":\"#A2B1C6\"},\"type\":\"carpet\"}],\"choropleth\":[{\"colorbar\":{\"outlinewidth\":0,\"ticks\":\"\"},\"type\":\"choropleth\"}],\"contourcarpet\":[{\"colorbar\":{\"outlinewidth\":0,\"ticks\":\"\"},\"type\":\"contourcarpet\"}],\"contour\":[{\"colorbar\":{\"outlinewidth\":0,\"ticks\":\"\"},\"colorscale\":[[0.0,\"#0d0887\"],[0.1111111111111111,\"#46039f\"],[0.2222222222222222,\"#7201a8\"],[0.3333333333333333,\"#9c179e\"],[0.4444444444444444,\"#bd3786\"],[0.5555555555555556,\"#d8576b\"],[0.6666666666666666,\"#ed7953\"],[0.7777777777777778,\"#fb9f3a\"],[0.8888888888888888,\"#fdca26\"],[1.0,\"#f0f921\"]],\"type\":\"contour\"}],\"heatmapgl\":[{\"colorbar\":{\"outlinewidth\":0,\"ticks\":\"\"},\"colorscale\":[[0.0,\"#0d0887\"],[0.1111111111111111,\"#46039f\"],[0.2222222222222222,\"#7201a8\"],[0.3333333333333333,\"#9c179e\"],[0.4444444444444444,\"#bd3786\"],[0.5555555555555556,\"#d8576b\"],[0.6666666666666666,\"#ed7953\"],[0.7777777777777778,\"#fb9f3a\"],[0.8888888888888888,\"#fdca26\"],[1.0,\"#f0f921\"]],\"type\":\"heatmapgl\"}],\"heatmap\":[{\"colorbar\":{\"outlinewidth\":0,\"ticks\":\"\"},\"colorscale\":[[0.0,\"#0d0887\"],[0.1111111111111111,\"#46039f\"],[0.2222222222222222,\"#7201a8\"],[0.3333333333333333,\"#9c179e\"],[0.4444444444444444,\"#bd3786\"],[0.5555555555555556,\"#d8576b\"],[0.6666666666666666,\"#ed7953\"],[0.7777777777777778,\"#fb9f3a\"],[0.8888888888888888,\"#fdca26\"],[1.0,\"#f0f921\"]],\"type\":\"heatmap\"}],\"histogram2dcontour\":[{\"colorbar\":{\"outlinewidth\":0,\"ticks\":\"\"},\"colorscale\":[[0.0,\"#0d0887\"],[0.1111111111111111,\"#46039f\"],[0.2222222222222222,\"#7201a8\"],[0.3333333333333333,\"#9c179e\"],[0.4444444444444444,\"#bd3786\"],[0.5555555555555556,\"#d8576b\"],[0.6666666666666666,\"#ed7953\"],[0.7777777777777778,\"#fb9f3a\"],[0.8888888888888888,\"#fdca26\"],[1.0,\"#f0f921\"]],\"type\":\"histogram2dcontour\"}],\"histogram2d\":[{\"colorbar\":{\"outlinewidth\":0,\"ticks\":\"\"},\"colorscale\":[[0.0,\"#0d0887\"],[0.1111111111111111,\"#46039f\"],[0.2222222222222222,\"#7201a8\"],[0.3333333333333333,\"#9c179e\"],[0.4444444444444444,\"#bd3786\"],[0.5555555555555556,\"#d8576b\"],[0.6666666666666666,\"#ed7953\"],[0.7777777777777778,\"#fb9f3a\"],[0.8888888888888888,\"#fdca26\"],[1.0,\"#f0f921\"]],\"type\":\"histogram2d\"}],\"histogram\":[{\"marker\":{\"pattern\":{\"fillmode\":\"overlay\",\"size\":10,\"solidity\":0.2}},\"type\":\"histogram\"}],\"mesh3d\":[{\"colorbar\":{\"outlinewidth\":0,\"ticks\":\"\"},\"type\":\"mesh3d\"}],\"parcoords\":[{\"line\":{\"colorbar\":{\"outlinewidth\":0,\"ticks\":\"\"}},\"type\":\"parcoords\"}],\"pie\":[{\"automargin\":true,\"type\":\"pie\"}],\"scatter3d\":[{\"line\":{\"colorbar\":{\"outlinewidth\":0,\"ticks\":\"\"}},\"marker\":{\"colorbar\":{\"outlinewidth\":0,\"ticks\":\"\"}},\"type\":\"scatter3d\"}],\"scattercarpet\":[{\"marker\":{\"colorbar\":{\"outlinewidth\":0,\"ticks\":\"\"}},\"type\":\"scattercarpet\"}],\"scattergeo\":[{\"marker\":{\"colorbar\":{\"outlinewidth\":0,\"ticks\":\"\"}},\"type\":\"scattergeo\"}],\"scattergl\":[{\"marker\":{\"line\":{\"color\":\"#283442\"}},\"type\":\"scattergl\"}],\"scattermapbox\":[{\"marker\":{\"colorbar\":{\"outlinewidth\":0,\"ticks\":\"\"}},\"type\":\"scattermapbox\"}],\"scatterpolargl\":[{\"marker\":{\"colorbar\":{\"outlinewidth\":0,\"ticks\":\"\"}},\"type\":\"scatterpolargl\"}],\"scatterpolar\":[{\"marker\":{\"colorbar\":{\"outlinewidth\":0,\"ticks\":\"\"}},\"type\":\"scatterpolar\"}],\"scatter\":[{\"marker\":{\"line\":{\"color\":\"#283442\"}},\"type\":\"scatter\"}],\"scatterternary\":[{\"marker\":{\"colorbar\":{\"outlinewidth\":0,\"ticks\":\"\"}},\"type\":\"scatterternary\"}],\"surface\":[{\"colorbar\":{\"outlinewidth\":0,\"ticks\":\"\"},\"colorscale\":[[0.0,\"#0d0887\"],[0.1111111111111111,\"#46039f\"],[0.2222222222222222,\"#7201a8\"],[0.3333333333333333,\"#9c179e\"],[0.4444444444444444,\"#bd3786\"],[0.5555555555555556,\"#d8576b\"],[0.6666666666666666,\"#ed7953\"],[0.7777777777777778,\"#fb9f3a\"],[0.8888888888888888,\"#fdca26\"],[1.0,\"#f0f921\"]],\"type\":\"surface\"}],\"table\":[{\"cells\":{\"fill\":{\"color\":\"#506784\"},\"line\":{\"color\":\"rgb(17,17,17)\"}},\"header\":{\"fill\":{\"color\":\"#2a3f5f\"},\"line\":{\"color\":\"rgb(17,17,17)\"}},\"type\":\"table\"}]},\"layout\":{\"annotationdefaults\":{\"arrowcolor\":\"#f2f5fa\",\"arrowhead\":0,\"arrowwidth\":1},\"autotypenumbers\":\"strict\",\"coloraxis\":{\"colorbar\":{\"outlinewidth\":0,\"ticks\":\"\"}},\"colorscale\":{\"diverging\":[[0,\"#8e0152\"],[0.1,\"#c51b7d\"],[0.2,\"#de77ae\"],[0.3,\"#f1b6da\"],[0.4,\"#fde0ef\"],[0.5,\"#f7f7f7\"],[0.6,\"#e6f5d0\"],[0.7,\"#b8e186\"],[0.8,\"#7fbc41\"],[0.9,\"#4d9221\"],[1,\"#276419\"]],\"sequential\":[[0.0,\"#0d0887\"],[0.1111111111111111,\"#46039f\"],[0.2222222222222222,\"#7201a8\"],[0.3333333333333333,\"#9c179e\"],[0.4444444444444444,\"#bd3786\"],[0.5555555555555556,\"#d8576b\"],[0.6666666666666666,\"#ed7953\"],[0.7777777777777778,\"#fb9f3a\"],[0.8888888888888888,\"#fdca26\"],[1.0,\"#f0f921\"]],\"sequentialminus\":[[0.0,\"#0d0887\"],[0.1111111111111111,\"#46039f\"],[0.2222222222222222,\"#7201a8\"],[0.3333333333333333,\"#9c179e\"],[0.4444444444444444,\"#bd3786\"],[0.5555555555555556,\"#d8576b\"],[0.6666666666666666,\"#ed7953\"],[0.7777777777777778,\"#fb9f3a\"],[0.8888888888888888,\"#fdca26\"],[1.0,\"#f0f921\"]]},\"colorway\":[\"#636efa\",\"#EF553B\",\"#00cc96\",\"#ab63fa\",\"#FFA15A\",\"#19d3f3\",\"#FF6692\",\"#B6E880\",\"#FF97FF\",\"#FECB52\"],\"font\":{\"color\":\"#f2f5fa\"},\"geo\":{\"bgcolor\":\"rgb(17,17,17)\",\"lakecolor\":\"rgb(17,17,17)\",\"landcolor\":\"rgb(17,17,17)\",\"showlakes\":true,\"showland\":true,\"subunitcolor\":\"#506784\"},\"hoverlabel\":{\"align\":\"left\"},\"hovermode\":\"closest\",\"mapbox\":{\"style\":\"dark\"},\"paper_bgcolor\":\"rgb(17,17,17)\",\"plot_bgcolor\":\"rgb(17,17,17)\",\"polar\":{\"angularaxis\":{\"gridcolor\":\"#506784\",\"linecolor\":\"#506784\",\"ticks\":\"\"},\"bgcolor\":\"rgb(17,17,17)\",\"radialaxis\":{\"gridcolor\":\"#506784\",\"linecolor\":\"#506784\",\"ticks\":\"\"}},\"scene\":{\"xaxis\":{\"backgroundcolor\":\"rgb(17,17,17)\",\"gridcolor\":\"#506784\",\"gridwidth\":2,\"linecolor\":\"#506784\",\"showbackground\":true,\"ticks\":\"\",\"zerolinecolor\":\"#C8D4E3\"},\"yaxis\":{\"backgroundcolor\":\"rgb(17,17,17)\",\"gridcolor\":\"#506784\",\"gridwidth\":2,\"linecolor\":\"#506784\",\"showbackground\":true,\"ticks\":\"\",\"zerolinecolor\":\"#C8D4E3\"},\"zaxis\":{\"backgroundcolor\":\"rgb(17,17,17)\",\"gridcolor\":\"#506784\",\"gridwidth\":2,\"linecolor\":\"#506784\",\"showbackground\":true,\"ticks\":\"\",\"zerolinecolor\":\"#C8D4E3\"}},\"shapedefaults\":{\"line\":{\"color\":\"#f2f5fa\"}},\"sliderdefaults\":{\"bgcolor\":\"#C8D4E3\",\"bordercolor\":\"rgb(17,17,17)\",\"borderwidth\":1,\"tickwidth\":0},\"ternary\":{\"aaxis\":{\"gridcolor\":\"#506784\",\"linecolor\":\"#506784\",\"ticks\":\"\"},\"baxis\":{\"gridcolor\":\"#506784\",\"linecolor\":\"#506784\",\"ticks\":\"\"},\"bgcolor\":\"rgb(17,17,17)\",\"caxis\":{\"gridcolor\":\"#506784\",\"linecolor\":\"#506784\",\"ticks\":\"\"}},\"title\":{\"x\":0.05},\"updatemenudefaults\":{\"bgcolor\":\"#506784\",\"borderwidth\":0},\"xaxis\":{\"automargin\":true,\"gridcolor\":\"#283442\",\"linecolor\":\"#506784\",\"ticks\":\"\",\"title\":{\"standoff\":15},\"zerolinecolor\":\"#283442\",\"zerolinewidth\":2},\"yaxis\":{\"automargin\":true,\"gridcolor\":\"#283442\",\"linecolor\":\"#506784\",\"ticks\":\"\",\"title\":{\"standoff\":15},\"zerolinecolor\":\"#283442\",\"zerolinewidth\":2}}},\"xaxis\":{\"anchor\":\"y\",\"domain\":[0.0,0.39130434782608703]},\"yaxis\":{\"anchor\":\"x\",\"domain\":[0.8095238095238095,1.0]},\"xaxis2\":{\"anchor\":\"y2\",\"domain\":[0.491304347826087,1.0],\"title\":{\"text\":\"Budget (Million USD)\"}},\"yaxis2\":{\"anchor\":\"x2\",\"domain\":[0.8095238095238095,1.0],\"title\":{\"text\":\"Ratings\"}},\"xaxis3\":{\"anchor\":\"y3\",\"domain\":[0.0,0.39130434782608703],\"title\":{\"text\":\"Budget (Million USD)\"}},\"yaxis3\":{\"anchor\":\"x3\",\"domain\":[0.45238095238095244,0.6428571428571429],\"title\":{\"text\":\"Ratings\"}},\"xaxis4\":{\"anchor\":\"y4\",\"domain\":[0.491304347826087,1.0]},\"yaxis4\":{\"anchor\":\"x4\",\"domain\":[0.45238095238095244,0.6428571428571429]},\"geo\":{\"domain\":{\"x\":[0.491304347826087,1.0],\"y\":[0.0,0.28571428571428575]}},\"annotations\":[{\"font\":{\"size\":16},\"showarrow\":false,\"text\":\"High-Budget Anime\",\"x\":0.19565217391304351,\"xanchor\":\"center\",\"xref\":\"paper\",\"y\":1.0,\"yanchor\":\"bottom\",\"yref\":\"paper\"},{\"font\":{\"size\":16},\"showarrow\":false,\"text\":\"Budget vs Ratings\",\"x\":0.7456521739130435,\"xanchor\":\"center\",\"xref\":\"paper\",\"y\":1.0,\"yanchor\":\"bottom\",\"yref\":\"paper\"},{\"font\":{\"size\":16},\"showarrow\":false,\"text\":\"KDE Density: Ratings vs Budget\",\"x\":0.19565217391304351,\"xanchor\":\"center\",\"xref\":\"paper\",\"y\":0.6428571428571429,\"yanchor\":\"bottom\",\"yref\":\"paper\"},{\"font\":{\"size\":16},\"showarrow\":false,\"text\":\"Rating Boxplot by Genre\",\"x\":0.7456521739130435,\"xanchor\":\"center\",\"xref\":\"paper\",\"y\":0.6428571428571429,\"yanchor\":\"bottom\",\"yref\":\"paper\"},{\"font\":{\"size\":16},\"showarrow\":false,\"text\":\"Genre Distribution\",\"x\":0.19565217391304351,\"xanchor\":\"center\",\"xref\":\"paper\",\"y\":0.28571428571428575,\"yanchor\":\"bottom\",\"yref\":\"paper\"},{\"font\":{\"size\":16},\"showarrow\":false,\"text\":\"Most Popular Anime by Country\",\"x\":0.7456521739130435,\"xanchor\":\"center\",\"xref\":\"paper\",\"y\":0.28571428571428575,\"yanchor\":\"bottom\",\"yref\":\"paper\"}],\"title\":{\"font\":{\"size\":24},\"text\":\"Anime Data Dashboard\",\"x\":0.5,\"y\":0.98,\"xanchor\":\"center\",\"yanchor\":\"top\"},\"height\":1100,\"width\":1300,\"legend\":{\"x\":1.05,\"y\":0.5}},                        {\"responsive\": true}                    ).then(function(){\n",
       "                            \n",
       "var gd = document.getElementById('5ffff724-89fe-43dd-966c-bf4425ba91d4');\n",
       "var x = new MutationObserver(function (mutations, observer) {{\n",
       "        var display = window.getComputedStyle(gd).display;\n",
       "        if (!display || display === 'none') {{\n",
       "            console.log([gd, 'removed!']);\n",
       "            Plotly.purge(gd);\n",
       "            observer.disconnect();\n",
       "        }}\n",
       "}});\n",
       "\n",
       "// Listen for the removal of the full notebook cells\n",
       "var notebookContainer = gd.closest('#notebook-container');\n",
       "if (notebookContainer) {{\n",
       "    x.observe(notebookContainer, {childList: true});\n",
       "}}\n",
       "\n",
       "// Listen for the clearing of the current output cell\n",
       "var outputEl = gd.closest('.output');\n",
       "if (outputEl) {{\n",
       "    x.observe(outputEl, {childList: true});\n",
       "}}\n",
       "\n",
       "                        })                };                            </script>        </div>\n",
       "</body>\n",
       "</html>"
      ]
     },
     "metadata": {},
     "output_type": "display_data"
    }
   ],
   "source": [
    "from plotly.subplots import make_subplots\n",
    "import plotly.graph_objects as go\n",
    "\n",
    "fig = make_subplots(\n",
    "    rows=3, cols=2,\n",
    "    subplot_titles=[\n",
    "        \"High-Budget Anime\", \"Budget vs Ratings\",\n",
    "        \"KDE Density: Ratings vs Budget\", \"Rating Boxplot by Genre\",\n",
    "        \"Genre Distribution\", \"Most Popular Anime by Country\"\n",
    "    ],\n",
    "    specs=[\n",
    "        [{\"type\": \"bar\"}, {\"type\": \"scatter\"}],      \n",
    "        [{\"type\": \"contour\"}, {\"type\": \"box\"}],          \n",
    "        [{\"type\": \"pie\"}, {\"type\": \"choropleth\"}]  \n",
    "    ],\n",
    "    row_heights=[1, 1, 1.5],  # Increase height of the last row (Choropleth)\n",
    "    column_widths=[1, 1.3]  # Make Column 2 (Choropleth) slightly wider\n",
    ")\n",
    "\n",
    "# Add all traces correctly\n",
    "for trace in fig3.data:\n",
    "    trace.showlegend = False  # Hides the legend for High-Budget Anime\n",
    "    fig.add_trace(trace, row=1, col=1)  # High-Budget Anime\n",
    "for trace in fig6.data:\n",
    "    fig.add_trace(trace, row=1, col=2)  # Budget vs Ratings Scatter\n",
    "fig.add_trace(fig1.data[0], row=2, col=1)  # KDE Density\n",
    "for trace in fig5.data:\n",
    "    trace.showlegend = False\n",
    "    fig.add_trace(trace, row=2, col=2)  # Boxplot (Rating by Genre)=\n",
    "for trace in fig4.data:\n",
    "    trace.showlegend = False\n",
    "    fig.add_trace(fig4.data[0], row=3, col=1)# Genre Pie Chart\n",
    "for trace in fig7.data:\n",
    "    fig.add_trace(trace, row=3, col=2)  # Choropleth (Increased Size)\n",
    "\n",
    "# Add axis labels\n",
    "fig.update_xaxes(title_text=\"Budget (Million USD)\", row=1, col=2)\n",
    "fig.update_yaxes(title_text=\"Ratings\", row=1, col=2)\n",
    "\n",
    "fig.update_xaxes(title_text=\"Budget (Million USD)\", row=2, col=1)\n",
    "fig.update_yaxes(title_text=\"Ratings\", row=2, col=1)\n",
    "\n",
    "#fig.update_xaxes(title_text=\"Genre\", row=2, col=2)  # X-axis label for Rating Boxplot by Genre\n",
    "\n",
    "# Update Layout\n",
    "fig.update_layout(\n",
    "    title=dict(\n",
    "        text=\"Anime Data Dashboard\",  # Title text\n",
    "        x=0.5,  # Centers the title (0 is left, 1 is right)\n",
    "        y=0.98,  # Adjust vertical position if needed\n",
    "        xanchor='center',  \n",
    "        yanchor='top',  \n",
    "        font=dict(size=24)  # Increases title font size\n",
    "    ),\n",
    "    height=1100, width=1300,  # Increased height & width for better layout\n",
    "    template=\"plotly_dark\"\n",
    ")\n",
    "\n",
    "fig.update_layout(\n",
    "    legend=dict(\n",
    "        x=1.05,  # Moves legend further right\n",
    "        y=0.5,  # Moves legend down\n",
    "    )\n",
    ")\n",
    "\n",
    "fig.show()"
   ]
  }
 ],
 "metadata": {
  "kaggle": {
   "accelerator": "none",
   "dataSources": [
    {
     "datasetId": 6679030,
     "sourceId": 10766881,
     "sourceType": "datasetVersion"
    }
   ],
   "dockerImageVersionId": 30918,
   "isGpuEnabled": false,
   "isInternetEnabled": true,
   "language": "python",
   "sourceType": "notebook"
  },
  "kernelspec": {
   "display_name": "Python 3",
   "language": "python",
   "name": "python3"
  },
  "language_info": {
   "codemirror_mode": {
    "name": "ipython",
    "version": 3
   },
   "file_extension": ".py",
   "mimetype": "text/x-python",
   "name": "python",
   "nbconvert_exporter": "python",
   "pygments_lexer": "ipython3",
   "version": "3.10.12"
  },
  "papermill": {
   "default_parameters": {},
   "duration": 16.461969,
   "end_time": "2025-03-02T06:32:55.608899",
   "environment_variables": {},
   "exception": null,
   "input_path": "__notebook__.ipynb",
   "output_path": "__notebook__.ipynb",
   "parameters": {},
   "start_time": "2025-03-02T06:32:39.146930",
   "version": "2.6.0"
  }
 },
 "nbformat": 4,
 "nbformat_minor": 5
}
