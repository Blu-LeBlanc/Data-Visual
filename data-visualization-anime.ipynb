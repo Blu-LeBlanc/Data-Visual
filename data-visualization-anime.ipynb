{
 "cells": [
  {
   "cell_type": "code",
   "execution_count": 1,
   "id": "ffc22cef",
   "metadata": {
    "_cell_guid": "b1076dfc-b9ad-4769-8c92-a6c4dae69d19",
    "_uuid": "8f2839f25d086af736a60e9eeb907d3b93b6e0e5",
    "execution": {
     "iopub.execute_input": "2025-03-02T02:35:47.623129Z",
     "iopub.status.busy": "2025-03-02T02:35:47.622683Z",
     "iopub.status.idle": "2025-03-02T02:35:48.912763Z",
     "shell.execute_reply": "2025-03-02T02:35:48.911541Z"
    },
    "papermill": {
     "duration": 1.300242,
     "end_time": "2025-03-02T02:35:48.914502",
     "exception": false,
     "start_time": "2025-03-02T02:35:47.614260",
     "status": "completed"
    },
    "tags": []
   },
   "outputs": [
    {
     "name": "stdout",
     "output_type": "stream",
     "text": [
      "/kaggle/input/100-most-watched-anime-in-the-world/most_watched_anime_dataset_100_entries.csv\n"
     ]
    }
   ],
   "source": [
    "# This Python 3 environment comes with many helpful analytics libraries installed\n",
    "# It is defined by the kaggle/python Docker image: https://github.com/kaggle/docker-python\n",
    "# For example, here's several helpful packages to load\n",
    "\n",
    "import numpy as np # linear algebra\n",
    "import pandas as pd # data processing, CSV file I/O (e.g. pd.read_csv)\n",
    "\n",
    "# Input data files are available in the read-only \"../input/\" directory\n",
    "# For example, running this (by clicking run or pressing Shift+Enter) will list all files under the input directory\n",
    "\n",
    "import os\n",
    "for dirname, _, filenames in os.walk('/kaggle/input'):\n",
    "    for filename in filenames:\n",
    "        print(os.path.join(dirname, filename))\n",
    "\n",
    "# You can write up to 20GB to the current directory (/kaggle/working/) that gets preserved as output when you create a version using \"Save & Run All\" \n",
    "# You can also write temporary files to /kaggle/temp/, but they won't be saved outside of the current session"
   ]
  },
  {
   "cell_type": "code",
   "execution_count": 2,
   "id": "33fd6b12",
   "metadata": {
    "execution": {
     "iopub.execute_input": "2025-03-02T02:35:48.929433Z",
     "iopub.status.busy": "2025-03-02T02:35:48.928941Z",
     "iopub.status.idle": "2025-03-02T02:35:48.933067Z",
     "shell.execute_reply": "2025-03-02T02:35:48.932079Z"
    },
    "papermill": {
     "duration": 0.012994,
     "end_time": "2025-03-02T02:35:48.934598",
     "exception": false,
     "start_time": "2025-03-02T02:35:48.921604",
     "status": "completed"
    },
    "tags": []
   },
   "outputs": [],
   "source": [
    "import warnings\n",
    "warnings.filterwarnings(\"ignore\")"
   ]
  },
  {
   "cell_type": "markdown",
   "id": "63ee5afb",
   "metadata": {
    "papermill": {
     "duration": 0.005992,
     "end_time": "2025-03-02T02:35:48.947047",
     "exception": false,
     "start_time": "2025-03-02T02:35:48.941055",
     "status": "completed"
    },
    "tags": []
   },
   "source": [
    "I've found this dataset on kaggle with information on the most anime watched in the world. As an avid anime fan, I am curious which anime really are the most popular. In addition, I want to see if there are major differences in the most viewed anime in different countries. It will also be interesting to separate anime by categories to see which anime is the most popular in each genre.\n",
    "First I will load the dataset and clean up the data for visualizing."
   ]
  },
  {
   "cell_type": "code",
   "execution_count": 3,
   "id": "0dc02c08",
   "metadata": {
    "execution": {
     "iopub.execute_input": "2025-03-02T02:35:48.960825Z",
     "iopub.status.busy": "2025-03-02T02:35:48.960439Z",
     "iopub.status.idle": "2025-03-02T02:35:48.985705Z",
     "shell.execute_reply": "2025-03-02T02:35:48.984776Z"
    },
    "papermill": {
     "duration": 0.034225,
     "end_time": "2025-03-02T02:35:48.987558",
     "exception": false,
     "start_time": "2025-03-02T02:35:48.953333",
     "status": "completed"
    },
    "tags": []
   },
   "outputs": [],
   "source": [
    "df = pd.read_csv(\"/kaggle/input/100-most-watched-anime-in-the-world/most_watched_anime_dataset_100_entries.csv\")"
   ]
  },
  {
   "cell_type": "code",
   "execution_count": 4,
   "id": "27c7eb44",
   "metadata": {
    "execution": {
     "iopub.execute_input": "2025-03-02T02:35:49.001699Z",
     "iopub.status.busy": "2025-03-02T02:35:49.001402Z",
     "iopub.status.idle": "2025-03-02T02:35:49.034684Z",
     "shell.execute_reply": "2025-03-02T02:35:49.033696Z"
    },
    "papermill": {
     "duration": 0.04197,
     "end_time": "2025-03-02T02:35:49.036249",
     "exception": false,
     "start_time": "2025-03-02T02:35:48.994279",
     "status": "completed"
    },
    "tags": []
   },
   "outputs": [
    {
     "data": {
      "text/html": [
       "<div>\n",
       "<style scoped>\n",
       "    .dataframe tbody tr th:only-of-type {\n",
       "        vertical-align: middle;\n",
       "    }\n",
       "\n",
       "    .dataframe tbody tr th {\n",
       "        vertical-align: top;\n",
       "    }\n",
       "\n",
       "    .dataframe thead th {\n",
       "        text-align: right;\n",
       "    }\n",
       "</style>\n",
       "<table border=\"1\" class=\"dataframe\">\n",
       "  <thead>\n",
       "    <tr style=\"text-align: right;\">\n",
       "      <th></th>\n",
       "      <th>Anime Name</th>\n",
       "      <th>Most Watched in Country</th>\n",
       "      <th>Ratings</th>\n",
       "      <th>Number of Episodes</th>\n",
       "      <th>Animation Studio Name</th>\n",
       "      <th>Budget (in Million USD)</th>\n",
       "      <th>Release Year</th>\n",
       "      <th>Genre</th>\n",
       "      <th>Duration per Episode (minutes)</th>\n",
       "    </tr>\n",
       "  </thead>\n",
       "  <tbody>\n",
       "    <tr>\n",
       "      <th>0</th>\n",
       "      <td>Fullmetal Alchemist</td>\n",
       "      <td>Brazil</td>\n",
       "      <td>8.8</td>\n",
       "      <td>317.0</td>\n",
       "      <td>Ufotable</td>\n",
       "      <td>80.61</td>\n",
       "      <td>1998.0</td>\n",
       "      <td>Fantasy</td>\n",
       "      <td>NaN</td>\n",
       "    </tr>\n",
       "    <tr>\n",
       "      <th>1</th>\n",
       "      <td>Haikyuu!!</td>\n",
       "      <td>Mexico</td>\n",
       "      <td>9.2</td>\n",
       "      <td>420.0</td>\n",
       "      <td>MAPPA</td>\n",
       "      <td>74.99</td>\n",
       "      <td>2022.0</td>\n",
       "      <td>Adventure</td>\n",
       "      <td>59.0</td>\n",
       "    </tr>\n",
       "    <tr>\n",
       "      <th>2</th>\n",
       "      <td>NaN</td>\n",
       "      <td>South Korea</td>\n",
       "      <td>7.4</td>\n",
       "      <td>419.0</td>\n",
       "      <td>A-1 Pictures</td>\n",
       "      <td>59.05</td>\n",
       "      <td>2009.0</td>\n",
       "      <td>Mystery</td>\n",
       "      <td>56.0</td>\n",
       "    </tr>\n",
       "    <tr>\n",
       "      <th>3</th>\n",
       "      <td>Bleach</td>\n",
       "      <td>Brazil</td>\n",
       "      <td>6.4</td>\n",
       "      <td>NaN</td>\n",
       "      <td>Ufotable</td>\n",
       "      <td>45.35</td>\n",
       "      <td>2002.0</td>\n",
       "      <td>Fantasy</td>\n",
       "      <td>55.0</td>\n",
       "    </tr>\n",
       "    <tr>\n",
       "      <th>4</th>\n",
       "      <td>Sword Art Online</td>\n",
       "      <td>NaN</td>\n",
       "      <td>9.8</td>\n",
       "      <td>327.0</td>\n",
       "      <td>Madhouse</td>\n",
       "      <td>15.90</td>\n",
       "      <td>2017.0</td>\n",
       "      <td>NaN</td>\n",
       "      <td>43.0</td>\n",
       "    </tr>\n",
       "  </tbody>\n",
       "</table>\n",
       "</div>"
      ],
      "text/plain": [
       "            Anime Name Most Watched in Country  Ratings  Number of Episodes  \\\n",
       "0  Fullmetal Alchemist                  Brazil      8.8               317.0   \n",
       "1            Haikyuu!!                  Mexico      9.2               420.0   \n",
       "2                  NaN             South Korea      7.4               419.0   \n",
       "3               Bleach                  Brazil      6.4                 NaN   \n",
       "4     Sword Art Online                     NaN      9.8               327.0   \n",
       "\n",
       "  Animation Studio Name  Budget (in Million USD)  Release Year      Genre  \\\n",
       "0              Ufotable                    80.61        1998.0    Fantasy   \n",
       "1                 MAPPA                    74.99        2022.0  Adventure   \n",
       "2          A-1 Pictures                    59.05        2009.0    Mystery   \n",
       "3              Ufotable                    45.35        2002.0    Fantasy   \n",
       "4              Madhouse                    15.90        2017.0        NaN   \n",
       "\n",
       "   Duration per Episode (minutes)  \n",
       "0                             NaN  \n",
       "1                            59.0  \n",
       "2                            56.0  \n",
       "3                            55.0  \n",
       "4                            43.0  "
      ]
     },
     "execution_count": 4,
     "metadata": {},
     "output_type": "execute_result"
    }
   ],
   "source": [
    " df.head()"
   ]
  },
  {
   "cell_type": "markdown",
   "id": "0df45c9d",
   "metadata": {
    "papermill": {
     "duration": 0.006505,
     "end_time": "2025-03-02T02:35:49.049513",
     "exception": false,
     "start_time": "2025-03-02T02:35:49.043008",
     "status": "completed"
    },
    "tags": []
   },
   "source": [
    "I want to focus primarily on ratings"
   ]
  },
  {
   "cell_type": "code",
   "execution_count": 5,
   "id": "532e942b",
   "metadata": {
    "execution": {
     "iopub.execute_input": "2025-03-02T02:35:49.063739Z",
     "iopub.status.busy": "2025-03-02T02:35:49.063425Z",
     "iopub.status.idle": "2025-03-02T02:35:49.074963Z",
     "shell.execute_reply": "2025-03-02T02:35:49.074145Z"
    },
    "papermill": {
     "duration": 0.020437,
     "end_time": "2025-03-02T02:35:49.076454",
     "exception": false,
     "start_time": "2025-03-02T02:35:49.056017",
     "status": "completed"
    },
    "tags": []
   },
   "outputs": [
    {
     "data": {
      "text/plain": [
       "Anime Name                        10\n",
       "Most Watched in Country           10\n",
       "Ratings                           10\n",
       "Number of Episodes                10\n",
       "Animation Studio Name             10\n",
       "Budget (in Million USD)           10\n",
       "Release Year                      10\n",
       "Genre                             10\n",
       "Duration per Episode (minutes)    10\n",
       "dtype: int64"
      ]
     },
     "execution_count": 5,
     "metadata": {},
     "output_type": "execute_result"
    }
   ],
   "source": [
    "df.isnull().sum()"
   ]
  },
  {
   "cell_type": "code",
   "execution_count": 6,
   "id": "d2397e88",
   "metadata": {
    "execution": {
     "iopub.execute_input": "2025-03-02T02:35:49.090770Z",
     "iopub.status.busy": "2025-03-02T02:35:49.090471Z",
     "iopub.status.idle": "2025-03-02T02:35:49.106432Z",
     "shell.execute_reply": "2025-03-02T02:35:49.105566Z"
    },
    "papermill": {
     "duration": 0.024718,
     "end_time": "2025-03-02T02:35:49.107881",
     "exception": false,
     "start_time": "2025-03-02T02:35:49.083163",
     "status": "completed"
    },
    "tags": []
   },
   "outputs": [],
   "source": [
    "df.dropna(inplace=True)"
   ]
  },
  {
   "cell_type": "code",
   "execution_count": 7,
   "id": "71199f0a",
   "metadata": {
    "execution": {
     "iopub.execute_input": "2025-03-02T02:35:49.123136Z",
     "iopub.status.busy": "2025-03-02T02:35:49.122846Z",
     "iopub.status.idle": "2025-03-02T02:35:49.127944Z",
     "shell.execute_reply": "2025-03-02T02:35:49.126987Z"
    },
    "papermill": {
     "duration": 0.014692,
     "end_time": "2025-03-02T02:35:49.129522",
     "exception": false,
     "start_time": "2025-03-02T02:35:49.114830",
     "status": "completed"
    },
    "tags": []
   },
   "outputs": [
    {
     "data": {
      "text/plain": [
       "(41, 9)"
      ]
     },
     "execution_count": 7,
     "metadata": {},
     "output_type": "execute_result"
    }
   ],
   "source": [
    "df.shape"
   ]
  },
  {
   "cell_type": "code",
   "execution_count": 8,
   "id": "d02ad460",
   "metadata": {
    "execution": {
     "iopub.execute_input": "2025-03-02T02:35:49.144360Z",
     "iopub.status.busy": "2025-03-02T02:35:49.144022Z",
     "iopub.status.idle": "2025-03-02T02:35:49.177050Z",
     "shell.execute_reply": "2025-03-02T02:35:49.175936Z"
    },
    "papermill": {
     "duration": 0.042183,
     "end_time": "2025-03-02T02:35:49.178646",
     "exception": false,
     "start_time": "2025-03-02T02:35:49.136463",
     "status": "completed"
    },
    "tags": []
   },
   "outputs": [
    {
     "name": "stdout",
     "output_type": "stream",
     "text": [
      "<class 'pandas.core.frame.DataFrame'>\n",
      "Index: 41 entries, 1 to 99\n",
      "Data columns (total 9 columns):\n",
      " #   Column                          Non-Null Count  Dtype  \n",
      "---  ------                          --------------  -----  \n",
      " 0   Anime Name                      41 non-null     object \n",
      " 1   Most Watched in Country         41 non-null     object \n",
      " 2   Ratings                         41 non-null     float64\n",
      " 3   Number of Episodes              41 non-null     float64\n",
      " 4   Animation Studio Name           41 non-null     object \n",
      " 5   Budget (in Million USD)         41 non-null     float64\n",
      " 6   Release Year                    41 non-null     float64\n",
      " 7   Genre                           41 non-null     object \n",
      " 8   Duration per Episode (minutes)  41 non-null     float64\n",
      "dtypes: float64(5), object(4)\n",
      "memory usage: 3.2+ KB\n"
     ]
    }
   ],
   "source": [
    "df.info()"
   ]
  },
  {
   "cell_type": "code",
   "execution_count": 9,
   "id": "61ec26c4",
   "metadata": {
    "execution": {
     "iopub.execute_input": "2025-03-02T02:35:49.193664Z",
     "iopub.status.busy": "2025-03-02T02:35:49.193366Z",
     "iopub.status.idle": "2025-03-02T02:35:49.217442Z",
     "shell.execute_reply": "2025-03-02T02:35:49.216451Z"
    },
    "papermill": {
     "duration": 0.033465,
     "end_time": "2025-03-02T02:35:49.219103",
     "exception": false,
     "start_time": "2025-03-02T02:35:49.185638",
     "status": "completed"
    },
    "tags": []
   },
   "outputs": [
    {
     "data": {
      "text/html": [
       "<div>\n",
       "<style scoped>\n",
       "    .dataframe tbody tr th:only-of-type {\n",
       "        vertical-align: middle;\n",
       "    }\n",
       "\n",
       "    .dataframe tbody tr th {\n",
       "        vertical-align: top;\n",
       "    }\n",
       "\n",
       "    .dataframe thead th {\n",
       "        text-align: right;\n",
       "    }\n",
       "</style>\n",
       "<table border=\"1\" class=\"dataframe\">\n",
       "  <thead>\n",
       "    <tr style=\"text-align: right;\">\n",
       "      <th></th>\n",
       "      <th>Ratings</th>\n",
       "      <th>Number of Episodes</th>\n",
       "      <th>Budget (in Million USD)</th>\n",
       "      <th>Release Year</th>\n",
       "      <th>Duration per Episode (minutes)</th>\n",
       "    </tr>\n",
       "  </thead>\n",
       "  <tbody>\n",
       "    <tr>\n",
       "      <th>count</th>\n",
       "      <td>41.000000</td>\n",
       "      <td>41.000000</td>\n",
       "      <td>41.000000</td>\n",
       "      <td>41.000000</td>\n",
       "      <td>41.000000</td>\n",
       "    </tr>\n",
       "    <tr>\n",
       "      <th>mean</th>\n",
       "      <td>8.158537</td>\n",
       "      <td>252.902439</td>\n",
       "      <td>73.957317</td>\n",
       "      <td>2004.292683</td>\n",
       "      <td>38.146341</td>\n",
       "    </tr>\n",
       "    <tr>\n",
       "      <th>std</th>\n",
       "      <td>1.174729</td>\n",
       "      <td>149.605950</td>\n",
       "      <td>44.068149</td>\n",
       "      <td>9.935401</td>\n",
       "      <td>11.332610</td>\n",
       "    </tr>\n",
       "    <tr>\n",
       "      <th>min</th>\n",
       "      <td>6.300000</td>\n",
       "      <td>12.000000</td>\n",
       "      <td>5.820000</td>\n",
       "      <td>1990.000000</td>\n",
       "      <td>21.000000</td>\n",
       "    </tr>\n",
       "    <tr>\n",
       "      <th>25%</th>\n",
       "      <td>7.100000</td>\n",
       "      <td>114.000000</td>\n",
       "      <td>44.880000</td>\n",
       "      <td>1995.000000</td>\n",
       "      <td>30.000000</td>\n",
       "    </tr>\n",
       "    <tr>\n",
       "      <th>50%</th>\n",
       "      <td>8.100000</td>\n",
       "      <td>250.000000</td>\n",
       "      <td>61.380000</td>\n",
       "      <td>2002.000000</td>\n",
       "      <td>37.000000</td>\n",
       "    </tr>\n",
       "    <tr>\n",
       "      <th>75%</th>\n",
       "      <td>9.400000</td>\n",
       "      <td>381.000000</td>\n",
       "      <td>110.820000</td>\n",
       "      <td>2013.000000</td>\n",
       "      <td>45.000000</td>\n",
       "    </tr>\n",
       "    <tr>\n",
       "      <th>max</th>\n",
       "      <td>9.900000</td>\n",
       "      <td>491.000000</td>\n",
       "      <td>149.390000</td>\n",
       "      <td>2022.000000</td>\n",
       "      <td>59.000000</td>\n",
       "    </tr>\n",
       "  </tbody>\n",
       "</table>\n",
       "</div>"
      ],
      "text/plain": [
       "         Ratings  Number of Episodes  Budget (in Million USD)  Release Year  \\\n",
       "count  41.000000           41.000000                41.000000     41.000000   \n",
       "mean    8.158537          252.902439                73.957317   2004.292683   \n",
       "std     1.174729          149.605950                44.068149      9.935401   \n",
       "min     6.300000           12.000000                 5.820000   1990.000000   \n",
       "25%     7.100000          114.000000                44.880000   1995.000000   \n",
       "50%     8.100000          250.000000                61.380000   2002.000000   \n",
       "75%     9.400000          381.000000               110.820000   2013.000000   \n",
       "max     9.900000          491.000000               149.390000   2022.000000   \n",
       "\n",
       "       Duration per Episode (minutes)  \n",
       "count                       41.000000  \n",
       "mean                        38.146341  \n",
       "std                         11.332610  \n",
       "min                         21.000000  \n",
       "25%                         30.000000  \n",
       "50%                         37.000000  \n",
       "75%                         45.000000  \n",
       "max                         59.000000  "
      ]
     },
     "execution_count": 9,
     "metadata": {},
     "output_type": "execute_result"
    }
   ],
   "source": [
    "df.describe()"
   ]
  },
  {
   "cell_type": "markdown",
   "id": "11270048",
   "metadata": {
    "papermill": {
     "duration": 0.008848,
     "end_time": "2025-03-02T02:35:49.235250",
     "exception": false,
     "start_time": "2025-03-02T02:35:49.226402",
     "status": "completed"
    },
    "tags": []
   },
   "source": [
    "We need to install altair and load the necessary libraries for altering the data and creating visualizations"
   ]
  },
  {
   "cell_type": "code",
   "execution_count": 10,
   "id": "2c67bbbe",
   "metadata": {
    "execution": {
     "iopub.execute_input": "2025-03-02T02:35:49.250703Z",
     "iopub.status.busy": "2025-03-02T02:35:49.250378Z",
     "iopub.status.idle": "2025-03-02T02:35:56.720236Z",
     "shell.execute_reply": "2025-03-02T02:35:56.718815Z"
    },
    "papermill": {
     "duration": 7.47956,
     "end_time": "2025-03-02T02:35:56.722032",
     "exception": false,
     "start_time": "2025-03-02T02:35:49.242472",
     "status": "completed"
    },
    "tags": []
   },
   "outputs": [
    {
     "name": "stdout",
     "output_type": "stream",
     "text": [
      "Requirement already satisfied: altair in /usr/local/lib/python3.10/dist-packages (5.5.0)\r\n",
      "\u001b[31mERROR: Could not find a version that satisfies the requirement upgrade (from versions: none)\u001b[0m\u001b[31m\r\n",
      "\u001b[0m\u001b[31mERROR: No matching distribution found for upgrade\u001b[0m\u001b[31m\r\n",
      "\u001b[0mRequirement already satisfied: vega_datasets in /usr/local/lib/python3.10/dist-packages (0.9.0)\r\n",
      "Requirement already satisfied: pandas in /usr/local/lib/python3.10/dist-packages (from vega_datasets) (2.2.3)\r\n",
      "Requirement already satisfied: numpy>=1.22.4 in /usr/local/lib/python3.10/dist-packages (from pandas->vega_datasets) (1.26.4)\r\n",
      "Requirement already satisfied: python-dateutil>=2.8.2 in /usr/local/lib/python3.10/dist-packages (from pandas->vega_datasets) (2.9.0.post0)\r\n",
      "Requirement already satisfied: pytz>=2020.1 in /usr/local/lib/python3.10/dist-packages (from pandas->vega_datasets) (2025.1)\r\n",
      "Requirement already satisfied: tzdata>=2022.7 in /usr/local/lib/python3.10/dist-packages (from pandas->vega_datasets) (2025.1)\r\n",
      "Requirement already satisfied: mkl_fft in /usr/local/lib/python3.10/dist-packages (from numpy>=1.22.4->pandas->vega_datasets) (1.3.8)\r\n",
      "Requirement already satisfied: mkl_random in /usr/local/lib/python3.10/dist-packages (from numpy>=1.22.4->pandas->vega_datasets) (1.2.4)\r\n",
      "Requirement already satisfied: mkl_umath in /usr/local/lib/python3.10/dist-packages (from numpy>=1.22.4->pandas->vega_datasets) (0.1.1)\r\n",
      "Requirement already satisfied: mkl in /usr/local/lib/python3.10/dist-packages (from numpy>=1.22.4->pandas->vega_datasets) (2025.0.1)\r\n",
      "Requirement already satisfied: tbb4py in /usr/local/lib/python3.10/dist-packages (from numpy>=1.22.4->pandas->vega_datasets) (2022.0.0)\r\n",
      "Requirement already satisfied: mkl-service in /usr/local/lib/python3.10/dist-packages (from numpy>=1.22.4->pandas->vega_datasets) (2.4.1)\r\n",
      "Requirement already satisfied: six>=1.5 in /usr/local/lib/python3.10/dist-packages (from python-dateutil>=2.8.2->pandas->vega_datasets) (1.17.0)\r\n",
      "Requirement already satisfied: intel-openmp>=2024 in /usr/local/lib/python3.10/dist-packages (from mkl->numpy>=1.22.4->pandas->vega_datasets) (2024.2.0)\r\n",
      "Requirement already satisfied: tbb==2022.* in /usr/local/lib/python3.10/dist-packages (from mkl->numpy>=1.22.4->pandas->vega_datasets) (2022.0.0)\r\n",
      "Requirement already satisfied: tcmlib==1.* in /usr/local/lib/python3.10/dist-packages (from tbb==2022.*->mkl->numpy>=1.22.4->pandas->vega_datasets) (1.2.0)\r\n",
      "Requirement already satisfied: intel-cmplr-lib-rt in /usr/local/lib/python3.10/dist-packages (from mkl_umath->numpy>=1.22.4->pandas->vega_datasets) (2024.2.0)\r\n",
      "Requirement already satisfied: intel-cmplr-lib-ur==2024.2.0 in /usr/local/lib/python3.10/dist-packages (from intel-openmp>=2024->mkl->numpy>=1.22.4->pandas->vega_datasets) (2024.2.0)\r\n"
     ]
    }
   ],
   "source": [
    "!pip install altair -- upgrade\n",
    "!pip install vega_datasets"
   ]
  },
  {
   "cell_type": "code",
   "execution_count": 11,
   "id": "1b5427f8",
   "metadata": {
    "execution": {
     "iopub.execute_input": "2025-03-02T02:35:56.738906Z",
     "iopub.status.busy": "2025-03-02T02:35:56.738573Z",
     "iopub.status.idle": "2025-03-02T02:36:00.223142Z",
     "shell.execute_reply": "2025-03-02T02:36:00.222068Z"
    },
    "papermill": {
     "duration": 3.495518,
     "end_time": "2025-03-02T02:36:00.225521",
     "exception": false,
     "start_time": "2025-03-02T02:35:56.730003",
     "status": "completed"
    },
    "tags": []
   },
   "outputs": [],
   "source": [
    "import pandas as pd\n",
    "import seaborn as sns\n",
    "import matplotlib.pyplot as plt\n",
    "import plotly.express as px\n",
    "import altair as alt"
   ]
  },
  {
   "cell_type": "code",
   "execution_count": 12,
   "id": "2dc5bd87",
   "metadata": {
    "execution": {
     "iopub.execute_input": "2025-03-02T02:36:00.249410Z",
     "iopub.status.busy": "2025-03-02T02:36:00.248598Z",
     "iopub.status.idle": "2025-03-02T02:36:00.256456Z",
     "shell.execute_reply": "2025-03-02T02:36:00.255440Z"
    },
    "papermill": {
     "duration": 0.018688,
     "end_time": "2025-03-02T02:36:00.258549",
     "exception": false,
     "start_time": "2025-03-02T02:36:00.239861",
     "status": "completed"
    },
    "tags": []
   },
   "outputs": [
    {
     "data": {
      "text/plain": [
       "(20,)"
      ]
     },
     "execution_count": 12,
     "metadata": {},
     "output_type": "execute_result"
    }
   ],
   "source": [
    "df['Anime Name'].unique().shape"
   ]
  },
  {
   "cell_type": "code",
   "execution_count": 13,
   "id": "da8e671d",
   "metadata": {
    "execution": {
     "iopub.execute_input": "2025-03-02T02:36:00.276758Z",
     "iopub.status.busy": "2025-03-02T02:36:00.276386Z",
     "iopub.status.idle": "2025-03-02T02:36:07.708081Z",
     "shell.execute_reply": "2025-03-02T02:36:07.706555Z"
    },
    "papermill": {
     "duration": 7.442156,
     "end_time": "2025-03-02T02:36:07.710216",
     "exception": false,
     "start_time": "2025-03-02T02:36:00.268060",
     "status": "completed"
    },
    "tags": []
   },
   "outputs": [
    {
     "name": "stdout",
     "output_type": "stream",
     "text": [
      "Collecting kaleido\r\n",
      "  Downloading kaleido-0.2.1-py2.py3-none-manylinux1_x86_64.whl.metadata (15 kB)\r\n",
      "Downloading kaleido-0.2.1-py2.py3-none-manylinux1_x86_64.whl (79.9 MB)\r\n",
      "\u001b[2K   \u001b[90m━━━━━━━━━━━━━━━━━━━━━━━━━━━━━━━━━━━━━━━━\u001b[0m \u001b[32m79.9/79.9 MB\u001b[0m \u001b[31m21.3 MB/s\u001b[0m eta \u001b[36m0:00:00\u001b[0m\r\n",
      "\u001b[?25hInstalling collected packages: kaleido\r\n",
      "Successfully installed kaleido-0.2.1\r\n",
      "Note: you may need to restart the kernel to use updated packages.\n"
     ]
    }
   ],
   "source": [
    " pip install -U kaleido"
   ]
  },
  {
   "cell_type": "markdown",
   "id": "8d899e0a",
   "metadata": {
    "papermill": {
     "duration": 0.008423,
     "end_time": "2025-03-02T02:36:07.727849",
     "exception": false,
     "start_time": "2025-03-02T02:36:07.719426",
     "status": "completed"
    },
    "tags": []
   },
   "source": [
    "Let's create a visualization to view the number of episodes in each anime. I will use a bar chart to easily compare the anime to eachother"
   ]
  },
  {
   "cell_type": "code",
   "execution_count": 14,
   "id": "a04cc5f3",
   "metadata": {
    "execution": {
     "iopub.execute_input": "2025-03-02T02:36:07.746422Z",
     "iopub.status.busy": "2025-03-02T02:36:07.746025Z",
     "iopub.status.idle": "2025-03-02T02:36:07.886470Z",
     "shell.execute_reply": "2025-03-02T02:36:07.885421Z"
    },
    "papermill": {
     "duration": 0.151835,
     "end_time": "2025-03-02T02:36:07.888376",
     "exception": false,
     "start_time": "2025-03-02T02:36:07.736541",
     "status": "completed"
    },
    "tags": []
   },
   "outputs": [
    {
     "data": {
      "text/html": [
       "\n",
       "<style>\n",
       "  #altair-viz-9a47e5b9c15c4b24a277efa08d998bda.vega-embed {\n",
       "    width: 100%;\n",
       "    display: flex;\n",
       "  }\n",
       "\n",
       "  #altair-viz-9a47e5b9c15c4b24a277efa08d998bda.vega-embed details,\n",
       "  #altair-viz-9a47e5b9c15c4b24a277efa08d998bda.vega-embed details summary {\n",
       "    position: relative;\n",
       "  }\n",
       "</style>\n",
       "<div id=\"altair-viz-9a47e5b9c15c4b24a277efa08d998bda\"></div>\n",
       "<script type=\"text/javascript\">\n",
       "  var VEGA_DEBUG = (typeof VEGA_DEBUG == \"undefined\") ? {} : VEGA_DEBUG;\n",
       "  (function(spec, embedOpt){\n",
       "    let outputDiv = document.currentScript.previousElementSibling;\n",
       "    if (outputDiv.id !== \"altair-viz-9a47e5b9c15c4b24a277efa08d998bda\") {\n",
       "      outputDiv = document.getElementById(\"altair-viz-9a47e5b9c15c4b24a277efa08d998bda\");\n",
       "    }\n",
       "\n",
       "    const paths = {\n",
       "      \"vega\": \"https://cdn.jsdelivr.net/npm/vega@5?noext\",\n",
       "      \"vega-lib\": \"https://cdn.jsdelivr.net/npm/vega-lib?noext\",\n",
       "      \"vega-lite\": \"https://cdn.jsdelivr.net/npm/vega-lite@5.20.1?noext\",\n",
       "      \"vega-embed\": \"https://cdn.jsdelivr.net/npm/vega-embed@6?noext\",\n",
       "    };\n",
       "\n",
       "    function maybeLoadScript(lib, version) {\n",
       "      var key = `${lib.replace(\"-\", \"\")}_version`;\n",
       "      return (VEGA_DEBUG[key] == version) ?\n",
       "        Promise.resolve(paths[lib]) :\n",
       "        new Promise(function(resolve, reject) {\n",
       "          var s = document.createElement('script');\n",
       "          document.getElementsByTagName(\"head\")[0].appendChild(s);\n",
       "          s.async = true;\n",
       "          s.onload = () => {\n",
       "            VEGA_DEBUG[key] = version;\n",
       "            return resolve(paths[lib]);\n",
       "          };\n",
       "          s.onerror = () => reject(`Error loading script: ${paths[lib]}`);\n",
       "          s.src = paths[lib];\n",
       "        });\n",
       "    }\n",
       "\n",
       "    function showError(err) {\n",
       "      outputDiv.innerHTML = `<div class=\"error\" style=\"color:red;\">${err}</div>`;\n",
       "      throw err;\n",
       "    }\n",
       "\n",
       "    function displayChart(vegaEmbed) {\n",
       "      vegaEmbed(outputDiv, spec, embedOpt)\n",
       "        .catch(err => showError(`Javascript Error: ${err.message}<br>This usually means there's a typo in your chart specification. See the javascript console for the full traceback.`));\n",
       "    }\n",
       "\n",
       "    if(typeof define === \"function\" && define.amd) {\n",
       "      requirejs.config({paths});\n",
       "      let deps = [\"vega-embed\"];\n",
       "      require(deps, displayChart, err => showError(`Error loading script: ${err.message}`));\n",
       "    } else {\n",
       "      maybeLoadScript(\"vega\", \"5\")\n",
       "        .then(() => maybeLoadScript(\"vega-lite\", \"5.20.1\"))\n",
       "        .then(() => maybeLoadScript(\"vega-embed\", \"6\"))\n",
       "        .catch(showError)\n",
       "        .then(() => displayChart(vegaEmbed));\n",
       "    }\n",
       "  })({\"config\": {\"view\": {\"continuousWidth\": 300, \"continuousHeight\": 300, \"strokeWidth\": 0}, \"axis\": {\"labelFontSize\": 12, \"titleFontSize\": 14}, \"title\": {\"fontSize\": 16}}, \"layer\": [{\"mark\": {\"type\": \"bar\"}, \"encoding\": {\"color\": {\"field\": \"Number of Episodes\", \"scale\": {\"scheme\": \"blues\"}, \"type\": \"quantitative\"}, \"opacity\": {\"condition\": {\"param\": \"param_1\", \"value\": 1.0, \"empty\": false}, \"value\": 0.6}, \"tooltip\": [{\"field\": \"Anime Name\", \"type\": \"nominal\"}, {\"field\": \"Number of Episodes\", \"type\": \"quantitative\"}], \"x\": {\"field\": \"Number of Episodes\", \"title\": \"Number of Episodes\", \"type\": \"quantitative\"}, \"y\": {\"field\": \"Anime Name\", \"sort\": \"-x\", \"title\": \"Anime Name\", \"type\": \"nominal\"}}, \"name\": \"view_1\", \"title\": \"Number of Episodes per Anime\"}, {\"mark\": {\"type\": \"text\", \"align\": \"left\", \"baseline\": \"middle\", \"dx\": 3}, \"encoding\": {\"color\": {\"field\": \"Number of Episodes\", \"scale\": {\"scheme\": \"blues\"}, \"type\": \"quantitative\"}, \"opacity\": {\"condition\": {\"param\": \"param_1\", \"value\": 1.0, \"empty\": false}, \"value\": 0.6}, \"text\": {\"field\": \"Number of Episodes\", \"type\": \"quantitative\"}, \"tooltip\": [{\"field\": \"Anime Name\", \"type\": \"nominal\"}, {\"field\": \"Number of Episodes\", \"type\": \"quantitative\"}], \"x\": {\"field\": \"Number of Episodes\", \"title\": \"Number of Episodes\", \"type\": \"quantitative\"}, \"y\": {\"field\": \"Anime Name\", \"sort\": \"-x\", \"title\": \"Anime Name\", \"type\": \"nominal\"}}, \"title\": \"Number of Episodes per Anime\"}], \"data\": {\"name\": \"data-587fe1c26b39239f7efe395015024056\"}, \"height\": 820, \"params\": [{\"name\": \"param_1\", \"select\": {\"type\": \"point\", \"fields\": [\"Anime Name\"], \"on\": \"mouseover\"}, \"views\": [\"view_1\"]}], \"width\": 600, \"$schema\": \"https://vega.github.io/schema/vega-lite/v5.20.1.json\", \"datasets\": {\"data-587fe1c26b39239f7efe395015024056\": [{\"Anime Name\": \"Haikyuu!!\", \"Most Watched in Country\": \"Mexico\", \"Ratings\": 9.2, \"Number of Episodes\": 420.0, \"Animation Studio Name\": \"MAPPA\", \"Budget (in Million USD)\": 74.99, \"Release Year\": 2022.0, \"Genre\": \"Adventure\", \"Duration per Episode (minutes)\": 59.0}, {\"Anime Name\": \"Bleach\", \"Most Watched in Country\": \"China\", \"Ratings\": 9.4, \"Number of Episodes\": 47.0, \"Animation Studio Name\": \"MAPPA\", \"Budget (in Million USD)\": 127.22, \"Release Year\": 1995.0, \"Genre\": \"Adventure\", \"Duration per Episode (minutes)\": 21.0}, {\"Anime Name\": \"Tokyo Ghoul\", \"Most Watched in Country\": \"United Kingdom\", \"Ratings\": 6.9, \"Number of Episodes\": 153.0, \"Animation Studio Name\": \"MAPPA\", \"Budget (in Million USD)\": 13.41, \"Release Year\": 2019.0, \"Genre\": \"Comedy\", \"Duration per Episode (minutes)\": 25.0}, {\"Anime Name\": \"Naruto\", \"Most Watched in Country\": \"China\", \"Ratings\": 8.1, \"Number of Episodes\": 482.0, \"Animation Studio Name\": \"MAPPA\", \"Budget (in Million USD)\": 83.5, \"Release Year\": 1990.0, \"Genre\": \"Adventure\", \"Duration per Episode (minutes)\": 21.0}, {\"Anime Name\": \"Tokyo Ghoul\", \"Most Watched in Country\": \"Australia\", \"Ratings\": 7.0, \"Number of Episodes\": 154.0, \"Animation Studio Name\": \"Ufotable\", \"Budget (in Million USD)\": 32.7, \"Release Year\": 2007.0, \"Genre\": \"Action\", \"Duration per Episode (minutes)\": 34.0}, {\"Anime Name\": \"Mob Psycho 100\", \"Most Watched in Country\": \"Thailand\", \"Ratings\": 9.9, \"Number of Episodes\": 365.0, \"Animation Studio Name\": \"Studio Ghibli\", \"Budget (in Million USD)\": 117.41, \"Release Year\": 2000.0, \"Genre\": \"Thriller\", \"Duration per Episode (minutes)\": 27.0}, {\"Anime Name\": \"Neon Genesis Evangelion\", \"Most Watched in Country\": \"Argentina\", \"Ratings\": 6.8, \"Number of Episodes\": 226.0, \"Animation Studio Name\": \"Trigger\", \"Budget (in Million USD)\": 146.16, \"Release Year\": 2014.0, \"Genre\": \"Thriller\", \"Duration per Episode (minutes)\": 25.0}, {\"Anime Name\": \"Neon Genesis Evangelion\", \"Most Watched in Country\": \"India\", \"Ratings\": 7.1, \"Number of Episodes\": 458.0, \"Animation Studio Name\": \"Trigger\", \"Budget (in Million USD)\": 149.39, \"Release Year\": 2011.0, \"Genre\": \"Supernatural\", \"Duration per Episode (minutes)\": 45.0}, {\"Anime Name\": \"Tokyo Ghoul\", \"Most Watched in Country\": \"United Kingdom\", \"Ratings\": 9.4, \"Number of Episodes\": 62.0, \"Animation Studio Name\": \"MAPPA\", \"Budget (in Million USD)\": 110.82, \"Release Year\": 2002.0, \"Genre\": \"Action\", \"Duration per Episode (minutes)\": 38.0}, {\"Anime Name\": \"My Hero Academia\", \"Most Watched in Country\": \"Russia\", \"Ratings\": 9.6, \"Number of Episodes\": 74.0, \"Animation Studio Name\": \"Bones\", \"Budget (in Million USD)\": 145.33, \"Release Year\": 2010.0, \"Genre\": \"Action\", \"Duration per Episode (minutes)\": 39.0}, {\"Anime Name\": \"Black Clover\", \"Most Watched in Country\": \"India\", \"Ratings\": 9.4, \"Number of Episodes\": 201.0, \"Animation Studio Name\": \"Trigger\", \"Budget (in Million USD)\": 103.52, \"Release Year\": 1995.0, \"Genre\": \"Psychological\", \"Duration per Episode (minutes)\": 31.0}, {\"Anime Name\": \"Death Note\", \"Most Watched in Country\": \"United Kingdom\", \"Ratings\": 9.1, \"Number of Episodes\": 161.0, \"Animation Studio Name\": \"Madhouse\", \"Budget (in Million USD)\": 130.16, \"Release Year\": 2006.0, \"Genre\": \"Fantasy\", \"Duration per Episode (minutes)\": 45.0}, {\"Anime Name\": \"Re:Zero\", \"Most Watched in Country\": \"United States\", \"Ratings\": 8.3, \"Number of Episodes\": 69.0, \"Animation Studio Name\": \"Studio Ghibli\", \"Budget (in Million USD)\": 64.49, \"Release Year\": 2020.0, \"Genre\": \"Psychological\", \"Duration per Episode (minutes)\": 57.0}, {\"Anime Name\": \"Demon Slayer\", \"Most Watched in Country\": \"Australia\", \"Ratings\": 7.5, \"Number of Episodes\": 353.0, \"Animation Studio Name\": \"Wit Studio\", \"Budget (in Million USD)\": 34.16, \"Release Year\": 1994.0, \"Genre\": \"Supernatural\", \"Duration per Episode (minutes)\": 56.0}, {\"Anime Name\": \"Fairy Tail\", \"Most Watched in Country\": \"Italy\", \"Ratings\": 9.8, \"Number of Episodes\": 316.0, \"Animation Studio Name\": \"MAPPA\", \"Budget (in Million USD)\": 60.1, \"Release Year\": 1992.0, \"Genre\": \"Mystery\", \"Duration per Episode (minutes)\": 30.0}, {\"Anime Name\": \"One Piece\", \"Most Watched in Country\": \"Italy\", \"Ratings\": 6.7, \"Number of Episodes\": 64.0, \"Animation Studio Name\": \"Studio Ghibli\", \"Budget (in Million USD)\": 89.19, \"Release Year\": 2002.0, \"Genre\": \"Adventure\", \"Duration per Episode (minutes)\": 21.0}, {\"Anime Name\": \"Fairy Tail\", \"Most Watched in Country\": \"Canada\", \"Ratings\": 7.5, \"Number of Episodes\": 71.0, \"Animation Studio Name\": \"Studio Ghibli\", \"Budget (in Million USD)\": 53.18, \"Release Year\": 1993.0, \"Genre\": \"Mystery\", \"Duration per Episode (minutes)\": 32.0}, {\"Anime Name\": \"Re:Zero\", \"Most Watched in Country\": \"Germany\", \"Ratings\": 7.2, \"Number of Episodes\": 114.0, \"Animation Studio Name\": \"Madhouse\", \"Budget (in Million USD)\": 57.32, \"Release Year\": 2017.0, \"Genre\": \"Fantasy\", \"Duration per Episode (minutes)\": 39.0}, {\"Anime Name\": \"Attack on Titan\", \"Most Watched in Country\": \"France\", \"Ratings\": 8.5, \"Number of Episodes\": 376.0, \"Animation Studio Name\": \"Wit Studio\", \"Budget (in Million USD)\": 50.21, \"Release Year\": 2015.0, \"Genre\": \"Comedy\", \"Duration per Episode (minutes)\": 28.0}, {\"Anime Name\": \"Dragon Ball Z\", \"Most Watched in Country\": \"Japan\", \"Ratings\": 7.0, \"Number of Episodes\": 491.0, \"Animation Studio Name\": \"Trigger\", \"Budget (in Million USD)\": 65.73, \"Release Year\": 1992.0, \"Genre\": \"Mystery\", \"Duration per Episode (minutes)\": 36.0}, {\"Anime Name\": \"Demon Slayer\", \"Most Watched in Country\": \"Australia\", \"Ratings\": 9.9, \"Number of Episodes\": 361.0, \"Animation Studio Name\": \"Madhouse\", \"Budget (in Million USD)\": 61.38, \"Release Year\": 1990.0, \"Genre\": \"Thriller\", \"Duration per Episode (minutes)\": 30.0}, {\"Anime Name\": \"Spirited Away\", \"Most Watched in Country\": \"Argentina\", \"Ratings\": 7.4, \"Number of Episodes\": 435.0, \"Animation Studio Name\": \"Studio Ghibli\", \"Budget (in Million USD)\": 123.6, \"Release Year\": 2006.0, \"Genre\": \"Mystery\", \"Duration per Episode (minutes)\": 54.0}, {\"Anime Name\": \"Neon Genesis Evangelion\", \"Most Watched in Country\": \"Mexico\", \"Ratings\": 6.9, \"Number of Episodes\": 381.0, \"Animation Studio Name\": \"Trigger\", \"Budget (in Million USD)\": 60.63, \"Release Year\": 2003.0, \"Genre\": \"Thriller\", \"Duration per Episode (minutes)\": 33.0}, {\"Anime Name\": \"Fairy Tail\", \"Most Watched in Country\": \"United States\", \"Ratings\": 8.3, \"Number of Episodes\": 117.0, \"Animation Studio Name\": \"Toei Animation\", \"Budget (in Million USD)\": 13.35, \"Release Year\": 2000.0, \"Genre\": \"Mystery\", \"Duration per Episode (minutes)\": 28.0}, {\"Anime Name\": \"Hunter x Hunter\", \"Most Watched in Country\": \"Malaysia\", \"Ratings\": 9.5, \"Number of Episodes\": 286.0, \"Animation Studio Name\": \"MAPPA\", \"Budget (in Million USD)\": 49.08, \"Release Year\": 2013.0, \"Genre\": \"Adventure\", \"Duration per Episode (minutes)\": 59.0}, {\"Anime Name\": \"Neon Genesis Evangelion\", \"Most Watched in Country\": \"United States\", \"Ratings\": 9.8, \"Number of Episodes\": 69.0, \"Animation Studio Name\": \"Wit Studio\", \"Budget (in Million USD)\": 138.77, \"Release Year\": 2019.0, \"Genre\": \"Psychological\", \"Duration per Episode (minutes)\": 48.0}, {\"Anime Name\": \"Hunter x Hunter\", \"Most Watched in Country\": \"France\", \"Ratings\": 7.3, \"Number of Episodes\": 450.0, \"Animation Studio Name\": \"Bones\", \"Budget (in Million USD)\": 137.95, \"Release Year\": 2006.0, \"Genre\": \"Action\", \"Duration per Episode (minutes)\": 27.0}, {\"Anime Name\": \"Fullmetal Alchemist\", \"Most Watched in Country\": \"Japan\", \"Ratings\": 8.3, \"Number of Episodes\": 240.0, \"Animation Studio Name\": \"MAPPA\", \"Budget (in Million USD)\": 104.62, \"Release Year\": 2018.0, \"Genre\": \"Mystery\", \"Duration per Episode (minutes)\": 56.0}, {\"Anime Name\": \"Death Note\", \"Most Watched in Country\": \"Thailand\", \"Ratings\": 9.9, \"Number of Episodes\": 485.0, \"Animation Studio Name\": \"Pierrot\", \"Budget (in Million USD)\": 12.24, \"Release Year\": 1993.0, \"Genre\": \"Thriller\", \"Duration per Episode (minutes)\": 33.0}, {\"Anime Name\": \"Naruto\", \"Most Watched in Country\": \"United States\", \"Ratings\": 6.3, \"Number of Episodes\": 128.0, \"Animation Studio Name\": \"Bones\", \"Budget (in Million USD)\": 25.77, \"Release Year\": 1999.0, \"Genre\": \"Comedy\", \"Duration per Episode (minutes)\": 49.0}, {\"Anime Name\": \"Sword Art Online\", \"Most Watched in Country\": \"Germany\", \"Ratings\": 6.8, \"Number of Episodes\": 290.0, \"Animation Studio Name\": \"MAPPA\", \"Budget (in Million USD)\": 44.88, \"Release Year\": 1999.0, \"Genre\": \"Drama\", \"Duration per Episode (minutes)\": 40.0}, {\"Anime Name\": \"Black Clover\", \"Most Watched in Country\": \"Russia\", \"Ratings\": 7.9, \"Number of Episodes\": 404.0, \"Animation Studio Name\": \"Wit Studio\", \"Budget (in Million USD)\": 104.84, \"Release Year\": 2009.0, \"Genre\": \"Adventure\", \"Duration per Episode (minutes)\": 24.0}, {\"Anime Name\": \"Mob Psycho 100\", \"Most Watched in Country\": \"Malaysia\", \"Ratings\": 7.5, \"Number of Episodes\": 407.0, \"Animation Studio Name\": \"Madhouse\", \"Budget (in Million USD)\": 58.25, \"Release Year\": 2013.0, \"Genre\": \"Psychological\", \"Duration per Episode (minutes)\": 38.0}, {\"Anime Name\": \"One Piece\", \"Most Watched in Country\": \"France\", \"Ratings\": 9.4, \"Number of Episodes\": 69.0, \"Animation Studio Name\": \"Madhouse\", \"Budget (in Million USD)\": 137.37, \"Release Year\": 1995.0, \"Genre\": \"Comedy\", \"Duration per Episode (minutes)\": 45.0}, {\"Anime Name\": \"Naruto\", \"Most Watched in Country\": \"United States\", \"Ratings\": 6.3, \"Number of Episodes\": 12.0, \"Animation Studio Name\": \"Toei Animation\", \"Budget (in Million USD)\": 9.62, \"Release Year\": 2002.0, \"Genre\": \"Action\", \"Duration per Episode (minutes)\": 44.0}, {\"Anime Name\": \"My Hero Academia\", \"Most Watched in Country\": \"Germany\", \"Ratings\": 6.8, \"Number of Episodes\": 250.0, \"Animation Studio Name\": \"Studio Ghibli\", \"Budget (in Million USD)\": 59.78, \"Release Year\": 2000.0, \"Genre\": \"Comedy\", \"Duration per Episode (minutes)\": 44.0}, {\"Anime Name\": \"Spirited Away\", \"Most Watched in Country\": \"Russia\", \"Ratings\": 8.7, \"Number of Episodes\": 301.0, \"Animation Studio Name\": \"Ufotable\", \"Budget (in Million USD)\": 16.91, \"Release Year\": 2012.0, \"Genre\": \"Supernatural\", \"Duration per Episode (minutes)\": 37.0}, {\"Anime Name\": \"Sword Art Online\", \"Most Watched in Country\": \"Germany\", \"Ratings\": 9.4, \"Number of Episodes\": 100.0, \"Animation Studio Name\": \"Ufotable\", \"Budget (in Million USD)\": 35.18, \"Release Year\": 1997.0, \"Genre\": \"Drama\", \"Duration per Episode (minutes)\": 33.0}, {\"Anime Name\": \"Attack on Titan\", \"Most Watched in Country\": \"Brazil\", \"Ratings\": 8.8, \"Number of Episodes\": 248.0, \"Animation Studio Name\": \"Pierrot\", \"Budget (in Million USD)\": 54.69, \"Release Year\": 1993.0, \"Genre\": \"Sci-Fi\", \"Duration per Episode (minutes)\": 57.0}, {\"Anime Name\": \"Jujutsu Kaisen\", \"Most Watched in Country\": \"India\", \"Ratings\": 7.2, \"Number of Episodes\": 396.0, \"Animation Studio Name\": \"Pierrot\", \"Budget (in Million USD)\": 68.53, \"Release Year\": 1992.0, \"Genre\": \"Sci-Fi\", \"Duration per Episode (minutes)\": 42.0}, {\"Anime Name\": \"My Hero Academia\", \"Most Watched in Country\": \"Thailand\", \"Ratings\": 7.7, \"Number of Episodes\": 283.0, \"Animation Studio Name\": \"Studio Ghibli\", \"Budget (in Million USD)\": 5.82, \"Release Year\": 2021.0, \"Genre\": \"Fantasy\", \"Duration per Episode (minutes)\": 34.0}]}}, {\"mode\": \"vega-lite\"});\n",
       "</script>"
      ],
      "text/plain": [
       "alt.LayerChart(...)"
      ]
     },
     "execution_count": 14,
     "metadata": {},
     "output_type": "execute_result"
    }
   ],
   "source": [
    "#interactive\n",
    "hover = alt.selection_single(\n",
    "    on = 'mouseover',\n",
    "    fields = ['Anime Name'],\n",
    "    empty = 'none'\n",
    ")\n",
    "\n",
    "# Create the main chart with hover selection\n",
    "chart = alt.Chart(df).mark_bar().encode(\n",
    "    y = alt.Y('Anime Name:N', sort='-x', title='Anime Name'),\n",
    "    x = alt.X('Number of Episodes:Q', title='Number of Episodes'),\n",
    "    color = alt.Color('Number of Episodes:Q', scale=alt.Scale(scheme='blues')),\n",
    "    opacity = alt.condition(hover, alt.value(1.0), alt.value(0.6)),\n",
    "    tooltip = ['Anime Name', 'Number of Episodes']\n",
    ").properties(\n",
    "    title = 'Number of Episodes per Anime',\n",
    "    width = 600,\n",
    "    height = 20 * len(df)  # Dynamic height based on number of anime\n",
    ").add_selection(\n",
    "    hover\n",
    ")\n",
    "\n",
    "# Add text labels\n",
    "text = chart.mark_text(\n",
    "    align = 'left',\n",
    "    baseline = 'middle',\n",
    "    dx = 3  # Slight offset from the end of the bar\n",
    ").encode(\n",
    "    text = 'Number of Episodes:Q'\n",
    ")\n",
    "\n",
    "# Combine chart and text\n",
    "final_chart = (chart + text).configure_view(\n",
    "    strokeWidth = 0\n",
    ").configure_axis(\n",
    "    labelFontSize = 12,\n",
    "    titleFontSize = 14\n",
    ").configure_title(\n",
    "    fontSize = 16\n",
    ")\n",
    "\n",
    "# Display the chart\n",
    "final_chart"
   ]
  },
  {
   "cell_type": "markdown",
   "id": "2beb2df6",
   "metadata": {
    "papermill": {
     "duration": 0.008942,
     "end_time": "2025-03-02T02:36:07.906885",
     "exception": false,
     "start_time": "2025-03-02T02:36:07.897943",
     "status": "completed"
    },
    "tags": []
   },
   "source": [
    "Comparing budget and rating"
   ]
  },
  {
   "cell_type": "code",
   "execution_count": 15,
   "id": "f3b61471",
   "metadata": {
    "execution": {
     "iopub.execute_input": "2025-03-02T02:36:07.926626Z",
     "iopub.status.busy": "2025-03-02T02:36:07.926236Z",
     "iopub.status.idle": "2025-03-02T02:36:12.333070Z",
     "shell.execute_reply": "2025-03-02T02:36:12.332206Z"
    },
    "papermill": {
     "duration": 4.418884,
     "end_time": "2025-03-02T02:36:12.334942",
     "exception": false,
     "start_time": "2025-03-02T02:36:07.916058",
     "status": "completed"
    },
    "tags": []
   },
   "outputs": [
    {
     "data": {
      "text/html": [
       "<iframe\n",
       "    scrolling=\"no\"\n",
       "    width=\"100%\"\n",
       "    height=\"545px\"\n",
       "    src=\"iframe_figures/figure_15.html\"\n",
       "    frameborder=\"0\"\n",
       "    allowfullscreen\n",
       "></iframe>\n"
      ]
     },
     "metadata": {},
     "output_type": "display_data"
    }
   ],
   "source": [
    "fig = px.density_contour(df, x=\"Ratings\", y=\"Budget (in Million USD)\", \n",
    "                         title=\"📈 KDE Density Plot: Ratings vs Budget\")\n",
    "\n",
    "fig.update_layout(\n",
    "    xaxis_title=\"Ratings\",\n",
    "    yaxis_title=\"Budget (Million USD)\",\n",
    "    template=\"plotly_dark\"\n",
    ")\n",
    "\n",
    "fig.show(renderer = \"iframe\")\n",
    "fig.write_image(\"plotly_chart.png\")"
   ]
  },
  {
   "cell_type": "markdown",
   "id": "522014d5",
   "metadata": {
    "papermill": {
     "duration": 0.010683,
     "end_time": "2025-03-02T02:36:12.358681",
     "exception": false,
     "start_time": "2025-03-02T02:36:12.347998",
     "status": "completed"
    },
    "tags": []
   },
   "source": [
    "Decided to focus on ratings for anime. Create a scatter matrix to compare ratings to other values"
   ]
  },
  {
   "cell_type": "code",
   "execution_count": 16,
   "id": "86b3bf80",
   "metadata": {
    "execution": {
     "iopub.execute_input": "2025-03-02T02:36:12.388461Z",
     "iopub.status.busy": "2025-03-02T02:36:12.387996Z",
     "iopub.status.idle": "2025-03-02T02:36:14.130064Z",
     "shell.execute_reply": "2025-03-02T02:36:14.129017Z"
    },
    "papermill": {
     "duration": 1.761399,
     "end_time": "2025-03-02T02:36:14.132107",
     "exception": false,
     "start_time": "2025-03-02T02:36:12.370708",
     "status": "completed"
    },
    "tags": []
   },
   "outputs": [
    {
     "data": {
      "text/html": [
       "<iframe\n",
       "    scrolling=\"no\"\n",
       "    width=\"920px\"\n",
       "    height=\"920\"\n",
       "    src=\"iframe_figures/figure_16.html\"\n",
       "    frameborder=\"0\"\n",
       "    allowfullscreen\n",
       "></iframe>\n"
      ]
     },
     "metadata": {},
     "output_type": "display_data"
    }
   ],
   "source": [
    "fig = px.scatter_matrix(df, \n",
    "                        dimensions=['Ratings','Number of Episodes', 'Budget (in Million USD)', 'Release Year'],\n",
    "                        color='Ratings',  \n",
    "                        title=\"📊 Pairplot of Anime Dataset\",\n",
    "                        template=\"plotly_dark\")\n",
    "\n",
    "fig.update_layout(\n",
    "    font=dict(size=12),\n",
    "    width=900, height=900\n",
    ")\n",
    "\n",
    "fig.show(renderer = \"iframe\")\n",
    "fig.write_image(\"plotly_chart.png\")"
   ]
  },
  {
   "cell_type": "markdown",
   "id": "d15ad564",
   "metadata": {
    "papermill": {
     "duration": 0.00911,
     "end_time": "2025-03-02T02:36:14.157147",
     "exception": false,
     "start_time": "2025-03-02T02:36:14.148037",
     "status": "completed"
    },
    "tags": []
   },
   "source": [
    "Create a basic Vis that allows you to select an anime name and display information about it"
   ]
  },
  {
   "cell_type": "code",
   "execution_count": 17,
   "id": "e098a741",
   "metadata": {
    "execution": {
     "iopub.execute_input": "2025-03-02T02:36:14.177265Z",
     "iopub.status.busy": "2025-03-02T02:36:14.176810Z",
     "iopub.status.idle": "2025-03-02T02:36:14.199854Z",
     "shell.execute_reply": "2025-03-02T02:36:14.198755Z"
    },
    "papermill": {
     "duration": 0.03524,
     "end_time": "2025-03-02T02:36:14.201703",
     "exception": false,
     "start_time": "2025-03-02T02:36:14.166463",
     "status": "completed"
    },
    "tags": []
   },
   "outputs": [
    {
     "data": {
      "application/vnd.jupyter.widget-view+json": {
       "model_id": "80ced1084e8a4e2ba1b200f8193b3936",
       "version_major": 2,
       "version_minor": 0
      },
      "text/plain": [
       "Dropdown(description='Anime:', options=('Haikyuu!!', 'Bleach', 'Tokyo Ghoul', 'Naruto', 'Mob Psycho 100', 'Neo…"
      ]
     },
     "metadata": {},
     "output_type": "display_data"
    },
    {
     "data": {
      "application/vnd.jupyter.widget-view+json": {
       "model_id": "80b15f2a4807407e910ebe0f7891c921",
       "version_major": 2,
       "version_minor": 0
      },
      "text/plain": [
       "Output()"
      ]
     },
     "metadata": {},
     "output_type": "display_data"
    }
   ],
   "source": [
    "import plotly.graph_objects as go\n",
    "import ipywidgets as widgets\n",
    "from IPython.display import display\n",
    "\n",
    "# Assuming df is already loaded\n",
    "anime_dropdown = widgets.Dropdown(\n",
    "    options=df['Anime Name'].unique(),\n",
    "    description='Anime:',\n",
    "    disabled=False\n",
    ")\n",
    "\n",
    "output = widgets.Output()\n",
    "\n",
    "def update_graph(change):\n",
    "    with output:\n",
    "        output.clear_output()\n",
    "        selected_anime = anime_dropdown.value\n",
    "        if not selected_anime:\n",
    "            display(\"Select an Anime to Display\")\n",
    "            return\n",
    "        \n",
    "        filtered_df = df[df['Anime Name'] == selected_anime]\n",
    "        \n",
    "        # Define categories and values\n",
    "        categories = [\"Ratings\", \"Budget (in Million USD)\", \"Number of Episodes\", \"Duration per Episode (minutes)\"]\n",
    "        values = [\n",
    "            filtered_df.iloc[0]['Ratings'],\n",
    "            filtered_df.iloc[0]['Budget (in Million USD)'],\n",
    "            filtered_df.iloc[0]['Number of Episodes'],\n",
    "            filtered_df.iloc[0]['Duration per Episode (minutes)']\n",
    "        ]\n",
    "        \n",
    "        # Radar chart requires values to be circular\n",
    "        values.append(values[0])\n",
    "        categories.append(categories[0])\n",
    "        \n",
    "        fig = go.Figure()\n",
    "        fig.add_trace(go.Scatterpolar(\n",
    "            r=values,\n",
    "            theta=categories,\n",
    "            fill='toself',\n",
    "            name=selected_anime\n",
    "        ))\n",
    "        \n",
    "        fig.update_layout(\n",
    "            polar=dict(radialaxis=dict(visible=True)),\n",
    "            title=f'Radar Chart: {selected_anime}'\n",
    "        )\n",
    "        \n",
    "        fig.show()\n",
    "\n",
    "anime_dropdown.observe(update_graph, names='value')\n",
    "\n",
    "display(anime_dropdown, output)\n",
    "\n"
   ]
  },
  {
   "cell_type": "code",
   "execution_count": 18,
   "id": "53bade03",
   "metadata": {
    "execution": {
     "iopub.execute_input": "2025-03-02T02:36:14.222315Z",
     "iopub.status.busy": "2025-03-02T02:36:14.221866Z",
     "iopub.status.idle": "2025-03-02T02:36:14.242091Z",
     "shell.execute_reply": "2025-03-02T02:36:14.241018Z"
    },
    "papermill": {
     "duration": 0.032392,
     "end_time": "2025-03-02T02:36:14.243832",
     "exception": false,
     "start_time": "2025-03-02T02:36:14.211440",
     "status": "completed"
    },
    "tags": []
   },
   "outputs": [
    {
     "data": {
      "application/vnd.jupyter.widget-view+json": {
       "model_id": "7355cd521223420fbbfba374133da06f",
       "version_major": 2,
       "version_minor": 0
      },
      "text/plain": [
       "Dropdown(description='Anime:', options=('Haikyuu!!', 'Bleach', 'Tokyo Ghoul', 'Naruto', 'Mob Psycho 100', 'Neo…"
      ]
     },
     "metadata": {},
     "output_type": "display_data"
    },
    {
     "data": {
      "application/vnd.jupyter.widget-view+json": {
       "model_id": "1dfd787951204856b4a6d53af11f631e",
       "version_major": 2,
       "version_minor": 0
      },
      "text/plain": [
       "Output()"
      ]
     },
     "metadata": {},
     "output_type": "display_data"
    }
   ],
   "source": [
    "import plotly.graph_objects as go\n",
    "import ipywidgets as widgets\n",
    "from IPython.display import display\n",
    "\n",
    "# Assuming df is already loaded\n",
    "anime_dropdown = widgets.Dropdown(\n",
    "    options=df['Anime Name'].unique(),\n",
    "    description='Anime:',\n",
    "    disabled=False\n",
    ")\n",
    "\n",
    "output = widgets.Output()\n",
    "\n",
    "def update_table(change):\n",
    "    with output:\n",
    "        output.clear_output()\n",
    "        selected_anime = anime_dropdown.value\n",
    "        if not selected_anime:\n",
    "            display(\"Select an Anime to Display\")\n",
    "            return\n",
    "        \n",
    "        filtered_df = df[df['Anime Name'] == selected_anime]\n",
    "\n",
    "        # Extract anime details\n",
    "        categories = [\"Ratings\", \"Budget (in Million USD)\", \"Number of Episodes\", \"Duration per Episode (minutes)\"]\n",
    "        values = [\n",
    "            filtered_df.iloc[0]['Ratings'],\n",
    "            filtered_df.iloc[0]['Budget (in Million USD)'],\n",
    "            filtered_df.iloc[0]['Number of Episodes'],\n",
    "            filtered_df.iloc[0]['Duration per Episode (minutes)']\n",
    "        ]\n",
    "\n",
    "        # Create a table\n",
    "        fig = go.Figure(data=[go.Table(\n",
    "            header=dict(values=[\"Category\", \"Value\"],\n",
    "                        fill_color=\"lightblue\",\n",
    "                        align=\"left\"),\n",
    "            cells=dict(values=[categories, values],\n",
    "                       fill_color=\"black\",\n",
    "                       align=\"left\")\n",
    "        )])\n",
    "\n",
    "        fig.update_layout(title=f\"📋 Details for {selected_anime}\")\n",
    "\n",
    "        fig.show()\n",
    "\n",
    "anime_dropdown.observe(update_table, names='value')\n",
    "\n",
    "display(anime_dropdown, output)"
   ]
  },
  {
   "cell_type": "markdown",
   "id": "782b04d3",
   "metadata": {
    "papermill": {
     "duration": 0.009621,
     "end_time": "2025-03-02T02:36:14.263979",
     "exception": false,
     "start_time": "2025-03-02T02:36:14.254358",
     "status": "completed"
    },
    "tags": []
   },
   "source": [
    "Let's look at the highest budget anime"
   ]
  },
  {
   "cell_type": "code",
   "execution_count": 19,
   "id": "a34af57e",
   "metadata": {
    "execution": {
     "iopub.execute_input": "2025-03-02T02:36:14.284698Z",
     "iopub.status.busy": "2025-03-02T02:36:14.284370Z",
     "iopub.status.idle": "2025-03-02T02:36:14.670297Z",
     "shell.execute_reply": "2025-03-02T02:36:14.669276Z"
    },
    "papermill": {
     "duration": 0.398573,
     "end_time": "2025-03-02T02:36:14.672292",
     "exception": false,
     "start_time": "2025-03-02T02:36:14.273719",
     "status": "completed"
    },
    "tags": []
   },
   "outputs": [
    {
     "data": {
      "text/html": [
       "<iframe\n",
       "    scrolling=\"no\"\n",
       "    width=\"100%\"\n",
       "    height=\"545px\"\n",
       "    src=\"iframe_figures/figure_19.html\"\n",
       "    frameborder=\"0\"\n",
       "    allowfullscreen\n",
       "></iframe>\n"
      ]
     },
     "metadata": {},
     "output_type": "display_data"
    }
   ],
   "source": [
    "df1 = df.loc[df.groupby(\"Anime Name\")[\"Budget (in Million USD)\"].idxmax()]\n",
    "df1 = df1[df1[\"Budget (in Million USD)\"] > 50].sort_values(by=\"Budget (in Million USD)\", ascending=False).head(5)\n",
    "\n",
    "fig = px.bar(df1, x=\"Anime Name\", y=\"Budget (in Million USD)\", \n",
    "             title=\"Most High-Budget Anime\",\n",
    "             text=\"Budget (in Million USD)\",  \n",
    "             color=\"Anime Name\",  \n",
    "             color_discrete_sequence=px.colors.qualitative.Set1,\n",
    "             hover_data={\"Ratings\": True, \"Anime Name\": False, \"Budget (in Million USD)\": False}  # Show only Ratings\n",
    "            )  \n",
    "\n",
    "fig.update_traces(texttemplate='%{text:.1f}M', textposition=\"outside\")\n",
    "\n",
    "fig.update_layout(\n",
    "    xaxis_title=\"Anime Name\",\n",
    "    yaxis_title=\"Budget (Million USD)\",\n",
    "    font=dict(size=13),\n",
    "    template=\"plotly_dark\", \n",
    "    xaxis_tickangle=-15  \n",
    ")\n",
    "\n",
    "fig.show(renderer=\"iframe\")\n",
    "fig.write_image(\"plotly_chart.png\")"
   ]
  },
  {
   "cell_type": "markdown",
   "id": "ca66fc39",
   "metadata": {
    "papermill": {
     "duration": 0.009919,
     "end_time": "2025-03-02T02:36:14.692288",
     "exception": false,
     "start_time": "2025-03-02T02:36:14.682369",
     "status": "completed"
    },
    "tags": []
   },
   "source": [
    "Pie Chart"
   ]
  },
  {
   "cell_type": "code",
   "execution_count": 20,
   "id": "c83b7b41",
   "metadata": {
    "execution": {
     "iopub.execute_input": "2025-03-02T02:36:14.713590Z",
     "iopub.status.busy": "2025-03-02T02:36:14.713247Z",
     "iopub.status.idle": "2025-03-02T02:36:14.947425Z",
     "shell.execute_reply": "2025-03-02T02:36:14.946300Z"
    },
    "papermill": {
     "duration": 0.246608,
     "end_time": "2025-03-02T02:36:14.949240",
     "exception": false,
     "start_time": "2025-03-02T02:36:14.702632",
     "status": "completed"
    },
    "tags": []
   },
   "outputs": [
    {
     "data": {
      "text/html": [
       "<iframe\n",
       "    scrolling=\"no\"\n",
       "    width=\"100%\"\n",
       "    height=\"545px\"\n",
       "    src=\"iframe_figures/figure_20.html\"\n",
       "    frameborder=\"0\"\n",
       "    allowfullscreen\n",
       "></iframe>\n"
      ]
     },
     "metadata": {},
     "output_type": "display_data"
    }
   ],
   "source": [
    "fig = px.pie(df, names=\"Genre\", \n",
    "             title=\"Genre Distribution of Anime\",\n",
    "             color_discrete_sequence=px.colors.qualitative.Set2, \n",
    "             hole=0.3)  \n",
    "\n",
    "fig.update_traces(textinfo=\"percent+label\", \n",
    "                  pull=[0.05 if i == df['Genre'].value_counts().idxmax() else 0 for i in df['Genre'].unique()],  # Pops out the most common genre\n",
    "                  marker=dict(line=dict(color='black', width=1)))  \n",
    "\n",
    "fig.update_layout(\n",
    "    showlegend=True,\n",
    "    font=dict(size=13),\n",
    "    template=\"plotly_dark\"  \n",
    ")\n",
    "\n",
    "fig.show(renderer = \"iframe\")\n",
    "fig.write_image(\"plotly_chart.png\")"
   ]
  },
  {
   "cell_type": "code",
   "execution_count": 21,
   "id": "7ef5a7ab",
   "metadata": {
    "execution": {
     "iopub.execute_input": "2025-03-02T02:36:14.972049Z",
     "iopub.status.busy": "2025-03-02T02:36:14.971593Z",
     "iopub.status.idle": "2025-03-02T02:36:15.230845Z",
     "shell.execute_reply": "2025-03-02T02:36:15.230001Z"
    },
    "papermill": {
     "duration": 0.272625,
     "end_time": "2025-03-02T02:36:15.232699",
     "exception": false,
     "start_time": "2025-03-02T02:36:14.960074",
     "status": "completed"
    },
    "tags": []
   },
   "outputs": [
    {
     "data": {
      "text/html": [
       "<iframe\n",
       "    scrolling=\"no\"\n",
       "    width=\"100%\"\n",
       "    height=\"545px\"\n",
       "    src=\"iframe_figures/figure_21.html\"\n",
       "    frameborder=\"0\"\n",
       "    allowfullscreen\n",
       "></iframe>\n"
      ]
     },
     "metadata": {},
     "output_type": "display_data"
    }
   ],
   "source": [
    "fig = px.box(df, x=\"Genre\", y=\"Ratings\", \n",
    "             title=\"Rating Distribution by Genre\",\n",
    "             color=\"Genre\",\n",
    "             color_discrete_sequence=px.colors.qualitative.Set2)\n",
    "\n",
    "fig.update_layout(\n",
    "    xaxis_title=\"Genre\",\n",
    "    yaxis_title=\"Ratings\",\n",
    "    font=dict(size=13),\n",
    "    template=\"plotly_dark\",\n",
    "    xaxis_tickangle=-15  \n",
    ")\n",
    "\n",
    "fig.show(renderer=\"iframe\")\n",
    "fig.write_image(\"box_plot.png\")"
   ]
  },
  {
   "cell_type": "markdown",
   "id": "525e314c",
   "metadata": {
    "papermill": {
     "duration": 0.009834,
     "end_time": "2025-03-02T02:36:15.253264",
     "exception": false,
     "start_time": "2025-03-02T02:36:15.243430",
     "status": "completed"
    },
    "tags": []
   },
   "source": [
    "Highest rating over time\n",
    "Looks like a bust\n",
    "Wait for claude to help"
   ]
  },
  {
   "cell_type": "code",
   "execution_count": 22,
   "id": "eb837079",
   "metadata": {
    "execution": {
     "iopub.execute_input": "2025-03-02T02:36:15.274797Z",
     "iopub.status.busy": "2025-03-02T02:36:15.274393Z",
     "iopub.status.idle": "2025-03-02T02:36:15.548251Z",
     "shell.execute_reply": "2025-03-02T02:36:15.547254Z"
    },
    "papermill": {
     "duration": 0.286639,
     "end_time": "2025-03-02T02:36:15.550086",
     "exception": false,
     "start_time": "2025-03-02T02:36:15.263447",
     "status": "completed"
    },
    "tags": []
   },
   "outputs": [
    {
     "data": {
      "text/html": [
       "<iframe\n",
       "    scrolling=\"no\"\n",
       "    width=\"100%\"\n",
       "    height=\"545px\"\n",
       "    src=\"iframe_figures/figure_22.html\"\n",
       "    frameborder=\"0\"\n",
       "    allowfullscreen\n",
       "></iframe>\n"
      ]
     },
     "metadata": {},
     "output_type": "display_data"
    }
   ],
   "source": [
    "fig = px.scatter(df, x=\"Budget (in Million USD)\", y=\"Ratings\", \n",
    "                 color=\"Genre\",  \n",
    "                 hover_data=[\"Anime Name\", \"Animation Studio Name\"],  \n",
    "                 template=\"plotly_dark\",  \n",
    "                 opacity=0.8)  \n",
    "\n",
    "fig.update_layout(\n",
    "    title=\"Budget vs Ratings of Anime\",\n",
    "    xaxis_title=\"Budget (Million USD)\",\n",
    "    yaxis_title=\"Ratings\",\n",
    "    font=dict(size=13),\n",
    "    legend_title=\"Genre\"\n",
    ")\n",
    "\n",
    "fig.show(renderer = \"iframe\")\n",
    "fig.write_image(\"plotly_chart.png\")"
   ]
  },
  {
   "cell_type": "markdown",
   "id": "e86ae285",
   "metadata": {
    "papermill": {
     "duration": 0.009994,
     "end_time": "2025-03-02T02:36:15.570943",
     "exception": false,
     "start_time": "2025-03-02T02:36:15.560949",
     "status": "completed"
    },
    "tags": []
   },
   "source": [
    "Create map of the world with most popular anime of each section."
   ]
  },
  {
   "cell_type": "code",
   "execution_count": 23,
   "id": "efb8abf8",
   "metadata": {
    "execution": {
     "iopub.execute_input": "2025-03-02T02:36:15.592559Z",
     "iopub.status.busy": "2025-03-02T02:36:15.592202Z",
     "iopub.status.idle": "2025-03-02T02:36:16.333735Z",
     "shell.execute_reply": "2025-03-02T02:36:16.332746Z"
    },
    "papermill": {
     "duration": 0.754493,
     "end_time": "2025-03-02T02:36:16.335637",
     "exception": false,
     "start_time": "2025-03-02T02:36:15.581144",
     "status": "completed"
    },
    "tags": []
   },
   "outputs": [
    {
     "data": {
      "text/html": [
       "<iframe\n",
       "    scrolling=\"no\"\n",
       "    width=\"100%\"\n",
       "    height=\"545px\"\n",
       "    src=\"iframe_figures/figure_23.html\"\n",
       "    frameborder=\"0\"\n",
       "    allowfullscreen\n",
       "></iframe>\n"
      ]
     },
     "metadata": {},
     "output_type": "display_data"
    }
   ],
   "source": [
    "import plotly.express as px\n",
    "\n",
    "fig = px.choropleth(df, \n",
    "                    locations=\"Most Watched in Country\",  \n",
    "                    locationmode=\"country names\",  \n",
    "                    color=\"Anime Name\",  # Color based on the most popular anime\n",
    "                    hover_name=\"Most Watched in Country\",  \n",
    "                    title=\"Most Popular Anime by Country\",  \n",
    "                    color_discrete_sequence=px.colors.qualitative.Set3)  # Use distinct colors\n",
    "\n",
    "fig.update_layout(\n",
    "    geo=dict(showcoastlines=True, showland=True, landcolor=\"lightgray\"),  \n",
    "    template=\"plotly_dark\",  \n",
    "    font=dict(size=12, color=\"white\"),  \n",
    "    title_font_size=20\n",
    ")\n",
    "\n",
    "fig.show(renderer=\"iframe\")\n",
    "fig.write_image(\"most_popular_anime_by_country.png\")"
   ]
  },
  {
   "cell_type": "markdown",
   "id": "d6c3f249",
   "metadata": {
    "papermill": {
     "duration": 0.009961,
     "end_time": "2025-03-02T02:36:16.356276",
     "exception": false,
     "start_time": "2025-03-02T02:36:16.346315",
     "status": "completed"
    },
    "tags": []
   },
   "source": [
    "Lets combine all our plots together into a preliminary visualization"
   ]
  },
  {
   "cell_type": "code",
   "execution_count": null,
   "id": "e55d6fdb",
   "metadata": {
    "papermill": {
     "duration": 0.009996,
     "end_time": "2025-03-02T02:36:16.376820",
     "exception": false,
     "start_time": "2025-03-02T02:36:16.366824",
     "status": "completed"
    },
    "tags": []
   },
   "outputs": [],
   "source": []
  }
 ],
 "metadata": {
  "kaggle": {
   "accelerator": "none",
   "dataSources": [
    {
     "datasetId": 6679030,
     "sourceId": 10766881,
     "sourceType": "datasetVersion"
    }
   ],
   "dockerImageVersionId": 30918,
   "isGpuEnabled": false,
   "isInternetEnabled": true,
   "language": "python",
   "sourceType": "notebook"
  },
  "kernelspec": {
   "display_name": "Python 3",
   "language": "python",
   "name": "python3"
  },
  "language_info": {
   "codemirror_mode": {
    "name": "ipython",
    "version": 3
   },
   "file_extension": ".py",
   "mimetype": "text/x-python",
   "name": "python",
   "nbconvert_exporter": "python",
   "pygments_lexer": "ipython3",
   "version": "3.10.12"
  },
  "papermill": {
   "default_parameters": {},
   "duration": 32.611344,
   "end_time": "2025-03-02T02:36:17.309216",
   "environment_variables": {},
   "exception": null,
   "input_path": "__notebook__.ipynb",
   "output_path": "__notebook__.ipynb",
   "parameters": {},
   "start_time": "2025-03-02T02:35:44.697872",
   "version": "2.6.0"
  },
  "widgets": {
   "application/vnd.jupyter.widget-state+json": {
    "state": {
     "0fbd2f2d83ac492e850957186c28c3be": {
      "model_module": "@jupyter-widgets/base",
      "model_module_version": "2.0.0",
      "model_name": "LayoutModel",
      "state": {
       "_model_module": "@jupyter-widgets/base",
       "_model_module_version": "2.0.0",
       "_model_name": "LayoutModel",
       "_view_count": null,
       "_view_module": "@jupyter-widgets/base",
       "_view_module_version": "2.0.0",
       "_view_name": "LayoutView",
       "align_content": null,
       "align_items": null,
       "align_self": null,
       "border_bottom": null,
       "border_left": null,
       "border_right": null,
       "border_top": null,
       "bottom": null,
       "display": null,
       "flex": null,
       "flex_flow": null,
       "grid_area": null,
       "grid_auto_columns": null,
       "grid_auto_flow": null,
       "grid_auto_rows": null,
       "grid_column": null,
       "grid_gap": null,
       "grid_row": null,
       "grid_template_areas": null,
       "grid_template_columns": null,
       "grid_template_rows": null,
       "height": null,
       "justify_content": null,
       "justify_items": null,
       "left": null,
       "margin": null,
       "max_height": null,
       "max_width": null,
       "min_height": null,
       "min_width": null,
       "object_fit": null,
       "object_position": null,
       "order": null,
       "overflow": null,
       "padding": null,
       "right": null,
       "top": null,
       "visibility": null,
       "width": null
      }
     },
     "1ddf2ef7f28b4700ba44a3940ec1c943": {
      "model_module": "@jupyter-widgets/base",
      "model_module_version": "2.0.0",
      "model_name": "LayoutModel",
      "state": {
       "_model_module": "@jupyter-widgets/base",
       "_model_module_version": "2.0.0",
       "_model_name": "LayoutModel",
       "_view_count": null,
       "_view_module": "@jupyter-widgets/base",
       "_view_module_version": "2.0.0",
       "_view_name": "LayoutView",
       "align_content": null,
       "align_items": null,
       "align_self": null,
       "border_bottom": null,
       "border_left": null,
       "border_right": null,
       "border_top": null,
       "bottom": null,
       "display": null,
       "flex": null,
       "flex_flow": null,
       "grid_area": null,
       "grid_auto_columns": null,
       "grid_auto_flow": null,
       "grid_auto_rows": null,
       "grid_column": null,
       "grid_gap": null,
       "grid_row": null,
       "grid_template_areas": null,
       "grid_template_columns": null,
       "grid_template_rows": null,
       "height": null,
       "justify_content": null,
       "justify_items": null,
       "left": null,
       "margin": null,
       "max_height": null,
       "max_width": null,
       "min_height": null,
       "min_width": null,
       "object_fit": null,
       "object_position": null,
       "order": null,
       "overflow": null,
       "padding": null,
       "right": null,
       "top": null,
       "visibility": null,
       "width": null
      }
     },
     "1dfd787951204856b4a6d53af11f631e": {
      "model_module": "@jupyter-widgets/output",
      "model_module_version": "1.0.0",
      "model_name": "OutputModel",
      "state": {
       "_dom_classes": [],
       "_model_module": "@jupyter-widgets/output",
       "_model_module_version": "1.0.0",
       "_model_name": "OutputModel",
       "_view_count": null,
       "_view_module": "@jupyter-widgets/output",
       "_view_module_version": "1.0.0",
       "_view_name": "OutputView",
       "layout": "IPY_MODEL_1ddf2ef7f28b4700ba44a3940ec1c943",
       "msg_id": "",
       "outputs": [],
       "tabbable": null,
       "tooltip": null
      }
     },
     "7355cd521223420fbbfba374133da06f": {
      "model_module": "@jupyter-widgets/controls",
      "model_module_version": "2.0.0",
      "model_name": "DropdownModel",
      "state": {
       "_dom_classes": [],
       "_model_module": "@jupyter-widgets/controls",
       "_model_module_version": "2.0.0",
       "_model_name": "DropdownModel",
       "_options_labels": [
        "Haikyuu!!",
        "Bleach",
        "Tokyo Ghoul",
        "Naruto",
        "Mob Psycho 100",
        "Neon Genesis Evangelion",
        "My Hero Academia",
        "Black Clover",
        "Death Note",
        "Re:Zero",
        "Demon Slayer",
        "Fairy Tail",
        "One Piece",
        "Attack on Titan",
        "Dragon Ball Z",
        "Spirited Away",
        "Hunter x Hunter",
        "Fullmetal Alchemist",
        "Sword Art Online",
        "Jujutsu Kaisen"
       ],
       "_view_count": null,
       "_view_module": "@jupyter-widgets/controls",
       "_view_module_version": "2.0.0",
       "_view_name": "DropdownView",
       "description": "Anime:",
       "description_allow_html": false,
       "disabled": false,
       "index": 0,
       "layout": "IPY_MODEL_99282ee9016d46f389f1651eb6f5e93e",
       "style": "IPY_MODEL_edcb6fa0815b454bbd389461da4f0369",
       "tabbable": null,
       "tooltip": null
      }
     },
     "80b15f2a4807407e910ebe0f7891c921": {
      "model_module": "@jupyter-widgets/output",
      "model_module_version": "1.0.0",
      "model_name": "OutputModel",
      "state": {
       "_dom_classes": [],
       "_model_module": "@jupyter-widgets/output",
       "_model_module_version": "1.0.0",
       "_model_name": "OutputModel",
       "_view_count": null,
       "_view_module": "@jupyter-widgets/output",
       "_view_module_version": "1.0.0",
       "_view_name": "OutputView",
       "layout": "IPY_MODEL_0fbd2f2d83ac492e850957186c28c3be",
       "msg_id": "",
       "outputs": [],
       "tabbable": null,
       "tooltip": null
      }
     },
     "80ced1084e8a4e2ba1b200f8193b3936": {
      "model_module": "@jupyter-widgets/controls",
      "model_module_version": "2.0.0",
      "model_name": "DropdownModel",
      "state": {
       "_dom_classes": [],
       "_model_module": "@jupyter-widgets/controls",
       "_model_module_version": "2.0.0",
       "_model_name": "DropdownModel",
       "_options_labels": [
        "Haikyuu!!",
        "Bleach",
        "Tokyo Ghoul",
        "Naruto",
        "Mob Psycho 100",
        "Neon Genesis Evangelion",
        "My Hero Academia",
        "Black Clover",
        "Death Note",
        "Re:Zero",
        "Demon Slayer",
        "Fairy Tail",
        "One Piece",
        "Attack on Titan",
        "Dragon Ball Z",
        "Spirited Away",
        "Hunter x Hunter",
        "Fullmetal Alchemist",
        "Sword Art Online",
        "Jujutsu Kaisen"
       ],
       "_view_count": null,
       "_view_module": "@jupyter-widgets/controls",
       "_view_module_version": "2.0.0",
       "_view_name": "DropdownView",
       "description": "Anime:",
       "description_allow_html": false,
       "disabled": false,
       "index": 0,
       "layout": "IPY_MODEL_9f5a00450312408897b5529e3f4b9b7e",
       "style": "IPY_MODEL_bff15cc1d8cd48b68dd2eb04cd4ce8ac",
       "tabbable": null,
       "tooltip": null
      }
     },
     "99282ee9016d46f389f1651eb6f5e93e": {
      "model_module": "@jupyter-widgets/base",
      "model_module_version": "2.0.0",
      "model_name": "LayoutModel",
      "state": {
       "_model_module": "@jupyter-widgets/base",
       "_model_module_version": "2.0.0",
       "_model_name": "LayoutModel",
       "_view_count": null,
       "_view_module": "@jupyter-widgets/base",
       "_view_module_version": "2.0.0",
       "_view_name": "LayoutView",
       "align_content": null,
       "align_items": null,
       "align_self": null,
       "border_bottom": null,
       "border_left": null,
       "border_right": null,
       "border_top": null,
       "bottom": null,
       "display": null,
       "flex": null,
       "flex_flow": null,
       "grid_area": null,
       "grid_auto_columns": null,
       "grid_auto_flow": null,
       "grid_auto_rows": null,
       "grid_column": null,
       "grid_gap": null,
       "grid_row": null,
       "grid_template_areas": null,
       "grid_template_columns": null,
       "grid_template_rows": null,
       "height": null,
       "justify_content": null,
       "justify_items": null,
       "left": null,
       "margin": null,
       "max_height": null,
       "max_width": null,
       "min_height": null,
       "min_width": null,
       "object_fit": null,
       "object_position": null,
       "order": null,
       "overflow": null,
       "padding": null,
       "right": null,
       "top": null,
       "visibility": null,
       "width": null
      }
     },
     "9f5a00450312408897b5529e3f4b9b7e": {
      "model_module": "@jupyter-widgets/base",
      "model_module_version": "2.0.0",
      "model_name": "LayoutModel",
      "state": {
       "_model_module": "@jupyter-widgets/base",
       "_model_module_version": "2.0.0",
       "_model_name": "LayoutModel",
       "_view_count": null,
       "_view_module": "@jupyter-widgets/base",
       "_view_module_version": "2.0.0",
       "_view_name": "LayoutView",
       "align_content": null,
       "align_items": null,
       "align_self": null,
       "border_bottom": null,
       "border_left": null,
       "border_right": null,
       "border_top": null,
       "bottom": null,
       "display": null,
       "flex": null,
       "flex_flow": null,
       "grid_area": null,
       "grid_auto_columns": null,
       "grid_auto_flow": null,
       "grid_auto_rows": null,
       "grid_column": null,
       "grid_gap": null,
       "grid_row": null,
       "grid_template_areas": null,
       "grid_template_columns": null,
       "grid_template_rows": null,
       "height": null,
       "justify_content": null,
       "justify_items": null,
       "left": null,
       "margin": null,
       "max_height": null,
       "max_width": null,
       "min_height": null,
       "min_width": null,
       "object_fit": null,
       "object_position": null,
       "order": null,
       "overflow": null,
       "padding": null,
       "right": null,
       "top": null,
       "visibility": null,
       "width": null
      }
     },
     "bff15cc1d8cd48b68dd2eb04cd4ce8ac": {
      "model_module": "@jupyter-widgets/controls",
      "model_module_version": "2.0.0",
      "model_name": "DescriptionStyleModel",
      "state": {
       "_model_module": "@jupyter-widgets/controls",
       "_model_module_version": "2.0.0",
       "_model_name": "DescriptionStyleModel",
       "_view_count": null,
       "_view_module": "@jupyter-widgets/base",
       "_view_module_version": "2.0.0",
       "_view_name": "StyleView",
       "description_width": ""
      }
     },
     "edcb6fa0815b454bbd389461da4f0369": {
      "model_module": "@jupyter-widgets/controls",
      "model_module_version": "2.0.0",
      "model_name": "DescriptionStyleModel",
      "state": {
       "_model_module": "@jupyter-widgets/controls",
       "_model_module_version": "2.0.0",
       "_model_name": "DescriptionStyleModel",
       "_view_count": null,
       "_view_module": "@jupyter-widgets/base",
       "_view_module_version": "2.0.0",
       "_view_name": "StyleView",
       "description_width": ""
      }
     }
    },
    "version_major": 2,
    "version_minor": 0
   }
  }
 },
 "nbformat": 4,
 "nbformat_minor": 5
}
